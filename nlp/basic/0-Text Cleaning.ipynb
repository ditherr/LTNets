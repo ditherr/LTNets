{
 "cells": [
  {
   "cell_type": "markdown",
   "metadata": {},
   "source": [
    "## **Text Cleaning**\n",
    "\n",
    "It's first part of Text Preprocessing:  Usually we remove the additional space, special characters, numbers (if needed), mentions (@), hashtag (h), link (https:/), and also replace the miss-spelling of words."
   ]
  },
  {
   "cell_type": "code",
   "execution_count": 1,
   "metadata": {},
   "outputs": [],
   "source": [
    "import re\n",
    "import string\n",
    "from bs4 import BeautifulSoup"
   ]
  },
  {
   "cell_type": "code",
   "execution_count": 37,
   "metadata": {},
   "outputs": [],
   "source": [
    "corpus = \"\"\"I really liked this 5 story, but â my reality meter sometimes buzzed too loud for me\n",
    "to ihnore, #forget and if you've read anything, http://www.amazon.com/Marita-Baxter/e/B00L1CZOS4\n",
    "\"\"\""
   ]
  },
  {
   "cell_type": "code",
   "execution_count": 39,
   "metadata": {},
   "outputs": [],
   "source": [
    "def text_cleaning(text):\n",
    "    # remove username mentions\n",
    "    text = re.sub(r'@[A-Za-z0-9_[A-Za-z0-9+$]+', '', text)\n",
    "    text = re.sub('_[A-Za-z0-9]+$', '',text) \n",
    "    \n",
    "     # remove hashtag\n",
    "    text = re.sub(r'#[A-Za-z0-9]+', '', text)\n",
    "    text = re.sub(r'RT[\\s]', '', text) # remove RT\n",
    "    \n",
    "    # remove url, html\n",
    "    text = re.sub(r\"http\\S+\", '', text)\n",
    "    text = re.sub(r'(http|https|ftp|ssh)://([\\w_-]+(?:(?:\\.[\\w_-]+)+))([\\w.,@?^=%&:/~+#-]*[\\w@?^=%&/~+#-])?', '' , str(text))\n",
    "    text = BeautifulSoup(text, 'lxml').get_text()\n",
    "\n",
    "    #remove numbers\n",
    "    text = re.sub(r'[0-9]+', '', text)\n",
    "\n",
    "    #remove other symbol from tweet\n",
    "    text = re.sub(r'â ', '', text)\n",
    "    \n",
    "    # replace miss-spelling\n",
    "    text = text.replace('ihnore', 'ignore')\n",
    "\n",
    "    # replace new line into space\n",
    "    text = text.replace('\\n', ' ') \n",
    "    \n",
    "    # remove all punctuations\n",
    "    text = text.translate(str.maketrans('', '', string.punctuation))\n",
    "    # text = text.split('')\n",
    "    return text"
   ]
  },
  {
   "cell_type": "code",
   "execution_count": 40,
   "metadata": {},
   "outputs": [
    {
     "name": "stdout",
     "output_type": "stream",
     "text": [
      "I really liked this 5 story, but â my reality meter sometimes buzzed too loud for me\n",
      "to ihnore, #forget and if you've read anything, http://www.amazon.com/Marita-Baxter/e/B00L1CZOS4\n",
      "\n"
     ]
    }
   ],
   "source": [
    "print(corpus)"
   ]
  },
  {
   "cell_type": "code",
   "execution_count": 41,
   "metadata": {},
   "outputs": [],
   "source": [
    "# Apply Text Cleaning\n",
    "text_clean = text_cleaning(corpus)"
   ]
  },
  {
   "cell_type": "code",
   "execution_count": 42,
   "metadata": {},
   "outputs": [
    {
     "name": "stdout",
     "output_type": "stream",
     "text": [
      "I really liked this  story but my reality meter sometimes buzzed too loud for me to ignore  and if youve read anything  \n"
     ]
    }
   ],
   "source": [
    "print(text_clean)"
   ]
  }
 ],
 "metadata": {
  "kernelspec": {
   "display_name": "Python 3",
   "language": "python",
   "name": "python3"
  },
  "language_info": {
   "codemirror_mode": {
    "name": "ipython",
    "version": 3
   },
   "file_extension": ".py",
   "mimetype": "text/x-python",
   "name": "python",
   "nbconvert_exporter": "python",
   "pygments_lexer": "ipython3",
   "version": "3.12.0"
  }
 },
 "nbformat": 4,
 "nbformat_minor": 2
}
