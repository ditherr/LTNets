{
  "nbformat": 4,
  "nbformat_minor": 0,
  "metadata": {
    "colab": {
      "provenance": []
    },
    "kernelspec": {
      "name": "python3",
      "display_name": "Python 3"
    },
    "language_info": {
      "name": "python"
    },
    "widgets": {
      "application/vnd.jupyter.widget-state+json": {
        "3504c5b23990468b93b94d34997702e1": {
          "model_module": "@jupyter-widgets/controls",
          "model_name": "HBoxModel",
          "model_module_version": "1.5.0",
          "state": {
            "_dom_classes": [],
            "_model_module": "@jupyter-widgets/controls",
            "_model_module_version": "1.5.0",
            "_model_name": "HBoxModel",
            "_view_count": null,
            "_view_module": "@jupyter-widgets/controls",
            "_view_module_version": "1.5.0",
            "_view_name": "HBoxView",
            "box_style": "",
            "children": [
              "IPY_MODEL_41bd846e49594caf8597f5f93e9069f4",
              "IPY_MODEL_df1b1247009f48b0a0cd2e7905ae9b73",
              "IPY_MODEL_9b90a4f26efc47918d5e3592e2c1e2ab"
            ],
            "layout": "IPY_MODEL_a1ce76fec346402b852b6712a7791815"
          }
        },
        "41bd846e49594caf8597f5f93e9069f4": {
          "model_module": "@jupyter-widgets/controls",
          "model_name": "HTMLModel",
          "model_module_version": "1.5.0",
          "state": {
            "_dom_classes": [],
            "_model_module": "@jupyter-widgets/controls",
            "_model_module_version": "1.5.0",
            "_model_name": "HTMLModel",
            "_view_count": null,
            "_view_module": "@jupyter-widgets/controls",
            "_view_module_version": "1.5.0",
            "_view_name": "HTMLView",
            "description": "",
            "description_tooltip": null,
            "layout": "IPY_MODEL_117e53851dca4226a7c87faf0724a6fa",
            "placeholder": "​",
            "style": "IPY_MODEL_10c6a7ae522749d4bb982638f8d1b4e4",
            "value": "tokenizer_config.json: 100%"
          }
        },
        "df1b1247009f48b0a0cd2e7905ae9b73": {
          "model_module": "@jupyter-widgets/controls",
          "model_name": "FloatProgressModel",
          "model_module_version": "1.5.0",
          "state": {
            "_dom_classes": [],
            "_model_module": "@jupyter-widgets/controls",
            "_model_module_version": "1.5.0",
            "_model_name": "FloatProgressModel",
            "_view_count": null,
            "_view_module": "@jupyter-widgets/controls",
            "_view_module_version": "1.5.0",
            "_view_name": "ProgressView",
            "bar_style": "success",
            "description": "",
            "description_tooltip": null,
            "layout": "IPY_MODEL_6791b3f6b8004cce92d4db8c04977729",
            "max": 49,
            "min": 0,
            "orientation": "horizontal",
            "style": "IPY_MODEL_1e6124116a3b44198fd573d028b9f92e",
            "value": 49
          }
        },
        "9b90a4f26efc47918d5e3592e2c1e2ab": {
          "model_module": "@jupyter-widgets/controls",
          "model_name": "HTMLModel",
          "model_module_version": "1.5.0",
          "state": {
            "_dom_classes": [],
            "_model_module": "@jupyter-widgets/controls",
            "_model_module_version": "1.5.0",
            "_model_name": "HTMLModel",
            "_view_count": null,
            "_view_module": "@jupyter-widgets/controls",
            "_view_module_version": "1.5.0",
            "_view_name": "HTMLView",
            "description": "",
            "description_tooltip": null,
            "layout": "IPY_MODEL_1e8443331a2e4f8b8b5f18a8c40af307",
            "placeholder": "​",
            "style": "IPY_MODEL_b14cb8830fa145ea926dc6ad0891d501",
            "value": " 49.0/49.0 [00:00&lt;00:00, 1.01kB/s]"
          }
        },
        "a1ce76fec346402b852b6712a7791815": {
          "model_module": "@jupyter-widgets/base",
          "model_name": "LayoutModel",
          "model_module_version": "1.2.0",
          "state": {
            "_model_module": "@jupyter-widgets/base",
            "_model_module_version": "1.2.0",
            "_model_name": "LayoutModel",
            "_view_count": null,
            "_view_module": "@jupyter-widgets/base",
            "_view_module_version": "1.2.0",
            "_view_name": "LayoutView",
            "align_content": null,
            "align_items": null,
            "align_self": null,
            "border": null,
            "bottom": null,
            "display": null,
            "flex": null,
            "flex_flow": null,
            "grid_area": null,
            "grid_auto_columns": null,
            "grid_auto_flow": null,
            "grid_auto_rows": null,
            "grid_column": null,
            "grid_gap": null,
            "grid_row": null,
            "grid_template_areas": null,
            "grid_template_columns": null,
            "grid_template_rows": null,
            "height": null,
            "justify_content": null,
            "justify_items": null,
            "left": null,
            "margin": null,
            "max_height": null,
            "max_width": null,
            "min_height": null,
            "min_width": null,
            "object_fit": null,
            "object_position": null,
            "order": null,
            "overflow": null,
            "overflow_x": null,
            "overflow_y": null,
            "padding": null,
            "right": null,
            "top": null,
            "visibility": null,
            "width": null
          }
        },
        "117e53851dca4226a7c87faf0724a6fa": {
          "model_module": "@jupyter-widgets/base",
          "model_name": "LayoutModel",
          "model_module_version": "1.2.0",
          "state": {
            "_model_module": "@jupyter-widgets/base",
            "_model_module_version": "1.2.0",
            "_model_name": "LayoutModel",
            "_view_count": null,
            "_view_module": "@jupyter-widgets/base",
            "_view_module_version": "1.2.0",
            "_view_name": "LayoutView",
            "align_content": null,
            "align_items": null,
            "align_self": null,
            "border": null,
            "bottom": null,
            "display": null,
            "flex": null,
            "flex_flow": null,
            "grid_area": null,
            "grid_auto_columns": null,
            "grid_auto_flow": null,
            "grid_auto_rows": null,
            "grid_column": null,
            "grid_gap": null,
            "grid_row": null,
            "grid_template_areas": null,
            "grid_template_columns": null,
            "grid_template_rows": null,
            "height": null,
            "justify_content": null,
            "justify_items": null,
            "left": null,
            "margin": null,
            "max_height": null,
            "max_width": null,
            "min_height": null,
            "min_width": null,
            "object_fit": null,
            "object_position": null,
            "order": null,
            "overflow": null,
            "overflow_x": null,
            "overflow_y": null,
            "padding": null,
            "right": null,
            "top": null,
            "visibility": null,
            "width": null
          }
        },
        "10c6a7ae522749d4bb982638f8d1b4e4": {
          "model_module": "@jupyter-widgets/controls",
          "model_name": "DescriptionStyleModel",
          "model_module_version": "1.5.0",
          "state": {
            "_model_module": "@jupyter-widgets/controls",
            "_model_module_version": "1.5.0",
            "_model_name": "DescriptionStyleModel",
            "_view_count": null,
            "_view_module": "@jupyter-widgets/base",
            "_view_module_version": "1.2.0",
            "_view_name": "StyleView",
            "description_width": ""
          }
        },
        "6791b3f6b8004cce92d4db8c04977729": {
          "model_module": "@jupyter-widgets/base",
          "model_name": "LayoutModel",
          "model_module_version": "1.2.0",
          "state": {
            "_model_module": "@jupyter-widgets/base",
            "_model_module_version": "1.2.0",
            "_model_name": "LayoutModel",
            "_view_count": null,
            "_view_module": "@jupyter-widgets/base",
            "_view_module_version": "1.2.0",
            "_view_name": "LayoutView",
            "align_content": null,
            "align_items": null,
            "align_self": null,
            "border": null,
            "bottom": null,
            "display": null,
            "flex": null,
            "flex_flow": null,
            "grid_area": null,
            "grid_auto_columns": null,
            "grid_auto_flow": null,
            "grid_auto_rows": null,
            "grid_column": null,
            "grid_gap": null,
            "grid_row": null,
            "grid_template_areas": null,
            "grid_template_columns": null,
            "grid_template_rows": null,
            "height": null,
            "justify_content": null,
            "justify_items": null,
            "left": null,
            "margin": null,
            "max_height": null,
            "max_width": null,
            "min_height": null,
            "min_width": null,
            "object_fit": null,
            "object_position": null,
            "order": null,
            "overflow": null,
            "overflow_x": null,
            "overflow_y": null,
            "padding": null,
            "right": null,
            "top": null,
            "visibility": null,
            "width": null
          }
        },
        "1e6124116a3b44198fd573d028b9f92e": {
          "model_module": "@jupyter-widgets/controls",
          "model_name": "ProgressStyleModel",
          "model_module_version": "1.5.0",
          "state": {
            "_model_module": "@jupyter-widgets/controls",
            "_model_module_version": "1.5.0",
            "_model_name": "ProgressStyleModel",
            "_view_count": null,
            "_view_module": "@jupyter-widgets/base",
            "_view_module_version": "1.2.0",
            "_view_name": "StyleView",
            "bar_color": null,
            "description_width": ""
          }
        },
        "1e8443331a2e4f8b8b5f18a8c40af307": {
          "model_module": "@jupyter-widgets/base",
          "model_name": "LayoutModel",
          "model_module_version": "1.2.0",
          "state": {
            "_model_module": "@jupyter-widgets/base",
            "_model_module_version": "1.2.0",
            "_model_name": "LayoutModel",
            "_view_count": null,
            "_view_module": "@jupyter-widgets/base",
            "_view_module_version": "1.2.0",
            "_view_name": "LayoutView",
            "align_content": null,
            "align_items": null,
            "align_self": null,
            "border": null,
            "bottom": null,
            "display": null,
            "flex": null,
            "flex_flow": null,
            "grid_area": null,
            "grid_auto_columns": null,
            "grid_auto_flow": null,
            "grid_auto_rows": null,
            "grid_column": null,
            "grid_gap": null,
            "grid_row": null,
            "grid_template_areas": null,
            "grid_template_columns": null,
            "grid_template_rows": null,
            "height": null,
            "justify_content": null,
            "justify_items": null,
            "left": null,
            "margin": null,
            "max_height": null,
            "max_width": null,
            "min_height": null,
            "min_width": null,
            "object_fit": null,
            "object_position": null,
            "order": null,
            "overflow": null,
            "overflow_x": null,
            "overflow_y": null,
            "padding": null,
            "right": null,
            "top": null,
            "visibility": null,
            "width": null
          }
        },
        "b14cb8830fa145ea926dc6ad0891d501": {
          "model_module": "@jupyter-widgets/controls",
          "model_name": "DescriptionStyleModel",
          "model_module_version": "1.5.0",
          "state": {
            "_model_module": "@jupyter-widgets/controls",
            "_model_module_version": "1.5.0",
            "_model_name": "DescriptionStyleModel",
            "_view_count": null,
            "_view_module": "@jupyter-widgets/base",
            "_view_module_version": "1.2.0",
            "_view_name": "StyleView",
            "description_width": ""
          }
        },
        "5db85297e9194babbaeb8b7fcba32f91": {
          "model_module": "@jupyter-widgets/controls",
          "model_name": "HBoxModel",
          "model_module_version": "1.5.0",
          "state": {
            "_dom_classes": [],
            "_model_module": "@jupyter-widgets/controls",
            "_model_module_version": "1.5.0",
            "_model_name": "HBoxModel",
            "_view_count": null,
            "_view_module": "@jupyter-widgets/controls",
            "_view_module_version": "1.5.0",
            "_view_name": "HBoxView",
            "box_style": "",
            "children": [
              "IPY_MODEL_58bc684402bc459d8accbf6a4c77b11a",
              "IPY_MODEL_1398bd212b984e7ca83b7bca53a17444",
              "IPY_MODEL_0314e5d580fc4630bfa696a5d23eb1cd"
            ],
            "layout": "IPY_MODEL_270c98fd2042429e8d7246f73906f2db"
          }
        },
        "58bc684402bc459d8accbf6a4c77b11a": {
          "model_module": "@jupyter-widgets/controls",
          "model_name": "HTMLModel",
          "model_module_version": "1.5.0",
          "state": {
            "_dom_classes": [],
            "_model_module": "@jupyter-widgets/controls",
            "_model_module_version": "1.5.0",
            "_model_name": "HTMLModel",
            "_view_count": null,
            "_view_module": "@jupyter-widgets/controls",
            "_view_module_version": "1.5.0",
            "_view_name": "HTMLView",
            "description": "",
            "description_tooltip": null,
            "layout": "IPY_MODEL_76a937a0aa97438a96d9c604121fb97b",
            "placeholder": "​",
            "style": "IPY_MODEL_8a4df1e4a18049819607e3e5310fbc86",
            "value": "config.json: 100%"
          }
        },
        "1398bd212b984e7ca83b7bca53a17444": {
          "model_module": "@jupyter-widgets/controls",
          "model_name": "FloatProgressModel",
          "model_module_version": "1.5.0",
          "state": {
            "_dom_classes": [],
            "_model_module": "@jupyter-widgets/controls",
            "_model_module_version": "1.5.0",
            "_model_name": "FloatProgressModel",
            "_view_count": null,
            "_view_module": "@jupyter-widgets/controls",
            "_view_module_version": "1.5.0",
            "_view_name": "ProgressView",
            "bar_style": "success",
            "description": "",
            "description_tooltip": null,
            "layout": "IPY_MODEL_6fe91282a74142eaa25f65d89de3d473",
            "max": 570,
            "min": 0,
            "orientation": "horizontal",
            "style": "IPY_MODEL_a9b35bb823f94a21adb913f294f6286d",
            "value": 570
          }
        },
        "0314e5d580fc4630bfa696a5d23eb1cd": {
          "model_module": "@jupyter-widgets/controls",
          "model_name": "HTMLModel",
          "model_module_version": "1.5.0",
          "state": {
            "_dom_classes": [],
            "_model_module": "@jupyter-widgets/controls",
            "_model_module_version": "1.5.0",
            "_model_name": "HTMLModel",
            "_view_count": null,
            "_view_module": "@jupyter-widgets/controls",
            "_view_module_version": "1.5.0",
            "_view_name": "HTMLView",
            "description": "",
            "description_tooltip": null,
            "layout": "IPY_MODEL_e8d3d7ad55f944df83804ca2421aa374",
            "placeholder": "​",
            "style": "IPY_MODEL_c0d5d3f56b1740bebecdf0c9bc1ba956",
            "value": " 570/570 [00:00&lt;00:00, 9.22kB/s]"
          }
        },
        "270c98fd2042429e8d7246f73906f2db": {
          "model_module": "@jupyter-widgets/base",
          "model_name": "LayoutModel",
          "model_module_version": "1.2.0",
          "state": {
            "_model_module": "@jupyter-widgets/base",
            "_model_module_version": "1.2.0",
            "_model_name": "LayoutModel",
            "_view_count": null,
            "_view_module": "@jupyter-widgets/base",
            "_view_module_version": "1.2.0",
            "_view_name": "LayoutView",
            "align_content": null,
            "align_items": null,
            "align_self": null,
            "border": null,
            "bottom": null,
            "display": null,
            "flex": null,
            "flex_flow": null,
            "grid_area": null,
            "grid_auto_columns": null,
            "grid_auto_flow": null,
            "grid_auto_rows": null,
            "grid_column": null,
            "grid_gap": null,
            "grid_row": null,
            "grid_template_areas": null,
            "grid_template_columns": null,
            "grid_template_rows": null,
            "height": null,
            "justify_content": null,
            "justify_items": null,
            "left": null,
            "margin": null,
            "max_height": null,
            "max_width": null,
            "min_height": null,
            "min_width": null,
            "object_fit": null,
            "object_position": null,
            "order": null,
            "overflow": null,
            "overflow_x": null,
            "overflow_y": null,
            "padding": null,
            "right": null,
            "top": null,
            "visibility": null,
            "width": null
          }
        },
        "76a937a0aa97438a96d9c604121fb97b": {
          "model_module": "@jupyter-widgets/base",
          "model_name": "LayoutModel",
          "model_module_version": "1.2.0",
          "state": {
            "_model_module": "@jupyter-widgets/base",
            "_model_module_version": "1.2.0",
            "_model_name": "LayoutModel",
            "_view_count": null,
            "_view_module": "@jupyter-widgets/base",
            "_view_module_version": "1.2.0",
            "_view_name": "LayoutView",
            "align_content": null,
            "align_items": null,
            "align_self": null,
            "border": null,
            "bottom": null,
            "display": null,
            "flex": null,
            "flex_flow": null,
            "grid_area": null,
            "grid_auto_columns": null,
            "grid_auto_flow": null,
            "grid_auto_rows": null,
            "grid_column": null,
            "grid_gap": null,
            "grid_row": null,
            "grid_template_areas": null,
            "grid_template_columns": null,
            "grid_template_rows": null,
            "height": null,
            "justify_content": null,
            "justify_items": null,
            "left": null,
            "margin": null,
            "max_height": null,
            "max_width": null,
            "min_height": null,
            "min_width": null,
            "object_fit": null,
            "object_position": null,
            "order": null,
            "overflow": null,
            "overflow_x": null,
            "overflow_y": null,
            "padding": null,
            "right": null,
            "top": null,
            "visibility": null,
            "width": null
          }
        },
        "8a4df1e4a18049819607e3e5310fbc86": {
          "model_module": "@jupyter-widgets/controls",
          "model_name": "DescriptionStyleModel",
          "model_module_version": "1.5.0",
          "state": {
            "_model_module": "@jupyter-widgets/controls",
            "_model_module_version": "1.5.0",
            "_model_name": "DescriptionStyleModel",
            "_view_count": null,
            "_view_module": "@jupyter-widgets/base",
            "_view_module_version": "1.2.0",
            "_view_name": "StyleView",
            "description_width": ""
          }
        },
        "6fe91282a74142eaa25f65d89de3d473": {
          "model_module": "@jupyter-widgets/base",
          "model_name": "LayoutModel",
          "model_module_version": "1.2.0",
          "state": {
            "_model_module": "@jupyter-widgets/base",
            "_model_module_version": "1.2.0",
            "_model_name": "LayoutModel",
            "_view_count": null,
            "_view_module": "@jupyter-widgets/base",
            "_view_module_version": "1.2.0",
            "_view_name": "LayoutView",
            "align_content": null,
            "align_items": null,
            "align_self": null,
            "border": null,
            "bottom": null,
            "display": null,
            "flex": null,
            "flex_flow": null,
            "grid_area": null,
            "grid_auto_columns": null,
            "grid_auto_flow": null,
            "grid_auto_rows": null,
            "grid_column": null,
            "grid_gap": null,
            "grid_row": null,
            "grid_template_areas": null,
            "grid_template_columns": null,
            "grid_template_rows": null,
            "height": null,
            "justify_content": null,
            "justify_items": null,
            "left": null,
            "margin": null,
            "max_height": null,
            "max_width": null,
            "min_height": null,
            "min_width": null,
            "object_fit": null,
            "object_position": null,
            "order": null,
            "overflow": null,
            "overflow_x": null,
            "overflow_y": null,
            "padding": null,
            "right": null,
            "top": null,
            "visibility": null,
            "width": null
          }
        },
        "a9b35bb823f94a21adb913f294f6286d": {
          "model_module": "@jupyter-widgets/controls",
          "model_name": "ProgressStyleModel",
          "model_module_version": "1.5.0",
          "state": {
            "_model_module": "@jupyter-widgets/controls",
            "_model_module_version": "1.5.0",
            "_model_name": "ProgressStyleModel",
            "_view_count": null,
            "_view_module": "@jupyter-widgets/base",
            "_view_module_version": "1.2.0",
            "_view_name": "StyleView",
            "bar_color": null,
            "description_width": ""
          }
        },
        "e8d3d7ad55f944df83804ca2421aa374": {
          "model_module": "@jupyter-widgets/base",
          "model_name": "LayoutModel",
          "model_module_version": "1.2.0",
          "state": {
            "_model_module": "@jupyter-widgets/base",
            "_model_module_version": "1.2.0",
            "_model_name": "LayoutModel",
            "_view_count": null,
            "_view_module": "@jupyter-widgets/base",
            "_view_module_version": "1.2.0",
            "_view_name": "LayoutView",
            "align_content": null,
            "align_items": null,
            "align_self": null,
            "border": null,
            "bottom": null,
            "display": null,
            "flex": null,
            "flex_flow": null,
            "grid_area": null,
            "grid_auto_columns": null,
            "grid_auto_flow": null,
            "grid_auto_rows": null,
            "grid_column": null,
            "grid_gap": null,
            "grid_row": null,
            "grid_template_areas": null,
            "grid_template_columns": null,
            "grid_template_rows": null,
            "height": null,
            "justify_content": null,
            "justify_items": null,
            "left": null,
            "margin": null,
            "max_height": null,
            "max_width": null,
            "min_height": null,
            "min_width": null,
            "object_fit": null,
            "object_position": null,
            "order": null,
            "overflow": null,
            "overflow_x": null,
            "overflow_y": null,
            "padding": null,
            "right": null,
            "top": null,
            "visibility": null,
            "width": null
          }
        },
        "c0d5d3f56b1740bebecdf0c9bc1ba956": {
          "model_module": "@jupyter-widgets/controls",
          "model_name": "DescriptionStyleModel",
          "model_module_version": "1.5.0",
          "state": {
            "_model_module": "@jupyter-widgets/controls",
            "_model_module_version": "1.5.0",
            "_model_name": "DescriptionStyleModel",
            "_view_count": null,
            "_view_module": "@jupyter-widgets/base",
            "_view_module_version": "1.2.0",
            "_view_name": "StyleView",
            "description_width": ""
          }
        },
        "5f930ce99e024e908f9d0a8c87b66405": {
          "model_module": "@jupyter-widgets/controls",
          "model_name": "HBoxModel",
          "model_module_version": "1.5.0",
          "state": {
            "_dom_classes": [],
            "_model_module": "@jupyter-widgets/controls",
            "_model_module_version": "1.5.0",
            "_model_name": "HBoxModel",
            "_view_count": null,
            "_view_module": "@jupyter-widgets/controls",
            "_view_module_version": "1.5.0",
            "_view_name": "HBoxView",
            "box_style": "",
            "children": [
              "IPY_MODEL_984b1363433f44ac8978ffbf3e68ea77",
              "IPY_MODEL_a9b22521df8641a9817c834b134a2622",
              "IPY_MODEL_38c224ad1daa4c55ab3ebf83aea777dd"
            ],
            "layout": "IPY_MODEL_f7ea3606b86649349f8a61c3d582b043"
          }
        },
        "984b1363433f44ac8978ffbf3e68ea77": {
          "model_module": "@jupyter-widgets/controls",
          "model_name": "HTMLModel",
          "model_module_version": "1.5.0",
          "state": {
            "_dom_classes": [],
            "_model_module": "@jupyter-widgets/controls",
            "_model_module_version": "1.5.0",
            "_model_name": "HTMLModel",
            "_view_count": null,
            "_view_module": "@jupyter-widgets/controls",
            "_view_module_version": "1.5.0",
            "_view_name": "HTMLView",
            "description": "",
            "description_tooltip": null,
            "layout": "IPY_MODEL_af07a175ec6e481ba2500473a7fce017",
            "placeholder": "​",
            "style": "IPY_MODEL_b231a8728e254796a844ab322b7bf96a",
            "value": "vocab.txt: 100%"
          }
        },
        "a9b22521df8641a9817c834b134a2622": {
          "model_module": "@jupyter-widgets/controls",
          "model_name": "FloatProgressModel",
          "model_module_version": "1.5.0",
          "state": {
            "_dom_classes": [],
            "_model_module": "@jupyter-widgets/controls",
            "_model_module_version": "1.5.0",
            "_model_name": "FloatProgressModel",
            "_view_count": null,
            "_view_module": "@jupyter-widgets/controls",
            "_view_module_version": "1.5.0",
            "_view_name": "ProgressView",
            "bar_style": "success",
            "description": "",
            "description_tooltip": null,
            "layout": "IPY_MODEL_a27676b18145430e9408989d44929bdd",
            "max": 213450,
            "min": 0,
            "orientation": "horizontal",
            "style": "IPY_MODEL_ea148ff36aeb4b608d4ac18ddea2a802",
            "value": 213450
          }
        },
        "38c224ad1daa4c55ab3ebf83aea777dd": {
          "model_module": "@jupyter-widgets/controls",
          "model_name": "HTMLModel",
          "model_module_version": "1.5.0",
          "state": {
            "_dom_classes": [],
            "_model_module": "@jupyter-widgets/controls",
            "_model_module_version": "1.5.0",
            "_model_name": "HTMLModel",
            "_view_count": null,
            "_view_module": "@jupyter-widgets/controls",
            "_view_module_version": "1.5.0",
            "_view_name": "HTMLView",
            "description": "",
            "description_tooltip": null,
            "layout": "IPY_MODEL_492708e256184eca9bdb22cf362f1137",
            "placeholder": "​",
            "style": "IPY_MODEL_935d8d26a5254c5f987ee007ccb04bc4",
            "value": " 213k/213k [00:00&lt;00:00, 2.29MB/s]"
          }
        },
        "f7ea3606b86649349f8a61c3d582b043": {
          "model_module": "@jupyter-widgets/base",
          "model_name": "LayoutModel",
          "model_module_version": "1.2.0",
          "state": {
            "_model_module": "@jupyter-widgets/base",
            "_model_module_version": "1.2.0",
            "_model_name": "LayoutModel",
            "_view_count": null,
            "_view_module": "@jupyter-widgets/base",
            "_view_module_version": "1.2.0",
            "_view_name": "LayoutView",
            "align_content": null,
            "align_items": null,
            "align_self": null,
            "border": null,
            "bottom": null,
            "display": null,
            "flex": null,
            "flex_flow": null,
            "grid_area": null,
            "grid_auto_columns": null,
            "grid_auto_flow": null,
            "grid_auto_rows": null,
            "grid_column": null,
            "grid_gap": null,
            "grid_row": null,
            "grid_template_areas": null,
            "grid_template_columns": null,
            "grid_template_rows": null,
            "height": null,
            "justify_content": null,
            "justify_items": null,
            "left": null,
            "margin": null,
            "max_height": null,
            "max_width": null,
            "min_height": null,
            "min_width": null,
            "object_fit": null,
            "object_position": null,
            "order": null,
            "overflow": null,
            "overflow_x": null,
            "overflow_y": null,
            "padding": null,
            "right": null,
            "top": null,
            "visibility": null,
            "width": null
          }
        },
        "af07a175ec6e481ba2500473a7fce017": {
          "model_module": "@jupyter-widgets/base",
          "model_name": "LayoutModel",
          "model_module_version": "1.2.0",
          "state": {
            "_model_module": "@jupyter-widgets/base",
            "_model_module_version": "1.2.0",
            "_model_name": "LayoutModel",
            "_view_count": null,
            "_view_module": "@jupyter-widgets/base",
            "_view_module_version": "1.2.0",
            "_view_name": "LayoutView",
            "align_content": null,
            "align_items": null,
            "align_self": null,
            "border": null,
            "bottom": null,
            "display": null,
            "flex": null,
            "flex_flow": null,
            "grid_area": null,
            "grid_auto_columns": null,
            "grid_auto_flow": null,
            "grid_auto_rows": null,
            "grid_column": null,
            "grid_gap": null,
            "grid_row": null,
            "grid_template_areas": null,
            "grid_template_columns": null,
            "grid_template_rows": null,
            "height": null,
            "justify_content": null,
            "justify_items": null,
            "left": null,
            "margin": null,
            "max_height": null,
            "max_width": null,
            "min_height": null,
            "min_width": null,
            "object_fit": null,
            "object_position": null,
            "order": null,
            "overflow": null,
            "overflow_x": null,
            "overflow_y": null,
            "padding": null,
            "right": null,
            "top": null,
            "visibility": null,
            "width": null
          }
        },
        "b231a8728e254796a844ab322b7bf96a": {
          "model_module": "@jupyter-widgets/controls",
          "model_name": "DescriptionStyleModel",
          "model_module_version": "1.5.0",
          "state": {
            "_model_module": "@jupyter-widgets/controls",
            "_model_module_version": "1.5.0",
            "_model_name": "DescriptionStyleModel",
            "_view_count": null,
            "_view_module": "@jupyter-widgets/base",
            "_view_module_version": "1.2.0",
            "_view_name": "StyleView",
            "description_width": ""
          }
        },
        "a27676b18145430e9408989d44929bdd": {
          "model_module": "@jupyter-widgets/base",
          "model_name": "LayoutModel",
          "model_module_version": "1.2.0",
          "state": {
            "_model_module": "@jupyter-widgets/base",
            "_model_module_version": "1.2.0",
            "_model_name": "LayoutModel",
            "_view_count": null,
            "_view_module": "@jupyter-widgets/base",
            "_view_module_version": "1.2.0",
            "_view_name": "LayoutView",
            "align_content": null,
            "align_items": null,
            "align_self": null,
            "border": null,
            "bottom": null,
            "display": null,
            "flex": null,
            "flex_flow": null,
            "grid_area": null,
            "grid_auto_columns": null,
            "grid_auto_flow": null,
            "grid_auto_rows": null,
            "grid_column": null,
            "grid_gap": null,
            "grid_row": null,
            "grid_template_areas": null,
            "grid_template_columns": null,
            "grid_template_rows": null,
            "height": null,
            "justify_content": null,
            "justify_items": null,
            "left": null,
            "margin": null,
            "max_height": null,
            "max_width": null,
            "min_height": null,
            "min_width": null,
            "object_fit": null,
            "object_position": null,
            "order": null,
            "overflow": null,
            "overflow_x": null,
            "overflow_y": null,
            "padding": null,
            "right": null,
            "top": null,
            "visibility": null,
            "width": null
          }
        },
        "ea148ff36aeb4b608d4ac18ddea2a802": {
          "model_module": "@jupyter-widgets/controls",
          "model_name": "ProgressStyleModel",
          "model_module_version": "1.5.0",
          "state": {
            "_model_module": "@jupyter-widgets/controls",
            "_model_module_version": "1.5.0",
            "_model_name": "ProgressStyleModel",
            "_view_count": null,
            "_view_module": "@jupyter-widgets/base",
            "_view_module_version": "1.2.0",
            "_view_name": "StyleView",
            "bar_color": null,
            "description_width": ""
          }
        },
        "492708e256184eca9bdb22cf362f1137": {
          "model_module": "@jupyter-widgets/base",
          "model_name": "LayoutModel",
          "model_module_version": "1.2.0",
          "state": {
            "_model_module": "@jupyter-widgets/base",
            "_model_module_version": "1.2.0",
            "_model_name": "LayoutModel",
            "_view_count": null,
            "_view_module": "@jupyter-widgets/base",
            "_view_module_version": "1.2.0",
            "_view_name": "LayoutView",
            "align_content": null,
            "align_items": null,
            "align_self": null,
            "border": null,
            "bottom": null,
            "display": null,
            "flex": null,
            "flex_flow": null,
            "grid_area": null,
            "grid_auto_columns": null,
            "grid_auto_flow": null,
            "grid_auto_rows": null,
            "grid_column": null,
            "grid_gap": null,
            "grid_row": null,
            "grid_template_areas": null,
            "grid_template_columns": null,
            "grid_template_rows": null,
            "height": null,
            "justify_content": null,
            "justify_items": null,
            "left": null,
            "margin": null,
            "max_height": null,
            "max_width": null,
            "min_height": null,
            "min_width": null,
            "object_fit": null,
            "object_position": null,
            "order": null,
            "overflow": null,
            "overflow_x": null,
            "overflow_y": null,
            "padding": null,
            "right": null,
            "top": null,
            "visibility": null,
            "width": null
          }
        },
        "935d8d26a5254c5f987ee007ccb04bc4": {
          "model_module": "@jupyter-widgets/controls",
          "model_name": "DescriptionStyleModel",
          "model_module_version": "1.5.0",
          "state": {
            "_model_module": "@jupyter-widgets/controls",
            "_model_module_version": "1.5.0",
            "_model_name": "DescriptionStyleModel",
            "_view_count": null,
            "_view_module": "@jupyter-widgets/base",
            "_view_module_version": "1.2.0",
            "_view_name": "StyleView",
            "description_width": ""
          }
        },
        "bb22aec5926d4e0899fb8610a086a283": {
          "model_module": "@jupyter-widgets/controls",
          "model_name": "HBoxModel",
          "model_module_version": "1.5.0",
          "state": {
            "_dom_classes": [],
            "_model_module": "@jupyter-widgets/controls",
            "_model_module_version": "1.5.0",
            "_model_name": "HBoxModel",
            "_view_count": null,
            "_view_module": "@jupyter-widgets/controls",
            "_view_module_version": "1.5.0",
            "_view_name": "HBoxView",
            "box_style": "",
            "children": [
              "IPY_MODEL_4811b26ed2924c9c8c28e4b630ba329a",
              "IPY_MODEL_57e0842350a349e7a37b3819952d4846",
              "IPY_MODEL_f584e13df8914696931f90b1a638b366"
            ],
            "layout": "IPY_MODEL_bf6945210dbc4dda8b7d99e535f916e5"
          }
        },
        "4811b26ed2924c9c8c28e4b630ba329a": {
          "model_module": "@jupyter-widgets/controls",
          "model_name": "HTMLModel",
          "model_module_version": "1.5.0",
          "state": {
            "_dom_classes": [],
            "_model_module": "@jupyter-widgets/controls",
            "_model_module_version": "1.5.0",
            "_model_name": "HTMLModel",
            "_view_count": null,
            "_view_module": "@jupyter-widgets/controls",
            "_view_module_version": "1.5.0",
            "_view_name": "HTMLView",
            "description": "",
            "description_tooltip": null,
            "layout": "IPY_MODEL_4e3b088f588e42ac89666c03528769b7",
            "placeholder": "​",
            "style": "IPY_MODEL_540c6d6e230f489da2e44bc365db207c",
            "value": "tokenizer.json: 100%"
          }
        },
        "57e0842350a349e7a37b3819952d4846": {
          "model_module": "@jupyter-widgets/controls",
          "model_name": "FloatProgressModel",
          "model_module_version": "1.5.0",
          "state": {
            "_dom_classes": [],
            "_model_module": "@jupyter-widgets/controls",
            "_model_module_version": "1.5.0",
            "_model_name": "FloatProgressModel",
            "_view_count": null,
            "_view_module": "@jupyter-widgets/controls",
            "_view_module_version": "1.5.0",
            "_view_name": "ProgressView",
            "bar_style": "success",
            "description": "",
            "description_tooltip": null,
            "layout": "IPY_MODEL_ed02caea29224949a0206c8a8caa007a",
            "max": 435797,
            "min": 0,
            "orientation": "horizontal",
            "style": "IPY_MODEL_6921b36c584e494a909242f769cefe50",
            "value": 435797
          }
        },
        "f584e13df8914696931f90b1a638b366": {
          "model_module": "@jupyter-widgets/controls",
          "model_name": "HTMLModel",
          "model_module_version": "1.5.0",
          "state": {
            "_dom_classes": [],
            "_model_module": "@jupyter-widgets/controls",
            "_model_module_version": "1.5.0",
            "_model_name": "HTMLModel",
            "_view_count": null,
            "_view_module": "@jupyter-widgets/controls",
            "_view_module_version": "1.5.0",
            "_view_name": "HTMLView",
            "description": "",
            "description_tooltip": null,
            "layout": "IPY_MODEL_c24d668a893b4d7a9e8107d6eabb275b",
            "placeholder": "​",
            "style": "IPY_MODEL_59c086f25c2d4380bcfc449b1a62489e",
            "value": " 436k/436k [00:00&lt;00:00, 5.36MB/s]"
          }
        },
        "bf6945210dbc4dda8b7d99e535f916e5": {
          "model_module": "@jupyter-widgets/base",
          "model_name": "LayoutModel",
          "model_module_version": "1.2.0",
          "state": {
            "_model_module": "@jupyter-widgets/base",
            "_model_module_version": "1.2.0",
            "_model_name": "LayoutModel",
            "_view_count": null,
            "_view_module": "@jupyter-widgets/base",
            "_view_module_version": "1.2.0",
            "_view_name": "LayoutView",
            "align_content": null,
            "align_items": null,
            "align_self": null,
            "border": null,
            "bottom": null,
            "display": null,
            "flex": null,
            "flex_flow": null,
            "grid_area": null,
            "grid_auto_columns": null,
            "grid_auto_flow": null,
            "grid_auto_rows": null,
            "grid_column": null,
            "grid_gap": null,
            "grid_row": null,
            "grid_template_areas": null,
            "grid_template_columns": null,
            "grid_template_rows": null,
            "height": null,
            "justify_content": null,
            "justify_items": null,
            "left": null,
            "margin": null,
            "max_height": null,
            "max_width": null,
            "min_height": null,
            "min_width": null,
            "object_fit": null,
            "object_position": null,
            "order": null,
            "overflow": null,
            "overflow_x": null,
            "overflow_y": null,
            "padding": null,
            "right": null,
            "top": null,
            "visibility": null,
            "width": null
          }
        },
        "4e3b088f588e42ac89666c03528769b7": {
          "model_module": "@jupyter-widgets/base",
          "model_name": "LayoutModel",
          "model_module_version": "1.2.0",
          "state": {
            "_model_module": "@jupyter-widgets/base",
            "_model_module_version": "1.2.0",
            "_model_name": "LayoutModel",
            "_view_count": null,
            "_view_module": "@jupyter-widgets/base",
            "_view_module_version": "1.2.0",
            "_view_name": "LayoutView",
            "align_content": null,
            "align_items": null,
            "align_self": null,
            "border": null,
            "bottom": null,
            "display": null,
            "flex": null,
            "flex_flow": null,
            "grid_area": null,
            "grid_auto_columns": null,
            "grid_auto_flow": null,
            "grid_auto_rows": null,
            "grid_column": null,
            "grid_gap": null,
            "grid_row": null,
            "grid_template_areas": null,
            "grid_template_columns": null,
            "grid_template_rows": null,
            "height": null,
            "justify_content": null,
            "justify_items": null,
            "left": null,
            "margin": null,
            "max_height": null,
            "max_width": null,
            "min_height": null,
            "min_width": null,
            "object_fit": null,
            "object_position": null,
            "order": null,
            "overflow": null,
            "overflow_x": null,
            "overflow_y": null,
            "padding": null,
            "right": null,
            "top": null,
            "visibility": null,
            "width": null
          }
        },
        "540c6d6e230f489da2e44bc365db207c": {
          "model_module": "@jupyter-widgets/controls",
          "model_name": "DescriptionStyleModel",
          "model_module_version": "1.5.0",
          "state": {
            "_model_module": "@jupyter-widgets/controls",
            "_model_module_version": "1.5.0",
            "_model_name": "DescriptionStyleModel",
            "_view_count": null,
            "_view_module": "@jupyter-widgets/base",
            "_view_module_version": "1.2.0",
            "_view_name": "StyleView",
            "description_width": ""
          }
        },
        "ed02caea29224949a0206c8a8caa007a": {
          "model_module": "@jupyter-widgets/base",
          "model_name": "LayoutModel",
          "model_module_version": "1.2.0",
          "state": {
            "_model_module": "@jupyter-widgets/base",
            "_model_module_version": "1.2.0",
            "_model_name": "LayoutModel",
            "_view_count": null,
            "_view_module": "@jupyter-widgets/base",
            "_view_module_version": "1.2.0",
            "_view_name": "LayoutView",
            "align_content": null,
            "align_items": null,
            "align_self": null,
            "border": null,
            "bottom": null,
            "display": null,
            "flex": null,
            "flex_flow": null,
            "grid_area": null,
            "grid_auto_columns": null,
            "grid_auto_flow": null,
            "grid_auto_rows": null,
            "grid_column": null,
            "grid_gap": null,
            "grid_row": null,
            "grid_template_areas": null,
            "grid_template_columns": null,
            "grid_template_rows": null,
            "height": null,
            "justify_content": null,
            "justify_items": null,
            "left": null,
            "margin": null,
            "max_height": null,
            "max_width": null,
            "min_height": null,
            "min_width": null,
            "object_fit": null,
            "object_position": null,
            "order": null,
            "overflow": null,
            "overflow_x": null,
            "overflow_y": null,
            "padding": null,
            "right": null,
            "top": null,
            "visibility": null,
            "width": null
          }
        },
        "6921b36c584e494a909242f769cefe50": {
          "model_module": "@jupyter-widgets/controls",
          "model_name": "ProgressStyleModel",
          "model_module_version": "1.5.0",
          "state": {
            "_model_module": "@jupyter-widgets/controls",
            "_model_module_version": "1.5.0",
            "_model_name": "ProgressStyleModel",
            "_view_count": null,
            "_view_module": "@jupyter-widgets/base",
            "_view_module_version": "1.2.0",
            "_view_name": "StyleView",
            "bar_color": null,
            "description_width": ""
          }
        },
        "c24d668a893b4d7a9e8107d6eabb275b": {
          "model_module": "@jupyter-widgets/base",
          "model_name": "LayoutModel",
          "model_module_version": "1.2.0",
          "state": {
            "_model_module": "@jupyter-widgets/base",
            "_model_module_version": "1.2.0",
            "_model_name": "LayoutModel",
            "_view_count": null,
            "_view_module": "@jupyter-widgets/base",
            "_view_module_version": "1.2.0",
            "_view_name": "LayoutView",
            "align_content": null,
            "align_items": null,
            "align_self": null,
            "border": null,
            "bottom": null,
            "display": null,
            "flex": null,
            "flex_flow": null,
            "grid_area": null,
            "grid_auto_columns": null,
            "grid_auto_flow": null,
            "grid_auto_rows": null,
            "grid_column": null,
            "grid_gap": null,
            "grid_row": null,
            "grid_template_areas": null,
            "grid_template_columns": null,
            "grid_template_rows": null,
            "height": null,
            "justify_content": null,
            "justify_items": null,
            "left": null,
            "margin": null,
            "max_height": null,
            "max_width": null,
            "min_height": null,
            "min_width": null,
            "object_fit": null,
            "object_position": null,
            "order": null,
            "overflow": null,
            "overflow_x": null,
            "overflow_y": null,
            "padding": null,
            "right": null,
            "top": null,
            "visibility": null,
            "width": null
          }
        },
        "59c086f25c2d4380bcfc449b1a62489e": {
          "model_module": "@jupyter-widgets/controls",
          "model_name": "DescriptionStyleModel",
          "model_module_version": "1.5.0",
          "state": {
            "_model_module": "@jupyter-widgets/controls",
            "_model_module_version": "1.5.0",
            "_model_name": "DescriptionStyleModel",
            "_view_count": null,
            "_view_module": "@jupyter-widgets/base",
            "_view_module_version": "1.2.0",
            "_view_name": "StyleView",
            "description_width": ""
          }
        },
        "dedd31f782394904b90feaed2840cf4e": {
          "model_module": "@jupyter-widgets/controls",
          "model_name": "HBoxModel",
          "model_module_version": "1.5.0",
          "state": {
            "_dom_classes": [],
            "_model_module": "@jupyter-widgets/controls",
            "_model_module_version": "1.5.0",
            "_model_name": "HBoxModel",
            "_view_count": null,
            "_view_module": "@jupyter-widgets/controls",
            "_view_module_version": "1.5.0",
            "_view_name": "HBoxView",
            "box_style": "",
            "children": [
              "IPY_MODEL_5ebe517b5b664ba7a504c948a394857b",
              "IPY_MODEL_f6771e61e18c4ac49c86340b9f86c02d",
              "IPY_MODEL_2e6fa0d4484c44198e3b73c3e0dc10b8"
            ],
            "layout": "IPY_MODEL_da21a63dbdc44147b609a957a8c2f683"
          }
        },
        "5ebe517b5b664ba7a504c948a394857b": {
          "model_module": "@jupyter-widgets/controls",
          "model_name": "HTMLModel",
          "model_module_version": "1.5.0",
          "state": {
            "_dom_classes": [],
            "_model_module": "@jupyter-widgets/controls",
            "_model_module_version": "1.5.0",
            "_model_name": "HTMLModel",
            "_view_count": null,
            "_view_module": "@jupyter-widgets/controls",
            "_view_module_version": "1.5.0",
            "_view_name": "HTMLView",
            "description": "",
            "description_tooltip": null,
            "layout": "IPY_MODEL_2147f19c94bc4d0898299e82f0cb22d0",
            "placeholder": "​",
            "style": "IPY_MODEL_203ce2ee09304c16a62d866a7cb02af6",
            "value": "config.json: 100%"
          }
        },
        "f6771e61e18c4ac49c86340b9f86c02d": {
          "model_module": "@jupyter-widgets/controls",
          "model_name": "FloatProgressModel",
          "model_module_version": "1.5.0",
          "state": {
            "_dom_classes": [],
            "_model_module": "@jupyter-widgets/controls",
            "_model_module_version": "1.5.0",
            "_model_name": "FloatProgressModel",
            "_view_count": null,
            "_view_module": "@jupyter-widgets/controls",
            "_view_module_version": "1.5.0",
            "_view_name": "ProgressView",
            "bar_style": "success",
            "description": "",
            "description_tooltip": null,
            "layout": "IPY_MODEL_5e3a51fb248546fb87f59e5ee6ddca35",
            "max": 998,
            "min": 0,
            "orientation": "horizontal",
            "style": "IPY_MODEL_7e65051fa7c34f9b8791a9f76d15844b",
            "value": 998
          }
        },
        "2e6fa0d4484c44198e3b73c3e0dc10b8": {
          "model_module": "@jupyter-widgets/controls",
          "model_name": "HTMLModel",
          "model_module_version": "1.5.0",
          "state": {
            "_dom_classes": [],
            "_model_module": "@jupyter-widgets/controls",
            "_model_module_version": "1.5.0",
            "_model_name": "HTMLModel",
            "_view_count": null,
            "_view_module": "@jupyter-widgets/controls",
            "_view_module_version": "1.5.0",
            "_view_name": "HTMLView",
            "description": "",
            "description_tooltip": null,
            "layout": "IPY_MODEL_e0cd89cb7978452ca26107e3e079ee14",
            "placeholder": "​",
            "style": "IPY_MODEL_2a4e5c41438d45c69e30d9bdfa63b52d",
            "value": " 998/998 [00:00&lt;00:00, 28.0kB/s]"
          }
        },
        "da21a63dbdc44147b609a957a8c2f683": {
          "model_module": "@jupyter-widgets/base",
          "model_name": "LayoutModel",
          "model_module_version": "1.2.0",
          "state": {
            "_model_module": "@jupyter-widgets/base",
            "_model_module_version": "1.2.0",
            "_model_name": "LayoutModel",
            "_view_count": null,
            "_view_module": "@jupyter-widgets/base",
            "_view_module_version": "1.2.0",
            "_view_name": "LayoutView",
            "align_content": null,
            "align_items": null,
            "align_self": null,
            "border": null,
            "bottom": null,
            "display": null,
            "flex": null,
            "flex_flow": null,
            "grid_area": null,
            "grid_auto_columns": null,
            "grid_auto_flow": null,
            "grid_auto_rows": null,
            "grid_column": null,
            "grid_gap": null,
            "grid_row": null,
            "grid_template_areas": null,
            "grid_template_columns": null,
            "grid_template_rows": null,
            "height": null,
            "justify_content": null,
            "justify_items": null,
            "left": null,
            "margin": null,
            "max_height": null,
            "max_width": null,
            "min_height": null,
            "min_width": null,
            "object_fit": null,
            "object_position": null,
            "order": null,
            "overflow": null,
            "overflow_x": null,
            "overflow_y": null,
            "padding": null,
            "right": null,
            "top": null,
            "visibility": null,
            "width": null
          }
        },
        "2147f19c94bc4d0898299e82f0cb22d0": {
          "model_module": "@jupyter-widgets/base",
          "model_name": "LayoutModel",
          "model_module_version": "1.2.0",
          "state": {
            "_model_module": "@jupyter-widgets/base",
            "_model_module_version": "1.2.0",
            "_model_name": "LayoutModel",
            "_view_count": null,
            "_view_module": "@jupyter-widgets/base",
            "_view_module_version": "1.2.0",
            "_view_name": "LayoutView",
            "align_content": null,
            "align_items": null,
            "align_self": null,
            "border": null,
            "bottom": null,
            "display": null,
            "flex": null,
            "flex_flow": null,
            "grid_area": null,
            "grid_auto_columns": null,
            "grid_auto_flow": null,
            "grid_auto_rows": null,
            "grid_column": null,
            "grid_gap": null,
            "grid_row": null,
            "grid_template_areas": null,
            "grid_template_columns": null,
            "grid_template_rows": null,
            "height": null,
            "justify_content": null,
            "justify_items": null,
            "left": null,
            "margin": null,
            "max_height": null,
            "max_width": null,
            "min_height": null,
            "min_width": null,
            "object_fit": null,
            "object_position": null,
            "order": null,
            "overflow": null,
            "overflow_x": null,
            "overflow_y": null,
            "padding": null,
            "right": null,
            "top": null,
            "visibility": null,
            "width": null
          }
        },
        "203ce2ee09304c16a62d866a7cb02af6": {
          "model_module": "@jupyter-widgets/controls",
          "model_name": "DescriptionStyleModel",
          "model_module_version": "1.5.0",
          "state": {
            "_model_module": "@jupyter-widgets/controls",
            "_model_module_version": "1.5.0",
            "_model_name": "DescriptionStyleModel",
            "_view_count": null,
            "_view_module": "@jupyter-widgets/base",
            "_view_module_version": "1.2.0",
            "_view_name": "StyleView",
            "description_width": ""
          }
        },
        "5e3a51fb248546fb87f59e5ee6ddca35": {
          "model_module": "@jupyter-widgets/base",
          "model_name": "LayoutModel",
          "model_module_version": "1.2.0",
          "state": {
            "_model_module": "@jupyter-widgets/base",
            "_model_module_version": "1.2.0",
            "_model_name": "LayoutModel",
            "_view_count": null,
            "_view_module": "@jupyter-widgets/base",
            "_view_module_version": "1.2.0",
            "_view_name": "LayoutView",
            "align_content": null,
            "align_items": null,
            "align_self": null,
            "border": null,
            "bottom": null,
            "display": null,
            "flex": null,
            "flex_flow": null,
            "grid_area": null,
            "grid_auto_columns": null,
            "grid_auto_flow": null,
            "grid_auto_rows": null,
            "grid_column": null,
            "grid_gap": null,
            "grid_row": null,
            "grid_template_areas": null,
            "grid_template_columns": null,
            "grid_template_rows": null,
            "height": null,
            "justify_content": null,
            "justify_items": null,
            "left": null,
            "margin": null,
            "max_height": null,
            "max_width": null,
            "min_height": null,
            "min_width": null,
            "object_fit": null,
            "object_position": null,
            "order": null,
            "overflow": null,
            "overflow_x": null,
            "overflow_y": null,
            "padding": null,
            "right": null,
            "top": null,
            "visibility": null,
            "width": null
          }
        },
        "7e65051fa7c34f9b8791a9f76d15844b": {
          "model_module": "@jupyter-widgets/controls",
          "model_name": "ProgressStyleModel",
          "model_module_version": "1.5.0",
          "state": {
            "_model_module": "@jupyter-widgets/controls",
            "_model_module_version": "1.5.0",
            "_model_name": "ProgressStyleModel",
            "_view_count": null,
            "_view_module": "@jupyter-widgets/base",
            "_view_module_version": "1.2.0",
            "_view_name": "StyleView",
            "bar_color": null,
            "description_width": ""
          }
        },
        "e0cd89cb7978452ca26107e3e079ee14": {
          "model_module": "@jupyter-widgets/base",
          "model_name": "LayoutModel",
          "model_module_version": "1.2.0",
          "state": {
            "_model_module": "@jupyter-widgets/base",
            "_model_module_version": "1.2.0",
            "_model_name": "LayoutModel",
            "_view_count": null,
            "_view_module": "@jupyter-widgets/base",
            "_view_module_version": "1.2.0",
            "_view_name": "LayoutView",
            "align_content": null,
            "align_items": null,
            "align_self": null,
            "border": null,
            "bottom": null,
            "display": null,
            "flex": null,
            "flex_flow": null,
            "grid_area": null,
            "grid_auto_columns": null,
            "grid_auto_flow": null,
            "grid_auto_rows": null,
            "grid_column": null,
            "grid_gap": null,
            "grid_row": null,
            "grid_template_areas": null,
            "grid_template_columns": null,
            "grid_template_rows": null,
            "height": null,
            "justify_content": null,
            "justify_items": null,
            "left": null,
            "margin": null,
            "max_height": null,
            "max_width": null,
            "min_height": null,
            "min_width": null,
            "object_fit": null,
            "object_position": null,
            "order": null,
            "overflow": null,
            "overflow_x": null,
            "overflow_y": null,
            "padding": null,
            "right": null,
            "top": null,
            "visibility": null,
            "width": null
          }
        },
        "2a4e5c41438d45c69e30d9bdfa63b52d": {
          "model_module": "@jupyter-widgets/controls",
          "model_name": "DescriptionStyleModel",
          "model_module_version": "1.5.0",
          "state": {
            "_model_module": "@jupyter-widgets/controls",
            "_model_module_version": "1.5.0",
            "_model_name": "DescriptionStyleModel",
            "_view_count": null,
            "_view_module": "@jupyter-widgets/base",
            "_view_module_version": "1.2.0",
            "_view_name": "StyleView",
            "description_width": ""
          }
        },
        "15b8044bc391489a98522a5384d2bdcc": {
          "model_module": "@jupyter-widgets/controls",
          "model_name": "HBoxModel",
          "model_module_version": "1.5.0",
          "state": {
            "_dom_classes": [],
            "_model_module": "@jupyter-widgets/controls",
            "_model_module_version": "1.5.0",
            "_model_name": "HBoxModel",
            "_view_count": null,
            "_view_module": "@jupyter-widgets/controls",
            "_view_module_version": "1.5.0",
            "_view_name": "HBoxView",
            "box_style": "",
            "children": [
              "IPY_MODEL_208a95e0569042f18e9a153590b2710d",
              "IPY_MODEL_74055812ffde41b2b6485fbb3bae5fc2",
              "IPY_MODEL_faeaa8c12dbe4f3ab04e2ed3417b4888"
            ],
            "layout": "IPY_MODEL_c624aeb8f14a4cba96d22a4a387f6931"
          }
        },
        "208a95e0569042f18e9a153590b2710d": {
          "model_module": "@jupyter-widgets/controls",
          "model_name": "HTMLModel",
          "model_module_version": "1.5.0",
          "state": {
            "_dom_classes": [],
            "_model_module": "@jupyter-widgets/controls",
            "_model_module_version": "1.5.0",
            "_model_name": "HTMLModel",
            "_view_count": null,
            "_view_module": "@jupyter-widgets/controls",
            "_view_module_version": "1.5.0",
            "_view_name": "HTMLView",
            "description": "",
            "description_tooltip": null,
            "layout": "IPY_MODEL_99bf3519ce7741a09d1b7b91fe8eb0f5",
            "placeholder": "​",
            "style": "IPY_MODEL_20c05461e0854ce49370bc5bd9c6ccf1",
            "value": "model.safetensors: 100%"
          }
        },
        "74055812ffde41b2b6485fbb3bae5fc2": {
          "model_module": "@jupyter-widgets/controls",
          "model_name": "FloatProgressModel",
          "model_module_version": "1.5.0",
          "state": {
            "_dom_classes": [],
            "_model_module": "@jupyter-widgets/controls",
            "_model_module_version": "1.5.0",
            "_model_name": "FloatProgressModel",
            "_view_count": null,
            "_view_module": "@jupyter-widgets/controls",
            "_view_module_version": "1.5.0",
            "_view_name": "ProgressView",
            "bar_style": "success",
            "description": "",
            "description_tooltip": null,
            "layout": "IPY_MODEL_bb17a8a2f1334b8ca5c97e40bbc2ac48",
            "max": 1334400964,
            "min": 0,
            "orientation": "horizontal",
            "style": "IPY_MODEL_091a108ac7f142678222d7b61a608285",
            "value": 1334400964
          }
        },
        "faeaa8c12dbe4f3ab04e2ed3417b4888": {
          "model_module": "@jupyter-widgets/controls",
          "model_name": "HTMLModel",
          "model_module_version": "1.5.0",
          "state": {
            "_dom_classes": [],
            "_model_module": "@jupyter-widgets/controls",
            "_model_module_version": "1.5.0",
            "_model_name": "HTMLModel",
            "_view_count": null,
            "_view_module": "@jupyter-widgets/controls",
            "_view_module_version": "1.5.0",
            "_view_name": "HTMLView",
            "description": "",
            "description_tooltip": null,
            "layout": "IPY_MODEL_fb504260e25b44e29cb006e45041a6a2",
            "placeholder": "​",
            "style": "IPY_MODEL_17658ca166364729b9f79dfd5aca001e",
            "value": " 1.33G/1.33G [00:16&lt;00:00, 83.2MB/s]"
          }
        },
        "c624aeb8f14a4cba96d22a4a387f6931": {
          "model_module": "@jupyter-widgets/base",
          "model_name": "LayoutModel",
          "model_module_version": "1.2.0",
          "state": {
            "_model_module": "@jupyter-widgets/base",
            "_model_module_version": "1.2.0",
            "_model_name": "LayoutModel",
            "_view_count": null,
            "_view_module": "@jupyter-widgets/base",
            "_view_module_version": "1.2.0",
            "_view_name": "LayoutView",
            "align_content": null,
            "align_items": null,
            "align_self": null,
            "border": null,
            "bottom": null,
            "display": null,
            "flex": null,
            "flex_flow": null,
            "grid_area": null,
            "grid_auto_columns": null,
            "grid_auto_flow": null,
            "grid_auto_rows": null,
            "grid_column": null,
            "grid_gap": null,
            "grid_row": null,
            "grid_template_areas": null,
            "grid_template_columns": null,
            "grid_template_rows": null,
            "height": null,
            "justify_content": null,
            "justify_items": null,
            "left": null,
            "margin": null,
            "max_height": null,
            "max_width": null,
            "min_height": null,
            "min_width": null,
            "object_fit": null,
            "object_position": null,
            "order": null,
            "overflow": null,
            "overflow_x": null,
            "overflow_y": null,
            "padding": null,
            "right": null,
            "top": null,
            "visibility": null,
            "width": null
          }
        },
        "99bf3519ce7741a09d1b7b91fe8eb0f5": {
          "model_module": "@jupyter-widgets/base",
          "model_name": "LayoutModel",
          "model_module_version": "1.2.0",
          "state": {
            "_model_module": "@jupyter-widgets/base",
            "_model_module_version": "1.2.0",
            "_model_name": "LayoutModel",
            "_view_count": null,
            "_view_module": "@jupyter-widgets/base",
            "_view_module_version": "1.2.0",
            "_view_name": "LayoutView",
            "align_content": null,
            "align_items": null,
            "align_self": null,
            "border": null,
            "bottom": null,
            "display": null,
            "flex": null,
            "flex_flow": null,
            "grid_area": null,
            "grid_auto_columns": null,
            "grid_auto_flow": null,
            "grid_auto_rows": null,
            "grid_column": null,
            "grid_gap": null,
            "grid_row": null,
            "grid_template_areas": null,
            "grid_template_columns": null,
            "grid_template_rows": null,
            "height": null,
            "justify_content": null,
            "justify_items": null,
            "left": null,
            "margin": null,
            "max_height": null,
            "max_width": null,
            "min_height": null,
            "min_width": null,
            "object_fit": null,
            "object_position": null,
            "order": null,
            "overflow": null,
            "overflow_x": null,
            "overflow_y": null,
            "padding": null,
            "right": null,
            "top": null,
            "visibility": null,
            "width": null
          }
        },
        "20c05461e0854ce49370bc5bd9c6ccf1": {
          "model_module": "@jupyter-widgets/controls",
          "model_name": "DescriptionStyleModel",
          "model_module_version": "1.5.0",
          "state": {
            "_model_module": "@jupyter-widgets/controls",
            "_model_module_version": "1.5.0",
            "_model_name": "DescriptionStyleModel",
            "_view_count": null,
            "_view_module": "@jupyter-widgets/base",
            "_view_module_version": "1.2.0",
            "_view_name": "StyleView",
            "description_width": ""
          }
        },
        "bb17a8a2f1334b8ca5c97e40bbc2ac48": {
          "model_module": "@jupyter-widgets/base",
          "model_name": "LayoutModel",
          "model_module_version": "1.2.0",
          "state": {
            "_model_module": "@jupyter-widgets/base",
            "_model_module_version": "1.2.0",
            "_model_name": "LayoutModel",
            "_view_count": null,
            "_view_module": "@jupyter-widgets/base",
            "_view_module_version": "1.2.0",
            "_view_name": "LayoutView",
            "align_content": null,
            "align_items": null,
            "align_self": null,
            "border": null,
            "bottom": null,
            "display": null,
            "flex": null,
            "flex_flow": null,
            "grid_area": null,
            "grid_auto_columns": null,
            "grid_auto_flow": null,
            "grid_auto_rows": null,
            "grid_column": null,
            "grid_gap": null,
            "grid_row": null,
            "grid_template_areas": null,
            "grid_template_columns": null,
            "grid_template_rows": null,
            "height": null,
            "justify_content": null,
            "justify_items": null,
            "left": null,
            "margin": null,
            "max_height": null,
            "max_width": null,
            "min_height": null,
            "min_width": null,
            "object_fit": null,
            "object_position": null,
            "order": null,
            "overflow": null,
            "overflow_x": null,
            "overflow_y": null,
            "padding": null,
            "right": null,
            "top": null,
            "visibility": null,
            "width": null
          }
        },
        "091a108ac7f142678222d7b61a608285": {
          "model_module": "@jupyter-widgets/controls",
          "model_name": "ProgressStyleModel",
          "model_module_version": "1.5.0",
          "state": {
            "_model_module": "@jupyter-widgets/controls",
            "_model_module_version": "1.5.0",
            "_model_name": "ProgressStyleModel",
            "_view_count": null,
            "_view_module": "@jupyter-widgets/base",
            "_view_module_version": "1.2.0",
            "_view_name": "StyleView",
            "bar_color": null,
            "description_width": ""
          }
        },
        "fb504260e25b44e29cb006e45041a6a2": {
          "model_module": "@jupyter-widgets/base",
          "model_name": "LayoutModel",
          "model_module_version": "1.2.0",
          "state": {
            "_model_module": "@jupyter-widgets/base",
            "_model_module_version": "1.2.0",
            "_model_name": "LayoutModel",
            "_view_count": null,
            "_view_module": "@jupyter-widgets/base",
            "_view_module_version": "1.2.0",
            "_view_name": "LayoutView",
            "align_content": null,
            "align_items": null,
            "align_self": null,
            "border": null,
            "bottom": null,
            "display": null,
            "flex": null,
            "flex_flow": null,
            "grid_area": null,
            "grid_auto_columns": null,
            "grid_auto_flow": null,
            "grid_auto_rows": null,
            "grid_column": null,
            "grid_gap": null,
            "grid_row": null,
            "grid_template_areas": null,
            "grid_template_columns": null,
            "grid_template_rows": null,
            "height": null,
            "justify_content": null,
            "justify_items": null,
            "left": null,
            "margin": null,
            "max_height": null,
            "max_width": null,
            "min_height": null,
            "min_width": null,
            "object_fit": null,
            "object_position": null,
            "order": null,
            "overflow": null,
            "overflow_x": null,
            "overflow_y": null,
            "padding": null,
            "right": null,
            "top": null,
            "visibility": null,
            "width": null
          }
        },
        "17658ca166364729b9f79dfd5aca001e": {
          "model_module": "@jupyter-widgets/controls",
          "model_name": "DescriptionStyleModel",
          "model_module_version": "1.5.0",
          "state": {
            "_model_module": "@jupyter-widgets/controls",
            "_model_module_version": "1.5.0",
            "_model_name": "DescriptionStyleModel",
            "_view_count": null,
            "_view_module": "@jupyter-widgets/base",
            "_view_module_version": "1.2.0",
            "_view_name": "StyleView",
            "description_width": ""
          }
        },
        "88039655d2f94dd5be51555d108c3fa7": {
          "model_module": "@jupyter-widgets/controls",
          "model_name": "HBoxModel",
          "model_module_version": "1.5.0",
          "state": {
            "_dom_classes": [],
            "_model_module": "@jupyter-widgets/controls",
            "_model_module_version": "1.5.0",
            "_model_name": "HBoxModel",
            "_view_count": null,
            "_view_module": "@jupyter-widgets/controls",
            "_view_module_version": "1.5.0",
            "_view_name": "HBoxView",
            "box_style": "",
            "children": [
              "IPY_MODEL_8a7786819cd047e6a77075f23e5bdd1f",
              "IPY_MODEL_3208303e559b41b0891cd31e7acb97b8",
              "IPY_MODEL_afa97531a6ad46388ff60c316ae87840"
            ],
            "layout": "IPY_MODEL_64afb732392e4d3ca7a4ed12c3cd37e7"
          }
        },
        "8a7786819cd047e6a77075f23e5bdd1f": {
          "model_module": "@jupyter-widgets/controls",
          "model_name": "HTMLModel",
          "model_module_version": "1.5.0",
          "state": {
            "_dom_classes": [],
            "_model_module": "@jupyter-widgets/controls",
            "_model_module_version": "1.5.0",
            "_model_name": "HTMLModel",
            "_view_count": null,
            "_view_module": "@jupyter-widgets/controls",
            "_view_module_version": "1.5.0",
            "_view_name": "HTMLView",
            "description": "",
            "description_tooltip": null,
            "layout": "IPY_MODEL_98a3e423a5c446f2af87b12cf6823cf1",
            "placeholder": "​",
            "style": "IPY_MODEL_3895ba908acf408cadb5f370bb275f9f",
            "value": "tokenizer_config.json: 100%"
          }
        },
        "3208303e559b41b0891cd31e7acb97b8": {
          "model_module": "@jupyter-widgets/controls",
          "model_name": "FloatProgressModel",
          "model_module_version": "1.5.0",
          "state": {
            "_dom_classes": [],
            "_model_module": "@jupyter-widgets/controls",
            "_model_module_version": "1.5.0",
            "_model_name": "FloatProgressModel",
            "_view_count": null,
            "_view_module": "@jupyter-widgets/controls",
            "_view_module_version": "1.5.0",
            "_view_name": "ProgressView",
            "bar_style": "success",
            "description": "",
            "description_tooltip": null,
            "layout": "IPY_MODEL_c9d99973f67f48d48881e10bf9ddf860",
            "max": 60,
            "min": 0,
            "orientation": "horizontal",
            "style": "IPY_MODEL_d99a52d982bf44dfa28eb54f8f23df34",
            "value": 60
          }
        },
        "afa97531a6ad46388ff60c316ae87840": {
          "model_module": "@jupyter-widgets/controls",
          "model_name": "HTMLModel",
          "model_module_version": "1.5.0",
          "state": {
            "_dom_classes": [],
            "_model_module": "@jupyter-widgets/controls",
            "_model_module_version": "1.5.0",
            "_model_name": "HTMLModel",
            "_view_count": null,
            "_view_module": "@jupyter-widgets/controls",
            "_view_module_version": "1.5.0",
            "_view_name": "HTMLView",
            "description": "",
            "description_tooltip": null,
            "layout": "IPY_MODEL_15d75f287b7848d2a885f7fd618ee63a",
            "placeholder": "​",
            "style": "IPY_MODEL_666905c999a648e688453df9854ca916",
            "value": " 60.0/60.0 [00:00&lt;00:00, 2.89kB/s]"
          }
        },
        "64afb732392e4d3ca7a4ed12c3cd37e7": {
          "model_module": "@jupyter-widgets/base",
          "model_name": "LayoutModel",
          "model_module_version": "1.2.0",
          "state": {
            "_model_module": "@jupyter-widgets/base",
            "_model_module_version": "1.2.0",
            "_model_name": "LayoutModel",
            "_view_count": null,
            "_view_module": "@jupyter-widgets/base",
            "_view_module_version": "1.2.0",
            "_view_name": "LayoutView",
            "align_content": null,
            "align_items": null,
            "align_self": null,
            "border": null,
            "bottom": null,
            "display": null,
            "flex": null,
            "flex_flow": null,
            "grid_area": null,
            "grid_auto_columns": null,
            "grid_auto_flow": null,
            "grid_auto_rows": null,
            "grid_column": null,
            "grid_gap": null,
            "grid_row": null,
            "grid_template_areas": null,
            "grid_template_columns": null,
            "grid_template_rows": null,
            "height": null,
            "justify_content": null,
            "justify_items": null,
            "left": null,
            "margin": null,
            "max_height": null,
            "max_width": null,
            "min_height": null,
            "min_width": null,
            "object_fit": null,
            "object_position": null,
            "order": null,
            "overflow": null,
            "overflow_x": null,
            "overflow_y": null,
            "padding": null,
            "right": null,
            "top": null,
            "visibility": null,
            "width": null
          }
        },
        "98a3e423a5c446f2af87b12cf6823cf1": {
          "model_module": "@jupyter-widgets/base",
          "model_name": "LayoutModel",
          "model_module_version": "1.2.0",
          "state": {
            "_model_module": "@jupyter-widgets/base",
            "_model_module_version": "1.2.0",
            "_model_name": "LayoutModel",
            "_view_count": null,
            "_view_module": "@jupyter-widgets/base",
            "_view_module_version": "1.2.0",
            "_view_name": "LayoutView",
            "align_content": null,
            "align_items": null,
            "align_self": null,
            "border": null,
            "bottom": null,
            "display": null,
            "flex": null,
            "flex_flow": null,
            "grid_area": null,
            "grid_auto_columns": null,
            "grid_auto_flow": null,
            "grid_auto_rows": null,
            "grid_column": null,
            "grid_gap": null,
            "grid_row": null,
            "grid_template_areas": null,
            "grid_template_columns": null,
            "grid_template_rows": null,
            "height": null,
            "justify_content": null,
            "justify_items": null,
            "left": null,
            "margin": null,
            "max_height": null,
            "max_width": null,
            "min_height": null,
            "min_width": null,
            "object_fit": null,
            "object_position": null,
            "order": null,
            "overflow": null,
            "overflow_x": null,
            "overflow_y": null,
            "padding": null,
            "right": null,
            "top": null,
            "visibility": null,
            "width": null
          }
        },
        "3895ba908acf408cadb5f370bb275f9f": {
          "model_module": "@jupyter-widgets/controls",
          "model_name": "DescriptionStyleModel",
          "model_module_version": "1.5.0",
          "state": {
            "_model_module": "@jupyter-widgets/controls",
            "_model_module_version": "1.5.0",
            "_model_name": "DescriptionStyleModel",
            "_view_count": null,
            "_view_module": "@jupyter-widgets/base",
            "_view_module_version": "1.2.0",
            "_view_name": "StyleView",
            "description_width": ""
          }
        },
        "c9d99973f67f48d48881e10bf9ddf860": {
          "model_module": "@jupyter-widgets/base",
          "model_name": "LayoutModel",
          "model_module_version": "1.2.0",
          "state": {
            "_model_module": "@jupyter-widgets/base",
            "_model_module_version": "1.2.0",
            "_model_name": "LayoutModel",
            "_view_count": null,
            "_view_module": "@jupyter-widgets/base",
            "_view_module_version": "1.2.0",
            "_view_name": "LayoutView",
            "align_content": null,
            "align_items": null,
            "align_self": null,
            "border": null,
            "bottom": null,
            "display": null,
            "flex": null,
            "flex_flow": null,
            "grid_area": null,
            "grid_auto_columns": null,
            "grid_auto_flow": null,
            "grid_auto_rows": null,
            "grid_column": null,
            "grid_gap": null,
            "grid_row": null,
            "grid_template_areas": null,
            "grid_template_columns": null,
            "grid_template_rows": null,
            "height": null,
            "justify_content": null,
            "justify_items": null,
            "left": null,
            "margin": null,
            "max_height": null,
            "max_width": null,
            "min_height": null,
            "min_width": null,
            "object_fit": null,
            "object_position": null,
            "order": null,
            "overflow": null,
            "overflow_x": null,
            "overflow_y": null,
            "padding": null,
            "right": null,
            "top": null,
            "visibility": null,
            "width": null
          }
        },
        "d99a52d982bf44dfa28eb54f8f23df34": {
          "model_module": "@jupyter-widgets/controls",
          "model_name": "ProgressStyleModel",
          "model_module_version": "1.5.0",
          "state": {
            "_model_module": "@jupyter-widgets/controls",
            "_model_module_version": "1.5.0",
            "_model_name": "ProgressStyleModel",
            "_view_count": null,
            "_view_module": "@jupyter-widgets/base",
            "_view_module_version": "1.2.0",
            "_view_name": "StyleView",
            "bar_color": null,
            "description_width": ""
          }
        },
        "15d75f287b7848d2a885f7fd618ee63a": {
          "model_module": "@jupyter-widgets/base",
          "model_name": "LayoutModel",
          "model_module_version": "1.2.0",
          "state": {
            "_model_module": "@jupyter-widgets/base",
            "_model_module_version": "1.2.0",
            "_model_name": "LayoutModel",
            "_view_count": null,
            "_view_module": "@jupyter-widgets/base",
            "_view_module_version": "1.2.0",
            "_view_name": "LayoutView",
            "align_content": null,
            "align_items": null,
            "align_self": null,
            "border": null,
            "bottom": null,
            "display": null,
            "flex": null,
            "flex_flow": null,
            "grid_area": null,
            "grid_auto_columns": null,
            "grid_auto_flow": null,
            "grid_auto_rows": null,
            "grid_column": null,
            "grid_gap": null,
            "grid_row": null,
            "grid_template_areas": null,
            "grid_template_columns": null,
            "grid_template_rows": null,
            "height": null,
            "justify_content": null,
            "justify_items": null,
            "left": null,
            "margin": null,
            "max_height": null,
            "max_width": null,
            "min_height": null,
            "min_width": null,
            "object_fit": null,
            "object_position": null,
            "order": null,
            "overflow": null,
            "overflow_x": null,
            "overflow_y": null,
            "padding": null,
            "right": null,
            "top": null,
            "visibility": null,
            "width": null
          }
        },
        "666905c999a648e688453df9854ca916": {
          "model_module": "@jupyter-widgets/controls",
          "model_name": "DescriptionStyleModel",
          "model_module_version": "1.5.0",
          "state": {
            "_model_module": "@jupyter-widgets/controls",
            "_model_module_version": "1.5.0",
            "_model_name": "DescriptionStyleModel",
            "_view_count": null,
            "_view_module": "@jupyter-widgets/base",
            "_view_module_version": "1.2.0",
            "_view_name": "StyleView",
            "description_width": ""
          }
        },
        "540164771c9144fcac4ad6186f23d43c": {
          "model_module": "@jupyter-widgets/controls",
          "model_name": "HBoxModel",
          "model_module_version": "1.5.0",
          "state": {
            "_dom_classes": [],
            "_model_module": "@jupyter-widgets/controls",
            "_model_module_version": "1.5.0",
            "_model_name": "HBoxModel",
            "_view_count": null,
            "_view_module": "@jupyter-widgets/controls",
            "_view_module_version": "1.5.0",
            "_view_name": "HBoxView",
            "box_style": "",
            "children": [
              "IPY_MODEL_3da703d5af2b46cf9eb2d9ca4570a817",
              "IPY_MODEL_b7ad4245c55948cabcce20ddc7cfe9a0",
              "IPY_MODEL_ba403f8bed9b439c92977fa94f358e66"
            ],
            "layout": "IPY_MODEL_f192d6281f8a405ab7ed350dc3b46f09"
          }
        },
        "3da703d5af2b46cf9eb2d9ca4570a817": {
          "model_module": "@jupyter-widgets/controls",
          "model_name": "HTMLModel",
          "model_module_version": "1.5.0",
          "state": {
            "_dom_classes": [],
            "_model_module": "@jupyter-widgets/controls",
            "_model_module_version": "1.5.0",
            "_model_name": "HTMLModel",
            "_view_count": null,
            "_view_module": "@jupyter-widgets/controls",
            "_view_module_version": "1.5.0",
            "_view_name": "HTMLView",
            "description": "",
            "description_tooltip": null,
            "layout": "IPY_MODEL_71c59b69f4d74b5aab2fb0d1c81523d4",
            "placeholder": "​",
            "style": "IPY_MODEL_b033048ce98c402e86311e4aecceb368",
            "value": "vocab.txt: 100%"
          }
        },
        "b7ad4245c55948cabcce20ddc7cfe9a0": {
          "model_module": "@jupyter-widgets/controls",
          "model_name": "FloatProgressModel",
          "model_module_version": "1.5.0",
          "state": {
            "_dom_classes": [],
            "_model_module": "@jupyter-widgets/controls",
            "_model_module_version": "1.5.0",
            "_model_name": "FloatProgressModel",
            "_view_count": null,
            "_view_module": "@jupyter-widgets/controls",
            "_view_module_version": "1.5.0",
            "_view_name": "ProgressView",
            "bar_style": "success",
            "description": "",
            "description_tooltip": null,
            "layout": "IPY_MODEL_dd58c63f141e45ef98743f224f07a9ec",
            "max": 213450,
            "min": 0,
            "orientation": "horizontal",
            "style": "IPY_MODEL_5c3f6192c12441939376a37b5a3a9552",
            "value": 213450
          }
        },
        "ba403f8bed9b439c92977fa94f358e66": {
          "model_module": "@jupyter-widgets/controls",
          "model_name": "HTMLModel",
          "model_module_version": "1.5.0",
          "state": {
            "_dom_classes": [],
            "_model_module": "@jupyter-widgets/controls",
            "_model_module_version": "1.5.0",
            "_model_name": "HTMLModel",
            "_view_count": null,
            "_view_module": "@jupyter-widgets/controls",
            "_view_module_version": "1.5.0",
            "_view_name": "HTMLView",
            "description": "",
            "description_tooltip": null,
            "layout": "IPY_MODEL_0aae38059af7456e9c9f95752fe1d222",
            "placeholder": "​",
            "style": "IPY_MODEL_40710ef6ca0547f3a5fe1ffe507a6e2d",
            "value": " 213k/213k [00:00&lt;00:00, 3.20MB/s]"
          }
        },
        "f192d6281f8a405ab7ed350dc3b46f09": {
          "model_module": "@jupyter-widgets/base",
          "model_name": "LayoutModel",
          "model_module_version": "1.2.0",
          "state": {
            "_model_module": "@jupyter-widgets/base",
            "_model_module_version": "1.2.0",
            "_model_name": "LayoutModel",
            "_view_count": null,
            "_view_module": "@jupyter-widgets/base",
            "_view_module_version": "1.2.0",
            "_view_name": "LayoutView",
            "align_content": null,
            "align_items": null,
            "align_self": null,
            "border": null,
            "bottom": null,
            "display": null,
            "flex": null,
            "flex_flow": null,
            "grid_area": null,
            "grid_auto_columns": null,
            "grid_auto_flow": null,
            "grid_auto_rows": null,
            "grid_column": null,
            "grid_gap": null,
            "grid_row": null,
            "grid_template_areas": null,
            "grid_template_columns": null,
            "grid_template_rows": null,
            "height": null,
            "justify_content": null,
            "justify_items": null,
            "left": null,
            "margin": null,
            "max_height": null,
            "max_width": null,
            "min_height": null,
            "min_width": null,
            "object_fit": null,
            "object_position": null,
            "order": null,
            "overflow": null,
            "overflow_x": null,
            "overflow_y": null,
            "padding": null,
            "right": null,
            "top": null,
            "visibility": null,
            "width": null
          }
        },
        "71c59b69f4d74b5aab2fb0d1c81523d4": {
          "model_module": "@jupyter-widgets/base",
          "model_name": "LayoutModel",
          "model_module_version": "1.2.0",
          "state": {
            "_model_module": "@jupyter-widgets/base",
            "_model_module_version": "1.2.0",
            "_model_name": "LayoutModel",
            "_view_count": null,
            "_view_module": "@jupyter-widgets/base",
            "_view_module_version": "1.2.0",
            "_view_name": "LayoutView",
            "align_content": null,
            "align_items": null,
            "align_self": null,
            "border": null,
            "bottom": null,
            "display": null,
            "flex": null,
            "flex_flow": null,
            "grid_area": null,
            "grid_auto_columns": null,
            "grid_auto_flow": null,
            "grid_auto_rows": null,
            "grid_column": null,
            "grid_gap": null,
            "grid_row": null,
            "grid_template_areas": null,
            "grid_template_columns": null,
            "grid_template_rows": null,
            "height": null,
            "justify_content": null,
            "justify_items": null,
            "left": null,
            "margin": null,
            "max_height": null,
            "max_width": null,
            "min_height": null,
            "min_width": null,
            "object_fit": null,
            "object_position": null,
            "order": null,
            "overflow": null,
            "overflow_x": null,
            "overflow_y": null,
            "padding": null,
            "right": null,
            "top": null,
            "visibility": null,
            "width": null
          }
        },
        "b033048ce98c402e86311e4aecceb368": {
          "model_module": "@jupyter-widgets/controls",
          "model_name": "DescriptionStyleModel",
          "model_module_version": "1.5.0",
          "state": {
            "_model_module": "@jupyter-widgets/controls",
            "_model_module_version": "1.5.0",
            "_model_name": "DescriptionStyleModel",
            "_view_count": null,
            "_view_module": "@jupyter-widgets/base",
            "_view_module_version": "1.2.0",
            "_view_name": "StyleView",
            "description_width": ""
          }
        },
        "dd58c63f141e45ef98743f224f07a9ec": {
          "model_module": "@jupyter-widgets/base",
          "model_name": "LayoutModel",
          "model_module_version": "1.2.0",
          "state": {
            "_model_module": "@jupyter-widgets/base",
            "_model_module_version": "1.2.0",
            "_model_name": "LayoutModel",
            "_view_count": null,
            "_view_module": "@jupyter-widgets/base",
            "_view_module_version": "1.2.0",
            "_view_name": "LayoutView",
            "align_content": null,
            "align_items": null,
            "align_self": null,
            "border": null,
            "bottom": null,
            "display": null,
            "flex": null,
            "flex_flow": null,
            "grid_area": null,
            "grid_auto_columns": null,
            "grid_auto_flow": null,
            "grid_auto_rows": null,
            "grid_column": null,
            "grid_gap": null,
            "grid_row": null,
            "grid_template_areas": null,
            "grid_template_columns": null,
            "grid_template_rows": null,
            "height": null,
            "justify_content": null,
            "justify_items": null,
            "left": null,
            "margin": null,
            "max_height": null,
            "max_width": null,
            "min_height": null,
            "min_width": null,
            "object_fit": null,
            "object_position": null,
            "order": null,
            "overflow": null,
            "overflow_x": null,
            "overflow_y": null,
            "padding": null,
            "right": null,
            "top": null,
            "visibility": null,
            "width": null
          }
        },
        "5c3f6192c12441939376a37b5a3a9552": {
          "model_module": "@jupyter-widgets/controls",
          "model_name": "ProgressStyleModel",
          "model_module_version": "1.5.0",
          "state": {
            "_model_module": "@jupyter-widgets/controls",
            "_model_module_version": "1.5.0",
            "_model_name": "ProgressStyleModel",
            "_view_count": null,
            "_view_module": "@jupyter-widgets/base",
            "_view_module_version": "1.2.0",
            "_view_name": "StyleView",
            "bar_color": null,
            "description_width": ""
          }
        },
        "0aae38059af7456e9c9f95752fe1d222": {
          "model_module": "@jupyter-widgets/base",
          "model_name": "LayoutModel",
          "model_module_version": "1.2.0",
          "state": {
            "_model_module": "@jupyter-widgets/base",
            "_model_module_version": "1.2.0",
            "_model_name": "LayoutModel",
            "_view_count": null,
            "_view_module": "@jupyter-widgets/base",
            "_view_module_version": "1.2.0",
            "_view_name": "LayoutView",
            "align_content": null,
            "align_items": null,
            "align_self": null,
            "border": null,
            "bottom": null,
            "display": null,
            "flex": null,
            "flex_flow": null,
            "grid_area": null,
            "grid_auto_columns": null,
            "grid_auto_flow": null,
            "grid_auto_rows": null,
            "grid_column": null,
            "grid_gap": null,
            "grid_row": null,
            "grid_template_areas": null,
            "grid_template_columns": null,
            "grid_template_rows": null,
            "height": null,
            "justify_content": null,
            "justify_items": null,
            "left": null,
            "margin": null,
            "max_height": null,
            "max_width": null,
            "min_height": null,
            "min_width": null,
            "object_fit": null,
            "object_position": null,
            "order": null,
            "overflow": null,
            "overflow_x": null,
            "overflow_y": null,
            "padding": null,
            "right": null,
            "top": null,
            "visibility": null,
            "width": null
          }
        },
        "40710ef6ca0547f3a5fe1ffe507a6e2d": {
          "model_module": "@jupyter-widgets/controls",
          "model_name": "DescriptionStyleModel",
          "model_module_version": "1.5.0",
          "state": {
            "_model_module": "@jupyter-widgets/controls",
            "_model_module_version": "1.5.0",
            "_model_name": "DescriptionStyleModel",
            "_view_count": null,
            "_view_module": "@jupyter-widgets/base",
            "_view_module_version": "1.2.0",
            "_view_name": "StyleView",
            "description_width": ""
          }
        },
        "3a0e12487c6346c19ab1fb57e551bc38": {
          "model_module": "@jupyter-widgets/controls",
          "model_name": "HBoxModel",
          "model_module_version": "1.5.0",
          "state": {
            "_dom_classes": [],
            "_model_module": "@jupyter-widgets/controls",
            "_model_module_version": "1.5.0",
            "_model_name": "HBoxModel",
            "_view_count": null,
            "_view_module": "@jupyter-widgets/controls",
            "_view_module_version": "1.5.0",
            "_view_name": "HBoxView",
            "box_style": "",
            "children": [
              "IPY_MODEL_789c78fe932247b4b7f0948a44edd1d7",
              "IPY_MODEL_d230c210b491446b974de036171b7592",
              "IPY_MODEL_2b87aad54a8d4fd48ea09c15737d7d84"
            ],
            "layout": "IPY_MODEL_9e4da6a489ce4fc2a1b1d47f76b5cdd8"
          }
        },
        "789c78fe932247b4b7f0948a44edd1d7": {
          "model_module": "@jupyter-widgets/controls",
          "model_name": "HTMLModel",
          "model_module_version": "1.5.0",
          "state": {
            "_dom_classes": [],
            "_model_module": "@jupyter-widgets/controls",
            "_model_module_version": "1.5.0",
            "_model_name": "HTMLModel",
            "_view_count": null,
            "_view_module": "@jupyter-widgets/controls",
            "_view_module_version": "1.5.0",
            "_view_name": "HTMLView",
            "description": "",
            "description_tooltip": null,
            "layout": "IPY_MODEL_177ed765be6b49f59f841c2908fa6fc7",
            "placeholder": "​",
            "style": "IPY_MODEL_e63dd97a214b4fc7a12600bfc028716c",
            "value": "tokenizer_config.json: 100%"
          }
        },
        "d230c210b491446b974de036171b7592": {
          "model_module": "@jupyter-widgets/controls",
          "model_name": "FloatProgressModel",
          "model_module_version": "1.5.0",
          "state": {
            "_dom_classes": [],
            "_model_module": "@jupyter-widgets/controls",
            "_model_module_version": "1.5.0",
            "_model_name": "FloatProgressModel",
            "_view_count": null,
            "_view_module": "@jupyter-widgets/controls",
            "_view_module_version": "1.5.0",
            "_view_name": "ProgressView",
            "bar_style": "success",
            "description": "",
            "description_tooltip": null,
            "layout": "IPY_MODEL_34ab6463299e47dab1a00731aab22a6a",
            "max": 49,
            "min": 0,
            "orientation": "horizontal",
            "style": "IPY_MODEL_2a8b2ea106f74adfa022c9130f63f699",
            "value": 49
          }
        },
        "2b87aad54a8d4fd48ea09c15737d7d84": {
          "model_module": "@jupyter-widgets/controls",
          "model_name": "HTMLModel",
          "model_module_version": "1.5.0",
          "state": {
            "_dom_classes": [],
            "_model_module": "@jupyter-widgets/controls",
            "_model_module_version": "1.5.0",
            "_model_name": "HTMLModel",
            "_view_count": null,
            "_view_module": "@jupyter-widgets/controls",
            "_view_module_version": "1.5.0",
            "_view_name": "HTMLView",
            "description": "",
            "description_tooltip": null,
            "layout": "IPY_MODEL_a4190e8cdb42410783a8e543feabf31b",
            "placeholder": "​",
            "style": "IPY_MODEL_3bb068b7c8c349b88b22c45f1bf677fc",
            "value": " 49.0/49.0 [00:00&lt;00:00, 2.63kB/s]"
          }
        },
        "9e4da6a489ce4fc2a1b1d47f76b5cdd8": {
          "model_module": "@jupyter-widgets/base",
          "model_name": "LayoutModel",
          "model_module_version": "1.2.0",
          "state": {
            "_model_module": "@jupyter-widgets/base",
            "_model_module_version": "1.2.0",
            "_model_name": "LayoutModel",
            "_view_count": null,
            "_view_module": "@jupyter-widgets/base",
            "_view_module_version": "1.2.0",
            "_view_name": "LayoutView",
            "align_content": null,
            "align_items": null,
            "align_self": null,
            "border": null,
            "bottom": null,
            "display": null,
            "flex": null,
            "flex_flow": null,
            "grid_area": null,
            "grid_auto_columns": null,
            "grid_auto_flow": null,
            "grid_auto_rows": null,
            "grid_column": null,
            "grid_gap": null,
            "grid_row": null,
            "grid_template_areas": null,
            "grid_template_columns": null,
            "grid_template_rows": null,
            "height": null,
            "justify_content": null,
            "justify_items": null,
            "left": null,
            "margin": null,
            "max_height": null,
            "max_width": null,
            "min_height": null,
            "min_width": null,
            "object_fit": null,
            "object_position": null,
            "order": null,
            "overflow": null,
            "overflow_x": null,
            "overflow_y": null,
            "padding": null,
            "right": null,
            "top": null,
            "visibility": null,
            "width": null
          }
        },
        "177ed765be6b49f59f841c2908fa6fc7": {
          "model_module": "@jupyter-widgets/base",
          "model_name": "LayoutModel",
          "model_module_version": "1.2.0",
          "state": {
            "_model_module": "@jupyter-widgets/base",
            "_model_module_version": "1.2.0",
            "_model_name": "LayoutModel",
            "_view_count": null,
            "_view_module": "@jupyter-widgets/base",
            "_view_module_version": "1.2.0",
            "_view_name": "LayoutView",
            "align_content": null,
            "align_items": null,
            "align_self": null,
            "border": null,
            "bottom": null,
            "display": null,
            "flex": null,
            "flex_flow": null,
            "grid_area": null,
            "grid_auto_columns": null,
            "grid_auto_flow": null,
            "grid_auto_rows": null,
            "grid_column": null,
            "grid_gap": null,
            "grid_row": null,
            "grid_template_areas": null,
            "grid_template_columns": null,
            "grid_template_rows": null,
            "height": null,
            "justify_content": null,
            "justify_items": null,
            "left": null,
            "margin": null,
            "max_height": null,
            "max_width": null,
            "min_height": null,
            "min_width": null,
            "object_fit": null,
            "object_position": null,
            "order": null,
            "overflow": null,
            "overflow_x": null,
            "overflow_y": null,
            "padding": null,
            "right": null,
            "top": null,
            "visibility": null,
            "width": null
          }
        },
        "e63dd97a214b4fc7a12600bfc028716c": {
          "model_module": "@jupyter-widgets/controls",
          "model_name": "DescriptionStyleModel",
          "model_module_version": "1.5.0",
          "state": {
            "_model_module": "@jupyter-widgets/controls",
            "_model_module_version": "1.5.0",
            "_model_name": "DescriptionStyleModel",
            "_view_count": null,
            "_view_module": "@jupyter-widgets/base",
            "_view_module_version": "1.2.0",
            "_view_name": "StyleView",
            "description_width": ""
          }
        },
        "34ab6463299e47dab1a00731aab22a6a": {
          "model_module": "@jupyter-widgets/base",
          "model_name": "LayoutModel",
          "model_module_version": "1.2.0",
          "state": {
            "_model_module": "@jupyter-widgets/base",
            "_model_module_version": "1.2.0",
            "_model_name": "LayoutModel",
            "_view_count": null,
            "_view_module": "@jupyter-widgets/base",
            "_view_module_version": "1.2.0",
            "_view_name": "LayoutView",
            "align_content": null,
            "align_items": null,
            "align_self": null,
            "border": null,
            "bottom": null,
            "display": null,
            "flex": null,
            "flex_flow": null,
            "grid_area": null,
            "grid_auto_columns": null,
            "grid_auto_flow": null,
            "grid_auto_rows": null,
            "grid_column": null,
            "grid_gap": null,
            "grid_row": null,
            "grid_template_areas": null,
            "grid_template_columns": null,
            "grid_template_rows": null,
            "height": null,
            "justify_content": null,
            "justify_items": null,
            "left": null,
            "margin": null,
            "max_height": null,
            "max_width": null,
            "min_height": null,
            "min_width": null,
            "object_fit": null,
            "object_position": null,
            "order": null,
            "overflow": null,
            "overflow_x": null,
            "overflow_y": null,
            "padding": null,
            "right": null,
            "top": null,
            "visibility": null,
            "width": null
          }
        },
        "2a8b2ea106f74adfa022c9130f63f699": {
          "model_module": "@jupyter-widgets/controls",
          "model_name": "ProgressStyleModel",
          "model_module_version": "1.5.0",
          "state": {
            "_model_module": "@jupyter-widgets/controls",
            "_model_module_version": "1.5.0",
            "_model_name": "ProgressStyleModel",
            "_view_count": null,
            "_view_module": "@jupyter-widgets/base",
            "_view_module_version": "1.2.0",
            "_view_name": "StyleView",
            "bar_color": null,
            "description_width": ""
          }
        },
        "a4190e8cdb42410783a8e543feabf31b": {
          "model_module": "@jupyter-widgets/base",
          "model_name": "LayoutModel",
          "model_module_version": "1.2.0",
          "state": {
            "_model_module": "@jupyter-widgets/base",
            "_model_module_version": "1.2.0",
            "_model_name": "LayoutModel",
            "_view_count": null,
            "_view_module": "@jupyter-widgets/base",
            "_view_module_version": "1.2.0",
            "_view_name": "LayoutView",
            "align_content": null,
            "align_items": null,
            "align_self": null,
            "border": null,
            "bottom": null,
            "display": null,
            "flex": null,
            "flex_flow": null,
            "grid_area": null,
            "grid_auto_columns": null,
            "grid_auto_flow": null,
            "grid_auto_rows": null,
            "grid_column": null,
            "grid_gap": null,
            "grid_row": null,
            "grid_template_areas": null,
            "grid_template_columns": null,
            "grid_template_rows": null,
            "height": null,
            "justify_content": null,
            "justify_items": null,
            "left": null,
            "margin": null,
            "max_height": null,
            "max_width": null,
            "min_height": null,
            "min_width": null,
            "object_fit": null,
            "object_position": null,
            "order": null,
            "overflow": null,
            "overflow_x": null,
            "overflow_y": null,
            "padding": null,
            "right": null,
            "top": null,
            "visibility": null,
            "width": null
          }
        },
        "3bb068b7c8c349b88b22c45f1bf677fc": {
          "model_module": "@jupyter-widgets/controls",
          "model_name": "DescriptionStyleModel",
          "model_module_version": "1.5.0",
          "state": {
            "_model_module": "@jupyter-widgets/controls",
            "_model_module_version": "1.5.0",
            "_model_name": "DescriptionStyleModel",
            "_view_count": null,
            "_view_module": "@jupyter-widgets/base",
            "_view_module_version": "1.2.0",
            "_view_name": "StyleView",
            "description_width": ""
          }
        },
        "3c6b7b0493c24d82b1b3d32d04b1f10e": {
          "model_module": "@jupyter-widgets/controls",
          "model_name": "HBoxModel",
          "model_module_version": "1.5.0",
          "state": {
            "_dom_classes": [],
            "_model_module": "@jupyter-widgets/controls",
            "_model_module_version": "1.5.0",
            "_model_name": "HBoxModel",
            "_view_count": null,
            "_view_module": "@jupyter-widgets/controls",
            "_view_module_version": "1.5.0",
            "_view_name": "HBoxView",
            "box_style": "",
            "children": [
              "IPY_MODEL_a344fc40e4b7449a8fbf41e027b5a803",
              "IPY_MODEL_4565dbd5ad4c49c2b239febb34ac99b3",
              "IPY_MODEL_882eff33fa78405d88b42a776274a391"
            ],
            "layout": "IPY_MODEL_4228ed28304f45b9858fdb35c2284504"
          }
        },
        "a344fc40e4b7449a8fbf41e027b5a803": {
          "model_module": "@jupyter-widgets/controls",
          "model_name": "HTMLModel",
          "model_module_version": "1.5.0",
          "state": {
            "_dom_classes": [],
            "_model_module": "@jupyter-widgets/controls",
            "_model_module_version": "1.5.0",
            "_model_name": "HTMLModel",
            "_view_count": null,
            "_view_module": "@jupyter-widgets/controls",
            "_view_module_version": "1.5.0",
            "_view_name": "HTMLView",
            "description": "",
            "description_tooltip": null,
            "layout": "IPY_MODEL_8865329783a6410fbb562b11958f3c39",
            "placeholder": "​",
            "style": "IPY_MODEL_4c169c9cf8b84fcab731ad9171e6ef7d",
            "value": "config.json: 100%"
          }
        },
        "4565dbd5ad4c49c2b239febb34ac99b3": {
          "model_module": "@jupyter-widgets/controls",
          "model_name": "FloatProgressModel",
          "model_module_version": "1.5.0",
          "state": {
            "_dom_classes": [],
            "_model_module": "@jupyter-widgets/controls",
            "_model_module_version": "1.5.0",
            "_model_name": "FloatProgressModel",
            "_view_count": null,
            "_view_module": "@jupyter-widgets/controls",
            "_view_module_version": "1.5.0",
            "_view_name": "ProgressView",
            "bar_style": "success",
            "description": "",
            "description_tooltip": null,
            "layout": "IPY_MODEL_9add7bad0fcd4ee887cee18fe66a95ff",
            "max": 473,
            "min": 0,
            "orientation": "horizontal",
            "style": "IPY_MODEL_7cc12077c0c24828a7343056a906511c",
            "value": 473
          }
        },
        "882eff33fa78405d88b42a776274a391": {
          "model_module": "@jupyter-widgets/controls",
          "model_name": "HTMLModel",
          "model_module_version": "1.5.0",
          "state": {
            "_dom_classes": [],
            "_model_module": "@jupyter-widgets/controls",
            "_model_module_version": "1.5.0",
            "_model_name": "HTMLModel",
            "_view_count": null,
            "_view_module": "@jupyter-widgets/controls",
            "_view_module_version": "1.5.0",
            "_view_name": "HTMLView",
            "description": "",
            "description_tooltip": null,
            "layout": "IPY_MODEL_6b3ef3bdbc10428fbbe304cce6e8ab84",
            "placeholder": "​",
            "style": "IPY_MODEL_7382b791f5a449839bed8194b978f54e",
            "value": " 473/473 [00:00&lt;00:00, 23.8kB/s]"
          }
        },
        "4228ed28304f45b9858fdb35c2284504": {
          "model_module": "@jupyter-widgets/base",
          "model_name": "LayoutModel",
          "model_module_version": "1.2.0",
          "state": {
            "_model_module": "@jupyter-widgets/base",
            "_model_module_version": "1.2.0",
            "_model_name": "LayoutModel",
            "_view_count": null,
            "_view_module": "@jupyter-widgets/base",
            "_view_module_version": "1.2.0",
            "_view_name": "LayoutView",
            "align_content": null,
            "align_items": null,
            "align_self": null,
            "border": null,
            "bottom": null,
            "display": null,
            "flex": null,
            "flex_flow": null,
            "grid_area": null,
            "grid_auto_columns": null,
            "grid_auto_flow": null,
            "grid_auto_rows": null,
            "grid_column": null,
            "grid_gap": null,
            "grid_row": null,
            "grid_template_areas": null,
            "grid_template_columns": null,
            "grid_template_rows": null,
            "height": null,
            "justify_content": null,
            "justify_items": null,
            "left": null,
            "margin": null,
            "max_height": null,
            "max_width": null,
            "min_height": null,
            "min_width": null,
            "object_fit": null,
            "object_position": null,
            "order": null,
            "overflow": null,
            "overflow_x": null,
            "overflow_y": null,
            "padding": null,
            "right": null,
            "top": null,
            "visibility": null,
            "width": null
          }
        },
        "8865329783a6410fbb562b11958f3c39": {
          "model_module": "@jupyter-widgets/base",
          "model_name": "LayoutModel",
          "model_module_version": "1.2.0",
          "state": {
            "_model_module": "@jupyter-widgets/base",
            "_model_module_version": "1.2.0",
            "_model_name": "LayoutModel",
            "_view_count": null,
            "_view_module": "@jupyter-widgets/base",
            "_view_module_version": "1.2.0",
            "_view_name": "LayoutView",
            "align_content": null,
            "align_items": null,
            "align_self": null,
            "border": null,
            "bottom": null,
            "display": null,
            "flex": null,
            "flex_flow": null,
            "grid_area": null,
            "grid_auto_columns": null,
            "grid_auto_flow": null,
            "grid_auto_rows": null,
            "grid_column": null,
            "grid_gap": null,
            "grid_row": null,
            "grid_template_areas": null,
            "grid_template_columns": null,
            "grid_template_rows": null,
            "height": null,
            "justify_content": null,
            "justify_items": null,
            "left": null,
            "margin": null,
            "max_height": null,
            "max_width": null,
            "min_height": null,
            "min_width": null,
            "object_fit": null,
            "object_position": null,
            "order": null,
            "overflow": null,
            "overflow_x": null,
            "overflow_y": null,
            "padding": null,
            "right": null,
            "top": null,
            "visibility": null,
            "width": null
          }
        },
        "4c169c9cf8b84fcab731ad9171e6ef7d": {
          "model_module": "@jupyter-widgets/controls",
          "model_name": "DescriptionStyleModel",
          "model_module_version": "1.5.0",
          "state": {
            "_model_module": "@jupyter-widgets/controls",
            "_model_module_version": "1.5.0",
            "_model_name": "DescriptionStyleModel",
            "_view_count": null,
            "_view_module": "@jupyter-widgets/base",
            "_view_module_version": "1.2.0",
            "_view_name": "StyleView",
            "description_width": ""
          }
        },
        "9add7bad0fcd4ee887cee18fe66a95ff": {
          "model_module": "@jupyter-widgets/base",
          "model_name": "LayoutModel",
          "model_module_version": "1.2.0",
          "state": {
            "_model_module": "@jupyter-widgets/base",
            "_model_module_version": "1.2.0",
            "_model_name": "LayoutModel",
            "_view_count": null,
            "_view_module": "@jupyter-widgets/base",
            "_view_module_version": "1.2.0",
            "_view_name": "LayoutView",
            "align_content": null,
            "align_items": null,
            "align_self": null,
            "border": null,
            "bottom": null,
            "display": null,
            "flex": null,
            "flex_flow": null,
            "grid_area": null,
            "grid_auto_columns": null,
            "grid_auto_flow": null,
            "grid_auto_rows": null,
            "grid_column": null,
            "grid_gap": null,
            "grid_row": null,
            "grid_template_areas": null,
            "grid_template_columns": null,
            "grid_template_rows": null,
            "height": null,
            "justify_content": null,
            "justify_items": null,
            "left": null,
            "margin": null,
            "max_height": null,
            "max_width": null,
            "min_height": null,
            "min_width": null,
            "object_fit": null,
            "object_position": null,
            "order": null,
            "overflow": null,
            "overflow_x": null,
            "overflow_y": null,
            "padding": null,
            "right": null,
            "top": null,
            "visibility": null,
            "width": null
          }
        },
        "7cc12077c0c24828a7343056a906511c": {
          "model_module": "@jupyter-widgets/controls",
          "model_name": "ProgressStyleModel",
          "model_module_version": "1.5.0",
          "state": {
            "_model_module": "@jupyter-widgets/controls",
            "_model_module_version": "1.5.0",
            "_model_name": "ProgressStyleModel",
            "_view_count": null,
            "_view_module": "@jupyter-widgets/base",
            "_view_module_version": "1.2.0",
            "_view_name": "StyleView",
            "bar_color": null,
            "description_width": ""
          }
        },
        "6b3ef3bdbc10428fbbe304cce6e8ab84": {
          "model_module": "@jupyter-widgets/base",
          "model_name": "LayoutModel",
          "model_module_version": "1.2.0",
          "state": {
            "_model_module": "@jupyter-widgets/base",
            "_model_module_version": "1.2.0",
            "_model_name": "LayoutModel",
            "_view_count": null,
            "_view_module": "@jupyter-widgets/base",
            "_view_module_version": "1.2.0",
            "_view_name": "LayoutView",
            "align_content": null,
            "align_items": null,
            "align_self": null,
            "border": null,
            "bottom": null,
            "display": null,
            "flex": null,
            "flex_flow": null,
            "grid_area": null,
            "grid_auto_columns": null,
            "grid_auto_flow": null,
            "grid_auto_rows": null,
            "grid_column": null,
            "grid_gap": null,
            "grid_row": null,
            "grid_template_areas": null,
            "grid_template_columns": null,
            "grid_template_rows": null,
            "height": null,
            "justify_content": null,
            "justify_items": null,
            "left": null,
            "margin": null,
            "max_height": null,
            "max_width": null,
            "min_height": null,
            "min_width": null,
            "object_fit": null,
            "object_position": null,
            "order": null,
            "overflow": null,
            "overflow_x": null,
            "overflow_y": null,
            "padding": null,
            "right": null,
            "top": null,
            "visibility": null,
            "width": null
          }
        },
        "7382b791f5a449839bed8194b978f54e": {
          "model_module": "@jupyter-widgets/controls",
          "model_name": "DescriptionStyleModel",
          "model_module_version": "1.5.0",
          "state": {
            "_model_module": "@jupyter-widgets/controls",
            "_model_module_version": "1.5.0",
            "_model_name": "DescriptionStyleModel",
            "_view_count": null,
            "_view_module": "@jupyter-widgets/base",
            "_view_module_version": "1.2.0",
            "_view_name": "StyleView",
            "description_width": ""
          }
        },
        "ac089d4ac67740839701483a206167e2": {
          "model_module": "@jupyter-widgets/controls",
          "model_name": "HBoxModel",
          "model_module_version": "1.5.0",
          "state": {
            "_dom_classes": [],
            "_model_module": "@jupyter-widgets/controls",
            "_model_module_version": "1.5.0",
            "_model_name": "HBoxModel",
            "_view_count": null,
            "_view_module": "@jupyter-widgets/controls",
            "_view_module_version": "1.5.0",
            "_view_name": "HBoxView",
            "box_style": "",
            "children": [
              "IPY_MODEL_114ee7fd0cf94c419b57cd4307495831",
              "IPY_MODEL_68e887bb959841249b1c781353b5b4e9",
              "IPY_MODEL_4cbd0091c3e24f96baab3b7bfc27fd5a"
            ],
            "layout": "IPY_MODEL_be8a114cb39f43679b32056a062bdf3a"
          }
        },
        "114ee7fd0cf94c419b57cd4307495831": {
          "model_module": "@jupyter-widgets/controls",
          "model_name": "HTMLModel",
          "model_module_version": "1.5.0",
          "state": {
            "_dom_classes": [],
            "_model_module": "@jupyter-widgets/controls",
            "_model_module_version": "1.5.0",
            "_model_name": "HTMLModel",
            "_view_count": null,
            "_view_module": "@jupyter-widgets/controls",
            "_view_module_version": "1.5.0",
            "_view_name": "HTMLView",
            "description": "",
            "description_tooltip": null,
            "layout": "IPY_MODEL_0550928533a449a8a47f44b7c2323062",
            "placeholder": "​",
            "style": "IPY_MODEL_f029d7d0b7b34c01bd30f87f47c28074",
            "value": "vocab.txt: 100%"
          }
        },
        "68e887bb959841249b1c781353b5b4e9": {
          "model_module": "@jupyter-widgets/controls",
          "model_name": "FloatProgressModel",
          "model_module_version": "1.5.0",
          "state": {
            "_dom_classes": [],
            "_model_module": "@jupyter-widgets/controls",
            "_model_module_version": "1.5.0",
            "_model_name": "FloatProgressModel",
            "_view_count": null,
            "_view_module": "@jupyter-widgets/controls",
            "_view_module_version": "1.5.0",
            "_view_name": "ProgressView",
            "bar_style": "success",
            "description": "",
            "description_tooltip": null,
            "layout": "IPY_MODEL_e0affd11397545c7b9a164092f9dc1ba",
            "max": 213450,
            "min": 0,
            "orientation": "horizontal",
            "style": "IPY_MODEL_3bb4a43d2b744cfcae84efc0a1d441b4",
            "value": 213450
          }
        },
        "4cbd0091c3e24f96baab3b7bfc27fd5a": {
          "model_module": "@jupyter-widgets/controls",
          "model_name": "HTMLModel",
          "model_module_version": "1.5.0",
          "state": {
            "_dom_classes": [],
            "_model_module": "@jupyter-widgets/controls",
            "_model_module_version": "1.5.0",
            "_model_name": "HTMLModel",
            "_view_count": null,
            "_view_module": "@jupyter-widgets/controls",
            "_view_module_version": "1.5.0",
            "_view_name": "HTMLView",
            "description": "",
            "description_tooltip": null,
            "layout": "IPY_MODEL_f7559b9f0d3245fabe80b2b5410d0b42",
            "placeholder": "​",
            "style": "IPY_MODEL_bd028d61c40145d282e306bc57592b45",
            "value": " 213k/213k [00:00&lt;00:00, 11.3MB/s]"
          }
        },
        "be8a114cb39f43679b32056a062bdf3a": {
          "model_module": "@jupyter-widgets/base",
          "model_name": "LayoutModel",
          "model_module_version": "1.2.0",
          "state": {
            "_model_module": "@jupyter-widgets/base",
            "_model_module_version": "1.2.0",
            "_model_name": "LayoutModel",
            "_view_count": null,
            "_view_module": "@jupyter-widgets/base",
            "_view_module_version": "1.2.0",
            "_view_name": "LayoutView",
            "align_content": null,
            "align_items": null,
            "align_self": null,
            "border": null,
            "bottom": null,
            "display": null,
            "flex": null,
            "flex_flow": null,
            "grid_area": null,
            "grid_auto_columns": null,
            "grid_auto_flow": null,
            "grid_auto_rows": null,
            "grid_column": null,
            "grid_gap": null,
            "grid_row": null,
            "grid_template_areas": null,
            "grid_template_columns": null,
            "grid_template_rows": null,
            "height": null,
            "justify_content": null,
            "justify_items": null,
            "left": null,
            "margin": null,
            "max_height": null,
            "max_width": null,
            "min_height": null,
            "min_width": null,
            "object_fit": null,
            "object_position": null,
            "order": null,
            "overflow": null,
            "overflow_x": null,
            "overflow_y": null,
            "padding": null,
            "right": null,
            "top": null,
            "visibility": null,
            "width": null
          }
        },
        "0550928533a449a8a47f44b7c2323062": {
          "model_module": "@jupyter-widgets/base",
          "model_name": "LayoutModel",
          "model_module_version": "1.2.0",
          "state": {
            "_model_module": "@jupyter-widgets/base",
            "_model_module_version": "1.2.0",
            "_model_name": "LayoutModel",
            "_view_count": null,
            "_view_module": "@jupyter-widgets/base",
            "_view_module_version": "1.2.0",
            "_view_name": "LayoutView",
            "align_content": null,
            "align_items": null,
            "align_self": null,
            "border": null,
            "bottom": null,
            "display": null,
            "flex": null,
            "flex_flow": null,
            "grid_area": null,
            "grid_auto_columns": null,
            "grid_auto_flow": null,
            "grid_auto_rows": null,
            "grid_column": null,
            "grid_gap": null,
            "grid_row": null,
            "grid_template_areas": null,
            "grid_template_columns": null,
            "grid_template_rows": null,
            "height": null,
            "justify_content": null,
            "justify_items": null,
            "left": null,
            "margin": null,
            "max_height": null,
            "max_width": null,
            "min_height": null,
            "min_width": null,
            "object_fit": null,
            "object_position": null,
            "order": null,
            "overflow": null,
            "overflow_x": null,
            "overflow_y": null,
            "padding": null,
            "right": null,
            "top": null,
            "visibility": null,
            "width": null
          }
        },
        "f029d7d0b7b34c01bd30f87f47c28074": {
          "model_module": "@jupyter-widgets/controls",
          "model_name": "DescriptionStyleModel",
          "model_module_version": "1.5.0",
          "state": {
            "_model_module": "@jupyter-widgets/controls",
            "_model_module_version": "1.5.0",
            "_model_name": "DescriptionStyleModel",
            "_view_count": null,
            "_view_module": "@jupyter-widgets/base",
            "_view_module_version": "1.2.0",
            "_view_name": "StyleView",
            "description_width": ""
          }
        },
        "e0affd11397545c7b9a164092f9dc1ba": {
          "model_module": "@jupyter-widgets/base",
          "model_name": "LayoutModel",
          "model_module_version": "1.2.0",
          "state": {
            "_model_module": "@jupyter-widgets/base",
            "_model_module_version": "1.2.0",
            "_model_name": "LayoutModel",
            "_view_count": null,
            "_view_module": "@jupyter-widgets/base",
            "_view_module_version": "1.2.0",
            "_view_name": "LayoutView",
            "align_content": null,
            "align_items": null,
            "align_self": null,
            "border": null,
            "bottom": null,
            "display": null,
            "flex": null,
            "flex_flow": null,
            "grid_area": null,
            "grid_auto_columns": null,
            "grid_auto_flow": null,
            "grid_auto_rows": null,
            "grid_column": null,
            "grid_gap": null,
            "grid_row": null,
            "grid_template_areas": null,
            "grid_template_columns": null,
            "grid_template_rows": null,
            "height": null,
            "justify_content": null,
            "justify_items": null,
            "left": null,
            "margin": null,
            "max_height": null,
            "max_width": null,
            "min_height": null,
            "min_width": null,
            "object_fit": null,
            "object_position": null,
            "order": null,
            "overflow": null,
            "overflow_x": null,
            "overflow_y": null,
            "padding": null,
            "right": null,
            "top": null,
            "visibility": null,
            "width": null
          }
        },
        "3bb4a43d2b744cfcae84efc0a1d441b4": {
          "model_module": "@jupyter-widgets/controls",
          "model_name": "ProgressStyleModel",
          "model_module_version": "1.5.0",
          "state": {
            "_model_module": "@jupyter-widgets/controls",
            "_model_module_version": "1.5.0",
            "_model_name": "ProgressStyleModel",
            "_view_count": null,
            "_view_module": "@jupyter-widgets/base",
            "_view_module_version": "1.2.0",
            "_view_name": "StyleView",
            "bar_color": null,
            "description_width": ""
          }
        },
        "f7559b9f0d3245fabe80b2b5410d0b42": {
          "model_module": "@jupyter-widgets/base",
          "model_name": "LayoutModel",
          "model_module_version": "1.2.0",
          "state": {
            "_model_module": "@jupyter-widgets/base",
            "_model_module_version": "1.2.0",
            "_model_name": "LayoutModel",
            "_view_count": null,
            "_view_module": "@jupyter-widgets/base",
            "_view_module_version": "1.2.0",
            "_view_name": "LayoutView",
            "align_content": null,
            "align_items": null,
            "align_self": null,
            "border": null,
            "bottom": null,
            "display": null,
            "flex": null,
            "flex_flow": null,
            "grid_area": null,
            "grid_auto_columns": null,
            "grid_auto_flow": null,
            "grid_auto_rows": null,
            "grid_column": null,
            "grid_gap": null,
            "grid_row": null,
            "grid_template_areas": null,
            "grid_template_columns": null,
            "grid_template_rows": null,
            "height": null,
            "justify_content": null,
            "justify_items": null,
            "left": null,
            "margin": null,
            "max_height": null,
            "max_width": null,
            "min_height": null,
            "min_width": null,
            "object_fit": null,
            "object_position": null,
            "order": null,
            "overflow": null,
            "overflow_x": null,
            "overflow_y": null,
            "padding": null,
            "right": null,
            "top": null,
            "visibility": null,
            "width": null
          }
        },
        "bd028d61c40145d282e306bc57592b45": {
          "model_module": "@jupyter-widgets/controls",
          "model_name": "DescriptionStyleModel",
          "model_module_version": "1.5.0",
          "state": {
            "_model_module": "@jupyter-widgets/controls",
            "_model_module_version": "1.5.0",
            "_model_name": "DescriptionStyleModel",
            "_view_count": null,
            "_view_module": "@jupyter-widgets/base",
            "_view_module_version": "1.2.0",
            "_view_name": "StyleView",
            "description_width": ""
          }
        },
        "b21dfce3d77248aeabef044e9139dd6d": {
          "model_module": "@jupyter-widgets/controls",
          "model_name": "HBoxModel",
          "model_module_version": "1.5.0",
          "state": {
            "_dom_classes": [],
            "_model_module": "@jupyter-widgets/controls",
            "_model_module_version": "1.5.0",
            "_model_name": "HBoxModel",
            "_view_count": null,
            "_view_module": "@jupyter-widgets/controls",
            "_view_module_version": "1.5.0",
            "_view_name": "HBoxView",
            "box_style": "",
            "children": [
              "IPY_MODEL_76f1b70d0ca6465ab58cdeb9e2603092",
              "IPY_MODEL_395fb4a140c84cbbbd9ddc7b12821b6b",
              "IPY_MODEL_724e1c6da3194c1d981fda4a518f1c13"
            ],
            "layout": "IPY_MODEL_b00e66f5376c4aa8a949379d7effebf9"
          }
        },
        "76f1b70d0ca6465ab58cdeb9e2603092": {
          "model_module": "@jupyter-widgets/controls",
          "model_name": "HTMLModel",
          "model_module_version": "1.5.0",
          "state": {
            "_dom_classes": [],
            "_model_module": "@jupyter-widgets/controls",
            "_model_module_version": "1.5.0",
            "_model_name": "HTMLModel",
            "_view_count": null,
            "_view_module": "@jupyter-widgets/controls",
            "_view_module_version": "1.5.0",
            "_view_name": "HTMLView",
            "description": "",
            "description_tooltip": null,
            "layout": "IPY_MODEL_3d1ff9731eaf478e9bfee6687e10c83d",
            "placeholder": "​",
            "style": "IPY_MODEL_d51055c38f9f4e66ae43270bace7964d",
            "value": "tokenizer.json: 100%"
          }
        },
        "395fb4a140c84cbbbd9ddc7b12821b6b": {
          "model_module": "@jupyter-widgets/controls",
          "model_name": "FloatProgressModel",
          "model_module_version": "1.5.0",
          "state": {
            "_dom_classes": [],
            "_model_module": "@jupyter-widgets/controls",
            "_model_module_version": "1.5.0",
            "_model_name": "FloatProgressModel",
            "_view_count": null,
            "_view_module": "@jupyter-widgets/controls",
            "_view_module_version": "1.5.0",
            "_view_name": "ProgressView",
            "bar_style": "success",
            "description": "",
            "description_tooltip": null,
            "layout": "IPY_MODEL_ea1b332263694faea9a05eb61f6e0ad5",
            "max": 435797,
            "min": 0,
            "orientation": "horizontal",
            "style": "IPY_MODEL_77fc65af0be24b8f9296f269c6fd07e4",
            "value": 435797
          }
        },
        "724e1c6da3194c1d981fda4a518f1c13": {
          "model_module": "@jupyter-widgets/controls",
          "model_name": "HTMLModel",
          "model_module_version": "1.5.0",
          "state": {
            "_dom_classes": [],
            "_model_module": "@jupyter-widgets/controls",
            "_model_module_version": "1.5.0",
            "_model_name": "HTMLModel",
            "_view_count": null,
            "_view_module": "@jupyter-widgets/controls",
            "_view_module_version": "1.5.0",
            "_view_name": "HTMLView",
            "description": "",
            "description_tooltip": null,
            "layout": "IPY_MODEL_8e0c5128eed24fa7bd005f50d3778e67",
            "placeholder": "​",
            "style": "IPY_MODEL_e068ddd1eb5d4226bc46770fcd20282c",
            "value": " 436k/436k [00:00&lt;00:00, 18.8MB/s]"
          }
        },
        "b00e66f5376c4aa8a949379d7effebf9": {
          "model_module": "@jupyter-widgets/base",
          "model_name": "LayoutModel",
          "model_module_version": "1.2.0",
          "state": {
            "_model_module": "@jupyter-widgets/base",
            "_model_module_version": "1.2.0",
            "_model_name": "LayoutModel",
            "_view_count": null,
            "_view_module": "@jupyter-widgets/base",
            "_view_module_version": "1.2.0",
            "_view_name": "LayoutView",
            "align_content": null,
            "align_items": null,
            "align_self": null,
            "border": null,
            "bottom": null,
            "display": null,
            "flex": null,
            "flex_flow": null,
            "grid_area": null,
            "grid_auto_columns": null,
            "grid_auto_flow": null,
            "grid_auto_rows": null,
            "grid_column": null,
            "grid_gap": null,
            "grid_row": null,
            "grid_template_areas": null,
            "grid_template_columns": null,
            "grid_template_rows": null,
            "height": null,
            "justify_content": null,
            "justify_items": null,
            "left": null,
            "margin": null,
            "max_height": null,
            "max_width": null,
            "min_height": null,
            "min_width": null,
            "object_fit": null,
            "object_position": null,
            "order": null,
            "overflow": null,
            "overflow_x": null,
            "overflow_y": null,
            "padding": null,
            "right": null,
            "top": null,
            "visibility": null,
            "width": null
          }
        },
        "3d1ff9731eaf478e9bfee6687e10c83d": {
          "model_module": "@jupyter-widgets/base",
          "model_name": "LayoutModel",
          "model_module_version": "1.2.0",
          "state": {
            "_model_module": "@jupyter-widgets/base",
            "_model_module_version": "1.2.0",
            "_model_name": "LayoutModel",
            "_view_count": null,
            "_view_module": "@jupyter-widgets/base",
            "_view_module_version": "1.2.0",
            "_view_name": "LayoutView",
            "align_content": null,
            "align_items": null,
            "align_self": null,
            "border": null,
            "bottom": null,
            "display": null,
            "flex": null,
            "flex_flow": null,
            "grid_area": null,
            "grid_auto_columns": null,
            "grid_auto_flow": null,
            "grid_auto_rows": null,
            "grid_column": null,
            "grid_gap": null,
            "grid_row": null,
            "grid_template_areas": null,
            "grid_template_columns": null,
            "grid_template_rows": null,
            "height": null,
            "justify_content": null,
            "justify_items": null,
            "left": null,
            "margin": null,
            "max_height": null,
            "max_width": null,
            "min_height": null,
            "min_width": null,
            "object_fit": null,
            "object_position": null,
            "order": null,
            "overflow": null,
            "overflow_x": null,
            "overflow_y": null,
            "padding": null,
            "right": null,
            "top": null,
            "visibility": null,
            "width": null
          }
        },
        "d51055c38f9f4e66ae43270bace7964d": {
          "model_module": "@jupyter-widgets/controls",
          "model_name": "DescriptionStyleModel",
          "model_module_version": "1.5.0",
          "state": {
            "_model_module": "@jupyter-widgets/controls",
            "_model_module_version": "1.5.0",
            "_model_name": "DescriptionStyleModel",
            "_view_count": null,
            "_view_module": "@jupyter-widgets/base",
            "_view_module_version": "1.2.0",
            "_view_name": "StyleView",
            "description_width": ""
          }
        },
        "ea1b332263694faea9a05eb61f6e0ad5": {
          "model_module": "@jupyter-widgets/base",
          "model_name": "LayoutModel",
          "model_module_version": "1.2.0",
          "state": {
            "_model_module": "@jupyter-widgets/base",
            "_model_module_version": "1.2.0",
            "_model_name": "LayoutModel",
            "_view_count": null,
            "_view_module": "@jupyter-widgets/base",
            "_view_module_version": "1.2.0",
            "_view_name": "LayoutView",
            "align_content": null,
            "align_items": null,
            "align_self": null,
            "border": null,
            "bottom": null,
            "display": null,
            "flex": null,
            "flex_flow": null,
            "grid_area": null,
            "grid_auto_columns": null,
            "grid_auto_flow": null,
            "grid_auto_rows": null,
            "grid_column": null,
            "grid_gap": null,
            "grid_row": null,
            "grid_template_areas": null,
            "grid_template_columns": null,
            "grid_template_rows": null,
            "height": null,
            "justify_content": null,
            "justify_items": null,
            "left": null,
            "margin": null,
            "max_height": null,
            "max_width": null,
            "min_height": null,
            "min_width": null,
            "object_fit": null,
            "object_position": null,
            "order": null,
            "overflow": null,
            "overflow_x": null,
            "overflow_y": null,
            "padding": null,
            "right": null,
            "top": null,
            "visibility": null,
            "width": null
          }
        },
        "77fc65af0be24b8f9296f269c6fd07e4": {
          "model_module": "@jupyter-widgets/controls",
          "model_name": "ProgressStyleModel",
          "model_module_version": "1.5.0",
          "state": {
            "_model_module": "@jupyter-widgets/controls",
            "_model_module_version": "1.5.0",
            "_model_name": "ProgressStyleModel",
            "_view_count": null,
            "_view_module": "@jupyter-widgets/base",
            "_view_module_version": "1.2.0",
            "_view_name": "StyleView",
            "bar_color": null,
            "description_width": ""
          }
        },
        "8e0c5128eed24fa7bd005f50d3778e67": {
          "model_module": "@jupyter-widgets/base",
          "model_name": "LayoutModel",
          "model_module_version": "1.2.0",
          "state": {
            "_model_module": "@jupyter-widgets/base",
            "_model_module_version": "1.2.0",
            "_model_name": "LayoutModel",
            "_view_count": null,
            "_view_module": "@jupyter-widgets/base",
            "_view_module_version": "1.2.0",
            "_view_name": "LayoutView",
            "align_content": null,
            "align_items": null,
            "align_self": null,
            "border": null,
            "bottom": null,
            "display": null,
            "flex": null,
            "flex_flow": null,
            "grid_area": null,
            "grid_auto_columns": null,
            "grid_auto_flow": null,
            "grid_auto_rows": null,
            "grid_column": null,
            "grid_gap": null,
            "grid_row": null,
            "grid_template_areas": null,
            "grid_template_columns": null,
            "grid_template_rows": null,
            "height": null,
            "justify_content": null,
            "justify_items": null,
            "left": null,
            "margin": null,
            "max_height": null,
            "max_width": null,
            "min_height": null,
            "min_width": null,
            "object_fit": null,
            "object_position": null,
            "order": null,
            "overflow": null,
            "overflow_x": null,
            "overflow_y": null,
            "padding": null,
            "right": null,
            "top": null,
            "visibility": null,
            "width": null
          }
        },
        "e068ddd1eb5d4226bc46770fcd20282c": {
          "model_module": "@jupyter-widgets/controls",
          "model_name": "DescriptionStyleModel",
          "model_module_version": "1.5.0",
          "state": {
            "_model_module": "@jupyter-widgets/controls",
            "_model_module_version": "1.5.0",
            "_model_name": "DescriptionStyleModel",
            "_view_count": null,
            "_view_module": "@jupyter-widgets/base",
            "_view_module_version": "1.2.0",
            "_view_name": "StyleView",
            "description_width": ""
          }
        },
        "54b988bad39b4a50865cb5933a5236c4": {
          "model_module": "@jupyter-widgets/controls",
          "model_name": "HBoxModel",
          "model_module_version": "1.5.0",
          "state": {
            "_dom_classes": [],
            "_model_module": "@jupyter-widgets/controls",
            "_model_module_version": "1.5.0",
            "_model_name": "HBoxModel",
            "_view_count": null,
            "_view_module": "@jupyter-widgets/controls",
            "_view_module_version": "1.5.0",
            "_view_name": "HBoxView",
            "box_style": "",
            "children": [
              "IPY_MODEL_674c0a9385fc40179207f621ac287e44",
              "IPY_MODEL_1d98818fbe8343438dbfbfa9aa4f0758",
              "IPY_MODEL_a705436c973843a3a7759227dc5e3d53"
            ],
            "layout": "IPY_MODEL_ec40fb86c4fb44a4bc844f98ac9a60e1"
          }
        },
        "674c0a9385fc40179207f621ac287e44": {
          "model_module": "@jupyter-widgets/controls",
          "model_name": "HTMLModel",
          "model_module_version": "1.5.0",
          "state": {
            "_dom_classes": [],
            "_model_module": "@jupyter-widgets/controls",
            "_model_module_version": "1.5.0",
            "_model_name": "HTMLModel",
            "_view_count": null,
            "_view_module": "@jupyter-widgets/controls",
            "_view_module_version": "1.5.0",
            "_view_name": "HTMLView",
            "description": "",
            "description_tooltip": null,
            "layout": "IPY_MODEL_647b3575731847ac90c545d7daf6b3bf",
            "placeholder": "​",
            "style": "IPY_MODEL_65912f0b7c16408eb44724e92e450988",
            "value": "model.safetensors: 100%"
          }
        },
        "1d98818fbe8343438dbfbfa9aa4f0758": {
          "model_module": "@jupyter-widgets/controls",
          "model_name": "FloatProgressModel",
          "model_module_version": "1.5.0",
          "state": {
            "_dom_classes": [],
            "_model_module": "@jupyter-widgets/controls",
            "_model_module_version": "1.5.0",
            "_model_name": "FloatProgressModel",
            "_view_count": null,
            "_view_module": "@jupyter-widgets/controls",
            "_view_module_version": "1.5.0",
            "_view_name": "ProgressView",
            "bar_style": "success",
            "description": "",
            "description_tooltip": null,
            "layout": "IPY_MODEL_0eead121da0f4b67bd6ed4ca03d55a41",
            "max": 260782156,
            "min": 0,
            "orientation": "horizontal",
            "style": "IPY_MODEL_2da2abde2cdf46c99cdc43f9f5af61eb",
            "value": 260782156
          }
        },
        "a705436c973843a3a7759227dc5e3d53": {
          "model_module": "@jupyter-widgets/controls",
          "model_name": "HTMLModel",
          "model_module_version": "1.5.0",
          "state": {
            "_dom_classes": [],
            "_model_module": "@jupyter-widgets/controls",
            "_model_module_version": "1.5.0",
            "_model_name": "HTMLModel",
            "_view_count": null,
            "_view_module": "@jupyter-widgets/controls",
            "_view_module_version": "1.5.0",
            "_view_name": "HTMLView",
            "description": "",
            "description_tooltip": null,
            "layout": "IPY_MODEL_4917b1cbdca04b9186b4b527536ae404",
            "placeholder": "​",
            "style": "IPY_MODEL_4b60eaf02a1f4c6fb10146b58c6d87cc",
            "value": " 261M/261M [00:01&lt;00:00, 226MB/s]"
          }
        },
        "ec40fb86c4fb44a4bc844f98ac9a60e1": {
          "model_module": "@jupyter-widgets/base",
          "model_name": "LayoutModel",
          "model_module_version": "1.2.0",
          "state": {
            "_model_module": "@jupyter-widgets/base",
            "_model_module_version": "1.2.0",
            "_model_name": "LayoutModel",
            "_view_count": null,
            "_view_module": "@jupyter-widgets/base",
            "_view_module_version": "1.2.0",
            "_view_name": "LayoutView",
            "align_content": null,
            "align_items": null,
            "align_self": null,
            "border": null,
            "bottom": null,
            "display": null,
            "flex": null,
            "flex_flow": null,
            "grid_area": null,
            "grid_auto_columns": null,
            "grid_auto_flow": null,
            "grid_auto_rows": null,
            "grid_column": null,
            "grid_gap": null,
            "grid_row": null,
            "grid_template_areas": null,
            "grid_template_columns": null,
            "grid_template_rows": null,
            "height": null,
            "justify_content": null,
            "justify_items": null,
            "left": null,
            "margin": null,
            "max_height": null,
            "max_width": null,
            "min_height": null,
            "min_width": null,
            "object_fit": null,
            "object_position": null,
            "order": null,
            "overflow": null,
            "overflow_x": null,
            "overflow_y": null,
            "padding": null,
            "right": null,
            "top": null,
            "visibility": null,
            "width": null
          }
        },
        "647b3575731847ac90c545d7daf6b3bf": {
          "model_module": "@jupyter-widgets/base",
          "model_name": "LayoutModel",
          "model_module_version": "1.2.0",
          "state": {
            "_model_module": "@jupyter-widgets/base",
            "_model_module_version": "1.2.0",
            "_model_name": "LayoutModel",
            "_view_count": null,
            "_view_module": "@jupyter-widgets/base",
            "_view_module_version": "1.2.0",
            "_view_name": "LayoutView",
            "align_content": null,
            "align_items": null,
            "align_self": null,
            "border": null,
            "bottom": null,
            "display": null,
            "flex": null,
            "flex_flow": null,
            "grid_area": null,
            "grid_auto_columns": null,
            "grid_auto_flow": null,
            "grid_auto_rows": null,
            "grid_column": null,
            "grid_gap": null,
            "grid_row": null,
            "grid_template_areas": null,
            "grid_template_columns": null,
            "grid_template_rows": null,
            "height": null,
            "justify_content": null,
            "justify_items": null,
            "left": null,
            "margin": null,
            "max_height": null,
            "max_width": null,
            "min_height": null,
            "min_width": null,
            "object_fit": null,
            "object_position": null,
            "order": null,
            "overflow": null,
            "overflow_x": null,
            "overflow_y": null,
            "padding": null,
            "right": null,
            "top": null,
            "visibility": null,
            "width": null
          }
        },
        "65912f0b7c16408eb44724e92e450988": {
          "model_module": "@jupyter-widgets/controls",
          "model_name": "DescriptionStyleModel",
          "model_module_version": "1.5.0",
          "state": {
            "_model_module": "@jupyter-widgets/controls",
            "_model_module_version": "1.5.0",
            "_model_name": "DescriptionStyleModel",
            "_view_count": null,
            "_view_module": "@jupyter-widgets/base",
            "_view_module_version": "1.2.0",
            "_view_name": "StyleView",
            "description_width": ""
          }
        },
        "0eead121da0f4b67bd6ed4ca03d55a41": {
          "model_module": "@jupyter-widgets/base",
          "model_name": "LayoutModel",
          "model_module_version": "1.2.0",
          "state": {
            "_model_module": "@jupyter-widgets/base",
            "_model_module_version": "1.2.0",
            "_model_name": "LayoutModel",
            "_view_count": null,
            "_view_module": "@jupyter-widgets/base",
            "_view_module_version": "1.2.0",
            "_view_name": "LayoutView",
            "align_content": null,
            "align_items": null,
            "align_self": null,
            "border": null,
            "bottom": null,
            "display": null,
            "flex": null,
            "flex_flow": null,
            "grid_area": null,
            "grid_auto_columns": null,
            "grid_auto_flow": null,
            "grid_auto_rows": null,
            "grid_column": null,
            "grid_gap": null,
            "grid_row": null,
            "grid_template_areas": null,
            "grid_template_columns": null,
            "grid_template_rows": null,
            "height": null,
            "justify_content": null,
            "justify_items": null,
            "left": null,
            "margin": null,
            "max_height": null,
            "max_width": null,
            "min_height": null,
            "min_width": null,
            "object_fit": null,
            "object_position": null,
            "order": null,
            "overflow": null,
            "overflow_x": null,
            "overflow_y": null,
            "padding": null,
            "right": null,
            "top": null,
            "visibility": null,
            "width": null
          }
        },
        "2da2abde2cdf46c99cdc43f9f5af61eb": {
          "model_module": "@jupyter-widgets/controls",
          "model_name": "ProgressStyleModel",
          "model_module_version": "1.5.0",
          "state": {
            "_model_module": "@jupyter-widgets/controls",
            "_model_module_version": "1.5.0",
            "_model_name": "ProgressStyleModel",
            "_view_count": null,
            "_view_module": "@jupyter-widgets/base",
            "_view_module_version": "1.2.0",
            "_view_name": "StyleView",
            "bar_color": null,
            "description_width": ""
          }
        },
        "4917b1cbdca04b9186b4b527536ae404": {
          "model_module": "@jupyter-widgets/base",
          "model_name": "LayoutModel",
          "model_module_version": "1.2.0",
          "state": {
            "_model_module": "@jupyter-widgets/base",
            "_model_module_version": "1.2.0",
            "_model_name": "LayoutModel",
            "_view_count": null,
            "_view_module": "@jupyter-widgets/base",
            "_view_module_version": "1.2.0",
            "_view_name": "LayoutView",
            "align_content": null,
            "align_items": null,
            "align_self": null,
            "border": null,
            "bottom": null,
            "display": null,
            "flex": null,
            "flex_flow": null,
            "grid_area": null,
            "grid_auto_columns": null,
            "grid_auto_flow": null,
            "grid_auto_rows": null,
            "grid_column": null,
            "grid_gap": null,
            "grid_row": null,
            "grid_template_areas": null,
            "grid_template_columns": null,
            "grid_template_rows": null,
            "height": null,
            "justify_content": null,
            "justify_items": null,
            "left": null,
            "margin": null,
            "max_height": null,
            "max_width": null,
            "min_height": null,
            "min_width": null,
            "object_fit": null,
            "object_position": null,
            "order": null,
            "overflow": null,
            "overflow_x": null,
            "overflow_y": null,
            "padding": null,
            "right": null,
            "top": null,
            "visibility": null,
            "width": null
          }
        },
        "4b60eaf02a1f4c6fb10146b58c6d87cc": {
          "model_module": "@jupyter-widgets/controls",
          "model_name": "DescriptionStyleModel",
          "model_module_version": "1.5.0",
          "state": {
            "_model_module": "@jupyter-widgets/controls",
            "_model_module_version": "1.5.0",
            "_model_name": "DescriptionStyleModel",
            "_view_count": null,
            "_view_module": "@jupyter-widgets/base",
            "_view_module_version": "1.2.0",
            "_view_name": "StyleView",
            "description_width": ""
          }
        },
        "5d6400093bf041e8b31c66507f3ac7bb": {
          "model_module": "@jupyter-widgets/controls",
          "model_name": "HBoxModel",
          "model_module_version": "1.5.0",
          "state": {
            "_dom_classes": [],
            "_model_module": "@jupyter-widgets/controls",
            "_model_module_version": "1.5.0",
            "_model_name": "HBoxModel",
            "_view_count": null,
            "_view_module": "@jupyter-widgets/controls",
            "_view_module_version": "1.5.0",
            "_view_name": "HBoxView",
            "box_style": "",
            "children": [
              "IPY_MODEL_5a128a4214e34ae6af05c7896894087d",
              "IPY_MODEL_3be34dcec7e34b38929e0da096d908be",
              "IPY_MODEL_79a7ac0ea2de4419bd65879aacdda3b2"
            ],
            "layout": "IPY_MODEL_0e3b46fefafb4c81b31a5def543acef5"
          }
        },
        "5a128a4214e34ae6af05c7896894087d": {
          "model_module": "@jupyter-widgets/controls",
          "model_name": "HTMLModel",
          "model_module_version": "1.5.0",
          "state": {
            "_dom_classes": [],
            "_model_module": "@jupyter-widgets/controls",
            "_model_module_version": "1.5.0",
            "_model_name": "HTMLModel",
            "_view_count": null,
            "_view_module": "@jupyter-widgets/controls",
            "_view_module_version": "1.5.0",
            "_view_name": "HTMLView",
            "description": "",
            "description_tooltip": null,
            "layout": "IPY_MODEL_55c683aa0f3f454ebd12cba27078fbfe",
            "placeholder": "​",
            "style": "IPY_MODEL_62886b4a0c3c4772869925fb737aae06",
            "value": "tokenizer_config.json: 100%"
          }
        },
        "3be34dcec7e34b38929e0da096d908be": {
          "model_module": "@jupyter-widgets/controls",
          "model_name": "FloatProgressModel",
          "model_module_version": "1.5.0",
          "state": {
            "_dom_classes": [],
            "_model_module": "@jupyter-widgets/controls",
            "_model_module_version": "1.5.0",
            "_model_name": "FloatProgressModel",
            "_view_count": null,
            "_view_module": "@jupyter-widgets/controls",
            "_view_module_version": "1.5.0",
            "_view_name": "ProgressView",
            "bar_style": "success",
            "description": "",
            "description_tooltip": null,
            "layout": "IPY_MODEL_0bc0341f6bd145b5898af12ef6beb187",
            "max": 26,
            "min": 0,
            "orientation": "horizontal",
            "style": "IPY_MODEL_0901fd4713fc44b99d1f176dcac50586",
            "value": 26
          }
        },
        "79a7ac0ea2de4419bd65879aacdda3b2": {
          "model_module": "@jupyter-widgets/controls",
          "model_name": "HTMLModel",
          "model_module_version": "1.5.0",
          "state": {
            "_dom_classes": [],
            "_model_module": "@jupyter-widgets/controls",
            "_model_module_version": "1.5.0",
            "_model_name": "HTMLModel",
            "_view_count": null,
            "_view_module": "@jupyter-widgets/controls",
            "_view_module_version": "1.5.0",
            "_view_name": "HTMLView",
            "description": "",
            "description_tooltip": null,
            "layout": "IPY_MODEL_301ff7ef5d1c44cc91e8c7b3eb41cc43",
            "placeholder": "​",
            "style": "IPY_MODEL_c8108959f0504585a385ac6a4d3f63e7",
            "value": " 26.0/26.0 [00:00&lt;00:00, 1.16kB/s]"
          }
        },
        "0e3b46fefafb4c81b31a5def543acef5": {
          "model_module": "@jupyter-widgets/base",
          "model_name": "LayoutModel",
          "model_module_version": "1.2.0",
          "state": {
            "_model_module": "@jupyter-widgets/base",
            "_model_module_version": "1.2.0",
            "_model_name": "LayoutModel",
            "_view_count": null,
            "_view_module": "@jupyter-widgets/base",
            "_view_module_version": "1.2.0",
            "_view_name": "LayoutView",
            "align_content": null,
            "align_items": null,
            "align_self": null,
            "border": null,
            "bottom": null,
            "display": null,
            "flex": null,
            "flex_flow": null,
            "grid_area": null,
            "grid_auto_columns": null,
            "grid_auto_flow": null,
            "grid_auto_rows": null,
            "grid_column": null,
            "grid_gap": null,
            "grid_row": null,
            "grid_template_areas": null,
            "grid_template_columns": null,
            "grid_template_rows": null,
            "height": null,
            "justify_content": null,
            "justify_items": null,
            "left": null,
            "margin": null,
            "max_height": null,
            "max_width": null,
            "min_height": null,
            "min_width": null,
            "object_fit": null,
            "object_position": null,
            "order": null,
            "overflow": null,
            "overflow_x": null,
            "overflow_y": null,
            "padding": null,
            "right": null,
            "top": null,
            "visibility": null,
            "width": null
          }
        },
        "55c683aa0f3f454ebd12cba27078fbfe": {
          "model_module": "@jupyter-widgets/base",
          "model_name": "LayoutModel",
          "model_module_version": "1.2.0",
          "state": {
            "_model_module": "@jupyter-widgets/base",
            "_model_module_version": "1.2.0",
            "_model_name": "LayoutModel",
            "_view_count": null,
            "_view_module": "@jupyter-widgets/base",
            "_view_module_version": "1.2.0",
            "_view_name": "LayoutView",
            "align_content": null,
            "align_items": null,
            "align_self": null,
            "border": null,
            "bottom": null,
            "display": null,
            "flex": null,
            "flex_flow": null,
            "grid_area": null,
            "grid_auto_columns": null,
            "grid_auto_flow": null,
            "grid_auto_rows": null,
            "grid_column": null,
            "grid_gap": null,
            "grid_row": null,
            "grid_template_areas": null,
            "grid_template_columns": null,
            "grid_template_rows": null,
            "height": null,
            "justify_content": null,
            "justify_items": null,
            "left": null,
            "margin": null,
            "max_height": null,
            "max_width": null,
            "min_height": null,
            "min_width": null,
            "object_fit": null,
            "object_position": null,
            "order": null,
            "overflow": null,
            "overflow_x": null,
            "overflow_y": null,
            "padding": null,
            "right": null,
            "top": null,
            "visibility": null,
            "width": null
          }
        },
        "62886b4a0c3c4772869925fb737aae06": {
          "model_module": "@jupyter-widgets/controls",
          "model_name": "DescriptionStyleModel",
          "model_module_version": "1.5.0",
          "state": {
            "_model_module": "@jupyter-widgets/controls",
            "_model_module_version": "1.5.0",
            "_model_name": "DescriptionStyleModel",
            "_view_count": null,
            "_view_module": "@jupyter-widgets/base",
            "_view_module_version": "1.2.0",
            "_view_name": "StyleView",
            "description_width": ""
          }
        },
        "0bc0341f6bd145b5898af12ef6beb187": {
          "model_module": "@jupyter-widgets/base",
          "model_name": "LayoutModel",
          "model_module_version": "1.2.0",
          "state": {
            "_model_module": "@jupyter-widgets/base",
            "_model_module_version": "1.2.0",
            "_model_name": "LayoutModel",
            "_view_count": null,
            "_view_module": "@jupyter-widgets/base",
            "_view_module_version": "1.2.0",
            "_view_name": "LayoutView",
            "align_content": null,
            "align_items": null,
            "align_self": null,
            "border": null,
            "bottom": null,
            "display": null,
            "flex": null,
            "flex_flow": null,
            "grid_area": null,
            "grid_auto_columns": null,
            "grid_auto_flow": null,
            "grid_auto_rows": null,
            "grid_column": null,
            "grid_gap": null,
            "grid_row": null,
            "grid_template_areas": null,
            "grid_template_columns": null,
            "grid_template_rows": null,
            "height": null,
            "justify_content": null,
            "justify_items": null,
            "left": null,
            "margin": null,
            "max_height": null,
            "max_width": null,
            "min_height": null,
            "min_width": null,
            "object_fit": null,
            "object_position": null,
            "order": null,
            "overflow": null,
            "overflow_x": null,
            "overflow_y": null,
            "padding": null,
            "right": null,
            "top": null,
            "visibility": null,
            "width": null
          }
        },
        "0901fd4713fc44b99d1f176dcac50586": {
          "model_module": "@jupyter-widgets/controls",
          "model_name": "ProgressStyleModel",
          "model_module_version": "1.5.0",
          "state": {
            "_model_module": "@jupyter-widgets/controls",
            "_model_module_version": "1.5.0",
            "_model_name": "ProgressStyleModel",
            "_view_count": null,
            "_view_module": "@jupyter-widgets/base",
            "_view_module_version": "1.2.0",
            "_view_name": "StyleView",
            "bar_color": null,
            "description_width": ""
          }
        },
        "301ff7ef5d1c44cc91e8c7b3eb41cc43": {
          "model_module": "@jupyter-widgets/base",
          "model_name": "LayoutModel",
          "model_module_version": "1.2.0",
          "state": {
            "_model_module": "@jupyter-widgets/base",
            "_model_module_version": "1.2.0",
            "_model_name": "LayoutModel",
            "_view_count": null,
            "_view_module": "@jupyter-widgets/base",
            "_view_module_version": "1.2.0",
            "_view_name": "LayoutView",
            "align_content": null,
            "align_items": null,
            "align_self": null,
            "border": null,
            "bottom": null,
            "display": null,
            "flex": null,
            "flex_flow": null,
            "grid_area": null,
            "grid_auto_columns": null,
            "grid_auto_flow": null,
            "grid_auto_rows": null,
            "grid_column": null,
            "grid_gap": null,
            "grid_row": null,
            "grid_template_areas": null,
            "grid_template_columns": null,
            "grid_template_rows": null,
            "height": null,
            "justify_content": null,
            "justify_items": null,
            "left": null,
            "margin": null,
            "max_height": null,
            "max_width": null,
            "min_height": null,
            "min_width": null,
            "object_fit": null,
            "object_position": null,
            "order": null,
            "overflow": null,
            "overflow_x": null,
            "overflow_y": null,
            "padding": null,
            "right": null,
            "top": null,
            "visibility": null,
            "width": null
          }
        },
        "c8108959f0504585a385ac6a4d3f63e7": {
          "model_module": "@jupyter-widgets/controls",
          "model_name": "DescriptionStyleModel",
          "model_module_version": "1.5.0",
          "state": {
            "_model_module": "@jupyter-widgets/controls",
            "_model_module_version": "1.5.0",
            "_model_name": "DescriptionStyleModel",
            "_view_count": null,
            "_view_module": "@jupyter-widgets/base",
            "_view_module_version": "1.2.0",
            "_view_name": "StyleView",
            "description_width": ""
          }
        },
        "46a8758da44941ba912ed374ca51d3e8": {
          "model_module": "@jupyter-widgets/controls",
          "model_name": "HBoxModel",
          "model_module_version": "1.5.0",
          "state": {
            "_dom_classes": [],
            "_model_module": "@jupyter-widgets/controls",
            "_model_module_version": "1.5.0",
            "_model_name": "HBoxModel",
            "_view_count": null,
            "_view_module": "@jupyter-widgets/controls",
            "_view_module_version": "1.5.0",
            "_view_name": "HBoxView",
            "box_style": "",
            "children": [
              "IPY_MODEL_1b9a3ade10ae4698bd77103a8c233003",
              "IPY_MODEL_f34ce5cb30444013afa4019282d89a86",
              "IPY_MODEL_f11066bb3e2d436097eb53c4c67c6261"
            ],
            "layout": "IPY_MODEL_8db7320343d741989cd2193fa6c1d254"
          }
        },
        "1b9a3ade10ae4698bd77103a8c233003": {
          "model_module": "@jupyter-widgets/controls",
          "model_name": "HTMLModel",
          "model_module_version": "1.5.0",
          "state": {
            "_dom_classes": [],
            "_model_module": "@jupyter-widgets/controls",
            "_model_module_version": "1.5.0",
            "_model_name": "HTMLModel",
            "_view_count": null,
            "_view_module": "@jupyter-widgets/controls",
            "_view_module_version": "1.5.0",
            "_view_name": "HTMLView",
            "description": "",
            "description_tooltip": null,
            "layout": "IPY_MODEL_6b98e087faa140e392e08ed9b00997ad",
            "placeholder": "​",
            "style": "IPY_MODEL_8995fabc1ab947ca908ed478127ed3b6",
            "value": "config.json: 100%"
          }
        },
        "f34ce5cb30444013afa4019282d89a86": {
          "model_module": "@jupyter-widgets/controls",
          "model_name": "FloatProgressModel",
          "model_module_version": "1.5.0",
          "state": {
            "_dom_classes": [],
            "_model_module": "@jupyter-widgets/controls",
            "_model_module_version": "1.5.0",
            "_model_name": "FloatProgressModel",
            "_view_count": null,
            "_view_module": "@jupyter-widgets/controls",
            "_view_module_version": "1.5.0",
            "_view_name": "ProgressView",
            "bar_style": "success",
            "description": "",
            "description_tooltip": null,
            "layout": "IPY_MODEL_4a9cb0d08e2045639ee00173c80b1504",
            "max": 665,
            "min": 0,
            "orientation": "horizontal",
            "style": "IPY_MODEL_cc6a5a4b6a9a47dc88caebd93f3c9284",
            "value": 665
          }
        },
        "f11066bb3e2d436097eb53c4c67c6261": {
          "model_module": "@jupyter-widgets/controls",
          "model_name": "HTMLModel",
          "model_module_version": "1.5.0",
          "state": {
            "_dom_classes": [],
            "_model_module": "@jupyter-widgets/controls",
            "_model_module_version": "1.5.0",
            "_model_name": "HTMLModel",
            "_view_count": null,
            "_view_module": "@jupyter-widgets/controls",
            "_view_module_version": "1.5.0",
            "_view_name": "HTMLView",
            "description": "",
            "description_tooltip": null,
            "layout": "IPY_MODEL_87feb8daddf344eca3c991229c0f53a8",
            "placeholder": "​",
            "style": "IPY_MODEL_3dd4088aa930463e94aa392817cd67c8",
            "value": " 665/665 [00:00&lt;00:00, 32.8kB/s]"
          }
        },
        "8db7320343d741989cd2193fa6c1d254": {
          "model_module": "@jupyter-widgets/base",
          "model_name": "LayoutModel",
          "model_module_version": "1.2.0",
          "state": {
            "_model_module": "@jupyter-widgets/base",
            "_model_module_version": "1.2.0",
            "_model_name": "LayoutModel",
            "_view_count": null,
            "_view_module": "@jupyter-widgets/base",
            "_view_module_version": "1.2.0",
            "_view_name": "LayoutView",
            "align_content": null,
            "align_items": null,
            "align_self": null,
            "border": null,
            "bottom": null,
            "display": null,
            "flex": null,
            "flex_flow": null,
            "grid_area": null,
            "grid_auto_columns": null,
            "grid_auto_flow": null,
            "grid_auto_rows": null,
            "grid_column": null,
            "grid_gap": null,
            "grid_row": null,
            "grid_template_areas": null,
            "grid_template_columns": null,
            "grid_template_rows": null,
            "height": null,
            "justify_content": null,
            "justify_items": null,
            "left": null,
            "margin": null,
            "max_height": null,
            "max_width": null,
            "min_height": null,
            "min_width": null,
            "object_fit": null,
            "object_position": null,
            "order": null,
            "overflow": null,
            "overflow_x": null,
            "overflow_y": null,
            "padding": null,
            "right": null,
            "top": null,
            "visibility": null,
            "width": null
          }
        },
        "6b98e087faa140e392e08ed9b00997ad": {
          "model_module": "@jupyter-widgets/base",
          "model_name": "LayoutModel",
          "model_module_version": "1.2.0",
          "state": {
            "_model_module": "@jupyter-widgets/base",
            "_model_module_version": "1.2.0",
            "_model_name": "LayoutModel",
            "_view_count": null,
            "_view_module": "@jupyter-widgets/base",
            "_view_module_version": "1.2.0",
            "_view_name": "LayoutView",
            "align_content": null,
            "align_items": null,
            "align_self": null,
            "border": null,
            "bottom": null,
            "display": null,
            "flex": null,
            "flex_flow": null,
            "grid_area": null,
            "grid_auto_columns": null,
            "grid_auto_flow": null,
            "grid_auto_rows": null,
            "grid_column": null,
            "grid_gap": null,
            "grid_row": null,
            "grid_template_areas": null,
            "grid_template_columns": null,
            "grid_template_rows": null,
            "height": null,
            "justify_content": null,
            "justify_items": null,
            "left": null,
            "margin": null,
            "max_height": null,
            "max_width": null,
            "min_height": null,
            "min_width": null,
            "object_fit": null,
            "object_position": null,
            "order": null,
            "overflow": null,
            "overflow_x": null,
            "overflow_y": null,
            "padding": null,
            "right": null,
            "top": null,
            "visibility": null,
            "width": null
          }
        },
        "8995fabc1ab947ca908ed478127ed3b6": {
          "model_module": "@jupyter-widgets/controls",
          "model_name": "DescriptionStyleModel",
          "model_module_version": "1.5.0",
          "state": {
            "_model_module": "@jupyter-widgets/controls",
            "_model_module_version": "1.5.0",
            "_model_name": "DescriptionStyleModel",
            "_view_count": null,
            "_view_module": "@jupyter-widgets/base",
            "_view_module_version": "1.2.0",
            "_view_name": "StyleView",
            "description_width": ""
          }
        },
        "4a9cb0d08e2045639ee00173c80b1504": {
          "model_module": "@jupyter-widgets/base",
          "model_name": "LayoutModel",
          "model_module_version": "1.2.0",
          "state": {
            "_model_module": "@jupyter-widgets/base",
            "_model_module_version": "1.2.0",
            "_model_name": "LayoutModel",
            "_view_count": null,
            "_view_module": "@jupyter-widgets/base",
            "_view_module_version": "1.2.0",
            "_view_name": "LayoutView",
            "align_content": null,
            "align_items": null,
            "align_self": null,
            "border": null,
            "bottom": null,
            "display": null,
            "flex": null,
            "flex_flow": null,
            "grid_area": null,
            "grid_auto_columns": null,
            "grid_auto_flow": null,
            "grid_auto_rows": null,
            "grid_column": null,
            "grid_gap": null,
            "grid_row": null,
            "grid_template_areas": null,
            "grid_template_columns": null,
            "grid_template_rows": null,
            "height": null,
            "justify_content": null,
            "justify_items": null,
            "left": null,
            "margin": null,
            "max_height": null,
            "max_width": null,
            "min_height": null,
            "min_width": null,
            "object_fit": null,
            "object_position": null,
            "order": null,
            "overflow": null,
            "overflow_x": null,
            "overflow_y": null,
            "padding": null,
            "right": null,
            "top": null,
            "visibility": null,
            "width": null
          }
        },
        "cc6a5a4b6a9a47dc88caebd93f3c9284": {
          "model_module": "@jupyter-widgets/controls",
          "model_name": "ProgressStyleModel",
          "model_module_version": "1.5.0",
          "state": {
            "_model_module": "@jupyter-widgets/controls",
            "_model_module_version": "1.5.0",
            "_model_name": "ProgressStyleModel",
            "_view_count": null,
            "_view_module": "@jupyter-widgets/base",
            "_view_module_version": "1.2.0",
            "_view_name": "StyleView",
            "bar_color": null,
            "description_width": ""
          }
        },
        "87feb8daddf344eca3c991229c0f53a8": {
          "model_module": "@jupyter-widgets/base",
          "model_name": "LayoutModel",
          "model_module_version": "1.2.0",
          "state": {
            "_model_module": "@jupyter-widgets/base",
            "_model_module_version": "1.2.0",
            "_model_name": "LayoutModel",
            "_view_count": null,
            "_view_module": "@jupyter-widgets/base",
            "_view_module_version": "1.2.0",
            "_view_name": "LayoutView",
            "align_content": null,
            "align_items": null,
            "align_self": null,
            "border": null,
            "bottom": null,
            "display": null,
            "flex": null,
            "flex_flow": null,
            "grid_area": null,
            "grid_auto_columns": null,
            "grid_auto_flow": null,
            "grid_auto_rows": null,
            "grid_column": null,
            "grid_gap": null,
            "grid_row": null,
            "grid_template_areas": null,
            "grid_template_columns": null,
            "grid_template_rows": null,
            "height": null,
            "justify_content": null,
            "justify_items": null,
            "left": null,
            "margin": null,
            "max_height": null,
            "max_width": null,
            "min_height": null,
            "min_width": null,
            "object_fit": null,
            "object_position": null,
            "order": null,
            "overflow": null,
            "overflow_x": null,
            "overflow_y": null,
            "padding": null,
            "right": null,
            "top": null,
            "visibility": null,
            "width": null
          }
        },
        "3dd4088aa930463e94aa392817cd67c8": {
          "model_module": "@jupyter-widgets/controls",
          "model_name": "DescriptionStyleModel",
          "model_module_version": "1.5.0",
          "state": {
            "_model_module": "@jupyter-widgets/controls",
            "_model_module_version": "1.5.0",
            "_model_name": "DescriptionStyleModel",
            "_view_count": null,
            "_view_module": "@jupyter-widgets/base",
            "_view_module_version": "1.2.0",
            "_view_name": "StyleView",
            "description_width": ""
          }
        },
        "8ad9a9844e8f43739364a69acb704b67": {
          "model_module": "@jupyter-widgets/controls",
          "model_name": "HBoxModel",
          "model_module_version": "1.5.0",
          "state": {
            "_dom_classes": [],
            "_model_module": "@jupyter-widgets/controls",
            "_model_module_version": "1.5.0",
            "_model_name": "HBoxModel",
            "_view_count": null,
            "_view_module": "@jupyter-widgets/controls",
            "_view_module_version": "1.5.0",
            "_view_name": "HBoxView",
            "box_style": "",
            "children": [
              "IPY_MODEL_d883185271b142e6aea2fd801a5cb686",
              "IPY_MODEL_3c67d087037b490a9dc7753af043588b",
              "IPY_MODEL_a4cad9c33e534a0b8fad2efac657f68e"
            ],
            "layout": "IPY_MODEL_ad3220f9cccd4152b7703bcf5c365f46"
          }
        },
        "d883185271b142e6aea2fd801a5cb686": {
          "model_module": "@jupyter-widgets/controls",
          "model_name": "HTMLModel",
          "model_module_version": "1.5.0",
          "state": {
            "_dom_classes": [],
            "_model_module": "@jupyter-widgets/controls",
            "_model_module_version": "1.5.0",
            "_model_name": "HTMLModel",
            "_view_count": null,
            "_view_module": "@jupyter-widgets/controls",
            "_view_module_version": "1.5.0",
            "_view_name": "HTMLView",
            "description": "",
            "description_tooltip": null,
            "layout": "IPY_MODEL_ee37ae72bd6240d88001d56da312cfc9",
            "placeholder": "​",
            "style": "IPY_MODEL_ea2d539ca875402ab3ad371e45180d46",
            "value": "vocab.json: 100%"
          }
        },
        "3c67d087037b490a9dc7753af043588b": {
          "model_module": "@jupyter-widgets/controls",
          "model_name": "FloatProgressModel",
          "model_module_version": "1.5.0",
          "state": {
            "_dom_classes": [],
            "_model_module": "@jupyter-widgets/controls",
            "_model_module_version": "1.5.0",
            "_model_name": "FloatProgressModel",
            "_view_count": null,
            "_view_module": "@jupyter-widgets/controls",
            "_view_module_version": "1.5.0",
            "_view_name": "ProgressView",
            "bar_style": "success",
            "description": "",
            "description_tooltip": null,
            "layout": "IPY_MODEL_554f2e45a537446da984a0147cef9151",
            "max": 1042301,
            "min": 0,
            "orientation": "horizontal",
            "style": "IPY_MODEL_31578d3c9df74fcdaee9c07661fb15fa",
            "value": 1042301
          }
        },
        "a4cad9c33e534a0b8fad2efac657f68e": {
          "model_module": "@jupyter-widgets/controls",
          "model_name": "HTMLModel",
          "model_module_version": "1.5.0",
          "state": {
            "_dom_classes": [],
            "_model_module": "@jupyter-widgets/controls",
            "_model_module_version": "1.5.0",
            "_model_name": "HTMLModel",
            "_view_count": null,
            "_view_module": "@jupyter-widgets/controls",
            "_view_module_version": "1.5.0",
            "_view_name": "HTMLView",
            "description": "",
            "description_tooltip": null,
            "layout": "IPY_MODEL_e2b49044462e44ecb43432dc5fcbee63",
            "placeholder": "​",
            "style": "IPY_MODEL_61ae2d506bf047dd8a0d02e88bfdc2d7",
            "value": " 1.04M/1.04M [00:00&lt;00:00, 5.79MB/s]"
          }
        },
        "ad3220f9cccd4152b7703bcf5c365f46": {
          "model_module": "@jupyter-widgets/base",
          "model_name": "LayoutModel",
          "model_module_version": "1.2.0",
          "state": {
            "_model_module": "@jupyter-widgets/base",
            "_model_module_version": "1.2.0",
            "_model_name": "LayoutModel",
            "_view_count": null,
            "_view_module": "@jupyter-widgets/base",
            "_view_module_version": "1.2.0",
            "_view_name": "LayoutView",
            "align_content": null,
            "align_items": null,
            "align_self": null,
            "border": null,
            "bottom": null,
            "display": null,
            "flex": null,
            "flex_flow": null,
            "grid_area": null,
            "grid_auto_columns": null,
            "grid_auto_flow": null,
            "grid_auto_rows": null,
            "grid_column": null,
            "grid_gap": null,
            "grid_row": null,
            "grid_template_areas": null,
            "grid_template_columns": null,
            "grid_template_rows": null,
            "height": null,
            "justify_content": null,
            "justify_items": null,
            "left": null,
            "margin": null,
            "max_height": null,
            "max_width": null,
            "min_height": null,
            "min_width": null,
            "object_fit": null,
            "object_position": null,
            "order": null,
            "overflow": null,
            "overflow_x": null,
            "overflow_y": null,
            "padding": null,
            "right": null,
            "top": null,
            "visibility": null,
            "width": null
          }
        },
        "ee37ae72bd6240d88001d56da312cfc9": {
          "model_module": "@jupyter-widgets/base",
          "model_name": "LayoutModel",
          "model_module_version": "1.2.0",
          "state": {
            "_model_module": "@jupyter-widgets/base",
            "_model_module_version": "1.2.0",
            "_model_name": "LayoutModel",
            "_view_count": null,
            "_view_module": "@jupyter-widgets/base",
            "_view_module_version": "1.2.0",
            "_view_name": "LayoutView",
            "align_content": null,
            "align_items": null,
            "align_self": null,
            "border": null,
            "bottom": null,
            "display": null,
            "flex": null,
            "flex_flow": null,
            "grid_area": null,
            "grid_auto_columns": null,
            "grid_auto_flow": null,
            "grid_auto_rows": null,
            "grid_column": null,
            "grid_gap": null,
            "grid_row": null,
            "grid_template_areas": null,
            "grid_template_columns": null,
            "grid_template_rows": null,
            "height": null,
            "justify_content": null,
            "justify_items": null,
            "left": null,
            "margin": null,
            "max_height": null,
            "max_width": null,
            "min_height": null,
            "min_width": null,
            "object_fit": null,
            "object_position": null,
            "order": null,
            "overflow": null,
            "overflow_x": null,
            "overflow_y": null,
            "padding": null,
            "right": null,
            "top": null,
            "visibility": null,
            "width": null
          }
        },
        "ea2d539ca875402ab3ad371e45180d46": {
          "model_module": "@jupyter-widgets/controls",
          "model_name": "DescriptionStyleModel",
          "model_module_version": "1.5.0",
          "state": {
            "_model_module": "@jupyter-widgets/controls",
            "_model_module_version": "1.5.0",
            "_model_name": "DescriptionStyleModel",
            "_view_count": null,
            "_view_module": "@jupyter-widgets/base",
            "_view_module_version": "1.2.0",
            "_view_name": "StyleView",
            "description_width": ""
          }
        },
        "554f2e45a537446da984a0147cef9151": {
          "model_module": "@jupyter-widgets/base",
          "model_name": "LayoutModel",
          "model_module_version": "1.2.0",
          "state": {
            "_model_module": "@jupyter-widgets/base",
            "_model_module_version": "1.2.0",
            "_model_name": "LayoutModel",
            "_view_count": null,
            "_view_module": "@jupyter-widgets/base",
            "_view_module_version": "1.2.0",
            "_view_name": "LayoutView",
            "align_content": null,
            "align_items": null,
            "align_self": null,
            "border": null,
            "bottom": null,
            "display": null,
            "flex": null,
            "flex_flow": null,
            "grid_area": null,
            "grid_auto_columns": null,
            "grid_auto_flow": null,
            "grid_auto_rows": null,
            "grid_column": null,
            "grid_gap": null,
            "grid_row": null,
            "grid_template_areas": null,
            "grid_template_columns": null,
            "grid_template_rows": null,
            "height": null,
            "justify_content": null,
            "justify_items": null,
            "left": null,
            "margin": null,
            "max_height": null,
            "max_width": null,
            "min_height": null,
            "min_width": null,
            "object_fit": null,
            "object_position": null,
            "order": null,
            "overflow": null,
            "overflow_x": null,
            "overflow_y": null,
            "padding": null,
            "right": null,
            "top": null,
            "visibility": null,
            "width": null
          }
        },
        "31578d3c9df74fcdaee9c07661fb15fa": {
          "model_module": "@jupyter-widgets/controls",
          "model_name": "ProgressStyleModel",
          "model_module_version": "1.5.0",
          "state": {
            "_model_module": "@jupyter-widgets/controls",
            "_model_module_version": "1.5.0",
            "_model_name": "ProgressStyleModel",
            "_view_count": null,
            "_view_module": "@jupyter-widgets/base",
            "_view_module_version": "1.2.0",
            "_view_name": "StyleView",
            "bar_color": null,
            "description_width": ""
          }
        },
        "e2b49044462e44ecb43432dc5fcbee63": {
          "model_module": "@jupyter-widgets/base",
          "model_name": "LayoutModel",
          "model_module_version": "1.2.0",
          "state": {
            "_model_module": "@jupyter-widgets/base",
            "_model_module_version": "1.2.0",
            "_model_name": "LayoutModel",
            "_view_count": null,
            "_view_module": "@jupyter-widgets/base",
            "_view_module_version": "1.2.0",
            "_view_name": "LayoutView",
            "align_content": null,
            "align_items": null,
            "align_self": null,
            "border": null,
            "bottom": null,
            "display": null,
            "flex": null,
            "flex_flow": null,
            "grid_area": null,
            "grid_auto_columns": null,
            "grid_auto_flow": null,
            "grid_auto_rows": null,
            "grid_column": null,
            "grid_gap": null,
            "grid_row": null,
            "grid_template_areas": null,
            "grid_template_columns": null,
            "grid_template_rows": null,
            "height": null,
            "justify_content": null,
            "justify_items": null,
            "left": null,
            "margin": null,
            "max_height": null,
            "max_width": null,
            "min_height": null,
            "min_width": null,
            "object_fit": null,
            "object_position": null,
            "order": null,
            "overflow": null,
            "overflow_x": null,
            "overflow_y": null,
            "padding": null,
            "right": null,
            "top": null,
            "visibility": null,
            "width": null
          }
        },
        "61ae2d506bf047dd8a0d02e88bfdc2d7": {
          "model_module": "@jupyter-widgets/controls",
          "model_name": "DescriptionStyleModel",
          "model_module_version": "1.5.0",
          "state": {
            "_model_module": "@jupyter-widgets/controls",
            "_model_module_version": "1.5.0",
            "_model_name": "DescriptionStyleModel",
            "_view_count": null,
            "_view_module": "@jupyter-widgets/base",
            "_view_module_version": "1.2.0",
            "_view_name": "StyleView",
            "description_width": ""
          }
        },
        "f22c62cfe875421db0c2f90e10136420": {
          "model_module": "@jupyter-widgets/controls",
          "model_name": "HBoxModel",
          "model_module_version": "1.5.0",
          "state": {
            "_dom_classes": [],
            "_model_module": "@jupyter-widgets/controls",
            "_model_module_version": "1.5.0",
            "_model_name": "HBoxModel",
            "_view_count": null,
            "_view_module": "@jupyter-widgets/controls",
            "_view_module_version": "1.5.0",
            "_view_name": "HBoxView",
            "box_style": "",
            "children": [
              "IPY_MODEL_497218973e4c4c848edb0e99ad8334db",
              "IPY_MODEL_9477b35811104138958addee6f8f771f",
              "IPY_MODEL_346e133a395943afa130127b35e7283e"
            ],
            "layout": "IPY_MODEL_809f583ef7bd47bc859e8d2502ad8b56"
          }
        },
        "497218973e4c4c848edb0e99ad8334db": {
          "model_module": "@jupyter-widgets/controls",
          "model_name": "HTMLModel",
          "model_module_version": "1.5.0",
          "state": {
            "_dom_classes": [],
            "_model_module": "@jupyter-widgets/controls",
            "_model_module_version": "1.5.0",
            "_model_name": "HTMLModel",
            "_view_count": null,
            "_view_module": "@jupyter-widgets/controls",
            "_view_module_version": "1.5.0",
            "_view_name": "HTMLView",
            "description": "",
            "description_tooltip": null,
            "layout": "IPY_MODEL_f4f4fe7afd144732b12e6beaf9cc8da4",
            "placeholder": "​",
            "style": "IPY_MODEL_109d0153a5214c8197409f1832d1a9bd",
            "value": "merges.txt: 100%"
          }
        },
        "9477b35811104138958addee6f8f771f": {
          "model_module": "@jupyter-widgets/controls",
          "model_name": "FloatProgressModel",
          "model_module_version": "1.5.0",
          "state": {
            "_dom_classes": [],
            "_model_module": "@jupyter-widgets/controls",
            "_model_module_version": "1.5.0",
            "_model_name": "FloatProgressModel",
            "_view_count": null,
            "_view_module": "@jupyter-widgets/controls",
            "_view_module_version": "1.5.0",
            "_view_name": "ProgressView",
            "bar_style": "success",
            "description": "",
            "description_tooltip": null,
            "layout": "IPY_MODEL_bdaf09a7eab74c959dfd32ccad1c41de",
            "max": 456318,
            "min": 0,
            "orientation": "horizontal",
            "style": "IPY_MODEL_cf8f25a29bb348b0a55ada70f6628304",
            "value": 456318
          }
        },
        "346e133a395943afa130127b35e7283e": {
          "model_module": "@jupyter-widgets/controls",
          "model_name": "HTMLModel",
          "model_module_version": "1.5.0",
          "state": {
            "_dom_classes": [],
            "_model_module": "@jupyter-widgets/controls",
            "_model_module_version": "1.5.0",
            "_model_name": "HTMLModel",
            "_view_count": null,
            "_view_module": "@jupyter-widgets/controls",
            "_view_module_version": "1.5.0",
            "_view_name": "HTMLView",
            "description": "",
            "description_tooltip": null,
            "layout": "IPY_MODEL_0c8a608863924620853be9eb28cbb61e",
            "placeholder": "​",
            "style": "IPY_MODEL_63f97125571d43ca977cef961c9a9d83",
            "value": " 456k/456k [00:00&lt;00:00, 15.3MB/s]"
          }
        },
        "809f583ef7bd47bc859e8d2502ad8b56": {
          "model_module": "@jupyter-widgets/base",
          "model_name": "LayoutModel",
          "model_module_version": "1.2.0",
          "state": {
            "_model_module": "@jupyter-widgets/base",
            "_model_module_version": "1.2.0",
            "_model_name": "LayoutModel",
            "_view_count": null,
            "_view_module": "@jupyter-widgets/base",
            "_view_module_version": "1.2.0",
            "_view_name": "LayoutView",
            "align_content": null,
            "align_items": null,
            "align_self": null,
            "border": null,
            "bottom": null,
            "display": null,
            "flex": null,
            "flex_flow": null,
            "grid_area": null,
            "grid_auto_columns": null,
            "grid_auto_flow": null,
            "grid_auto_rows": null,
            "grid_column": null,
            "grid_gap": null,
            "grid_row": null,
            "grid_template_areas": null,
            "grid_template_columns": null,
            "grid_template_rows": null,
            "height": null,
            "justify_content": null,
            "justify_items": null,
            "left": null,
            "margin": null,
            "max_height": null,
            "max_width": null,
            "min_height": null,
            "min_width": null,
            "object_fit": null,
            "object_position": null,
            "order": null,
            "overflow": null,
            "overflow_x": null,
            "overflow_y": null,
            "padding": null,
            "right": null,
            "top": null,
            "visibility": null,
            "width": null
          }
        },
        "f4f4fe7afd144732b12e6beaf9cc8da4": {
          "model_module": "@jupyter-widgets/base",
          "model_name": "LayoutModel",
          "model_module_version": "1.2.0",
          "state": {
            "_model_module": "@jupyter-widgets/base",
            "_model_module_version": "1.2.0",
            "_model_name": "LayoutModel",
            "_view_count": null,
            "_view_module": "@jupyter-widgets/base",
            "_view_module_version": "1.2.0",
            "_view_name": "LayoutView",
            "align_content": null,
            "align_items": null,
            "align_self": null,
            "border": null,
            "bottom": null,
            "display": null,
            "flex": null,
            "flex_flow": null,
            "grid_area": null,
            "grid_auto_columns": null,
            "grid_auto_flow": null,
            "grid_auto_rows": null,
            "grid_column": null,
            "grid_gap": null,
            "grid_row": null,
            "grid_template_areas": null,
            "grid_template_columns": null,
            "grid_template_rows": null,
            "height": null,
            "justify_content": null,
            "justify_items": null,
            "left": null,
            "margin": null,
            "max_height": null,
            "max_width": null,
            "min_height": null,
            "min_width": null,
            "object_fit": null,
            "object_position": null,
            "order": null,
            "overflow": null,
            "overflow_x": null,
            "overflow_y": null,
            "padding": null,
            "right": null,
            "top": null,
            "visibility": null,
            "width": null
          }
        },
        "109d0153a5214c8197409f1832d1a9bd": {
          "model_module": "@jupyter-widgets/controls",
          "model_name": "DescriptionStyleModel",
          "model_module_version": "1.5.0",
          "state": {
            "_model_module": "@jupyter-widgets/controls",
            "_model_module_version": "1.5.0",
            "_model_name": "DescriptionStyleModel",
            "_view_count": null,
            "_view_module": "@jupyter-widgets/base",
            "_view_module_version": "1.2.0",
            "_view_name": "StyleView",
            "description_width": ""
          }
        },
        "bdaf09a7eab74c959dfd32ccad1c41de": {
          "model_module": "@jupyter-widgets/base",
          "model_name": "LayoutModel",
          "model_module_version": "1.2.0",
          "state": {
            "_model_module": "@jupyter-widgets/base",
            "_model_module_version": "1.2.0",
            "_model_name": "LayoutModel",
            "_view_count": null,
            "_view_module": "@jupyter-widgets/base",
            "_view_module_version": "1.2.0",
            "_view_name": "LayoutView",
            "align_content": null,
            "align_items": null,
            "align_self": null,
            "border": null,
            "bottom": null,
            "display": null,
            "flex": null,
            "flex_flow": null,
            "grid_area": null,
            "grid_auto_columns": null,
            "grid_auto_flow": null,
            "grid_auto_rows": null,
            "grid_column": null,
            "grid_gap": null,
            "grid_row": null,
            "grid_template_areas": null,
            "grid_template_columns": null,
            "grid_template_rows": null,
            "height": null,
            "justify_content": null,
            "justify_items": null,
            "left": null,
            "margin": null,
            "max_height": null,
            "max_width": null,
            "min_height": null,
            "min_width": null,
            "object_fit": null,
            "object_position": null,
            "order": null,
            "overflow": null,
            "overflow_x": null,
            "overflow_y": null,
            "padding": null,
            "right": null,
            "top": null,
            "visibility": null,
            "width": null
          }
        },
        "cf8f25a29bb348b0a55ada70f6628304": {
          "model_module": "@jupyter-widgets/controls",
          "model_name": "ProgressStyleModel",
          "model_module_version": "1.5.0",
          "state": {
            "_model_module": "@jupyter-widgets/controls",
            "_model_module_version": "1.5.0",
            "_model_name": "ProgressStyleModel",
            "_view_count": null,
            "_view_module": "@jupyter-widgets/base",
            "_view_module_version": "1.2.0",
            "_view_name": "StyleView",
            "bar_color": null,
            "description_width": ""
          }
        },
        "0c8a608863924620853be9eb28cbb61e": {
          "model_module": "@jupyter-widgets/base",
          "model_name": "LayoutModel",
          "model_module_version": "1.2.0",
          "state": {
            "_model_module": "@jupyter-widgets/base",
            "_model_module_version": "1.2.0",
            "_model_name": "LayoutModel",
            "_view_count": null,
            "_view_module": "@jupyter-widgets/base",
            "_view_module_version": "1.2.0",
            "_view_name": "LayoutView",
            "align_content": null,
            "align_items": null,
            "align_self": null,
            "border": null,
            "bottom": null,
            "display": null,
            "flex": null,
            "flex_flow": null,
            "grid_area": null,
            "grid_auto_columns": null,
            "grid_auto_flow": null,
            "grid_auto_rows": null,
            "grid_column": null,
            "grid_gap": null,
            "grid_row": null,
            "grid_template_areas": null,
            "grid_template_columns": null,
            "grid_template_rows": null,
            "height": null,
            "justify_content": null,
            "justify_items": null,
            "left": null,
            "margin": null,
            "max_height": null,
            "max_width": null,
            "min_height": null,
            "min_width": null,
            "object_fit": null,
            "object_position": null,
            "order": null,
            "overflow": null,
            "overflow_x": null,
            "overflow_y": null,
            "padding": null,
            "right": null,
            "top": null,
            "visibility": null,
            "width": null
          }
        },
        "63f97125571d43ca977cef961c9a9d83": {
          "model_module": "@jupyter-widgets/controls",
          "model_name": "DescriptionStyleModel",
          "model_module_version": "1.5.0",
          "state": {
            "_model_module": "@jupyter-widgets/controls",
            "_model_module_version": "1.5.0",
            "_model_name": "DescriptionStyleModel",
            "_view_count": null,
            "_view_module": "@jupyter-widgets/base",
            "_view_module_version": "1.2.0",
            "_view_name": "StyleView",
            "description_width": ""
          }
        },
        "aed0cd18173b47bf933f151b4db874d4": {
          "model_module": "@jupyter-widgets/controls",
          "model_name": "HBoxModel",
          "model_module_version": "1.5.0",
          "state": {
            "_dom_classes": [],
            "_model_module": "@jupyter-widgets/controls",
            "_model_module_version": "1.5.0",
            "_model_name": "HBoxModel",
            "_view_count": null,
            "_view_module": "@jupyter-widgets/controls",
            "_view_module_version": "1.5.0",
            "_view_name": "HBoxView",
            "box_style": "",
            "children": [
              "IPY_MODEL_ca010276ea8f4eeaa0ee1598c67678d1",
              "IPY_MODEL_5bfa485e152241a19dff6c64a5e0d71a",
              "IPY_MODEL_953f6fe7656c4a9fa6b0886ea017f9c8"
            ],
            "layout": "IPY_MODEL_45c2555974154b028a052b67b24bb728"
          }
        },
        "ca010276ea8f4eeaa0ee1598c67678d1": {
          "model_module": "@jupyter-widgets/controls",
          "model_name": "HTMLModel",
          "model_module_version": "1.5.0",
          "state": {
            "_dom_classes": [],
            "_model_module": "@jupyter-widgets/controls",
            "_model_module_version": "1.5.0",
            "_model_name": "HTMLModel",
            "_view_count": null,
            "_view_module": "@jupyter-widgets/controls",
            "_view_module_version": "1.5.0",
            "_view_name": "HTMLView",
            "description": "",
            "description_tooltip": null,
            "layout": "IPY_MODEL_158234032f0042b092b57acf1d402029",
            "placeholder": "​",
            "style": "IPY_MODEL_c596cf203c054b939ee5993931884973",
            "value": "tokenizer.json: 100%"
          }
        },
        "5bfa485e152241a19dff6c64a5e0d71a": {
          "model_module": "@jupyter-widgets/controls",
          "model_name": "FloatProgressModel",
          "model_module_version": "1.5.0",
          "state": {
            "_dom_classes": [],
            "_model_module": "@jupyter-widgets/controls",
            "_model_module_version": "1.5.0",
            "_model_name": "FloatProgressModel",
            "_view_count": null,
            "_view_module": "@jupyter-widgets/controls",
            "_view_module_version": "1.5.0",
            "_view_name": "ProgressView",
            "bar_style": "success",
            "description": "",
            "description_tooltip": null,
            "layout": "IPY_MODEL_66d1ea9442e7421ea8609158885b0148",
            "max": 1355256,
            "min": 0,
            "orientation": "horizontal",
            "style": "IPY_MODEL_99a5d9ed03ec4d848192284f0c906cd1",
            "value": 1355256
          }
        },
        "953f6fe7656c4a9fa6b0886ea017f9c8": {
          "model_module": "@jupyter-widgets/controls",
          "model_name": "HTMLModel",
          "model_module_version": "1.5.0",
          "state": {
            "_dom_classes": [],
            "_model_module": "@jupyter-widgets/controls",
            "_model_module_version": "1.5.0",
            "_model_name": "HTMLModel",
            "_view_count": null,
            "_view_module": "@jupyter-widgets/controls",
            "_view_module_version": "1.5.0",
            "_view_name": "HTMLView",
            "description": "",
            "description_tooltip": null,
            "layout": "IPY_MODEL_7c26fab94c8749b2a3f76ee7fc875b3d",
            "placeholder": "​",
            "style": "IPY_MODEL_bed5c5c756ee452cb64c9ef5ec9b32dd",
            "value": " 1.36M/1.36M [00:00&lt;00:00, 21.7MB/s]"
          }
        },
        "45c2555974154b028a052b67b24bb728": {
          "model_module": "@jupyter-widgets/base",
          "model_name": "LayoutModel",
          "model_module_version": "1.2.0",
          "state": {
            "_model_module": "@jupyter-widgets/base",
            "_model_module_version": "1.2.0",
            "_model_name": "LayoutModel",
            "_view_count": null,
            "_view_module": "@jupyter-widgets/base",
            "_view_module_version": "1.2.0",
            "_view_name": "LayoutView",
            "align_content": null,
            "align_items": null,
            "align_self": null,
            "border": null,
            "bottom": null,
            "display": null,
            "flex": null,
            "flex_flow": null,
            "grid_area": null,
            "grid_auto_columns": null,
            "grid_auto_flow": null,
            "grid_auto_rows": null,
            "grid_column": null,
            "grid_gap": null,
            "grid_row": null,
            "grid_template_areas": null,
            "grid_template_columns": null,
            "grid_template_rows": null,
            "height": null,
            "justify_content": null,
            "justify_items": null,
            "left": null,
            "margin": null,
            "max_height": null,
            "max_width": null,
            "min_height": null,
            "min_width": null,
            "object_fit": null,
            "object_position": null,
            "order": null,
            "overflow": null,
            "overflow_x": null,
            "overflow_y": null,
            "padding": null,
            "right": null,
            "top": null,
            "visibility": null,
            "width": null
          }
        },
        "158234032f0042b092b57acf1d402029": {
          "model_module": "@jupyter-widgets/base",
          "model_name": "LayoutModel",
          "model_module_version": "1.2.0",
          "state": {
            "_model_module": "@jupyter-widgets/base",
            "_model_module_version": "1.2.0",
            "_model_name": "LayoutModel",
            "_view_count": null,
            "_view_module": "@jupyter-widgets/base",
            "_view_module_version": "1.2.0",
            "_view_name": "LayoutView",
            "align_content": null,
            "align_items": null,
            "align_self": null,
            "border": null,
            "bottom": null,
            "display": null,
            "flex": null,
            "flex_flow": null,
            "grid_area": null,
            "grid_auto_columns": null,
            "grid_auto_flow": null,
            "grid_auto_rows": null,
            "grid_column": null,
            "grid_gap": null,
            "grid_row": null,
            "grid_template_areas": null,
            "grid_template_columns": null,
            "grid_template_rows": null,
            "height": null,
            "justify_content": null,
            "justify_items": null,
            "left": null,
            "margin": null,
            "max_height": null,
            "max_width": null,
            "min_height": null,
            "min_width": null,
            "object_fit": null,
            "object_position": null,
            "order": null,
            "overflow": null,
            "overflow_x": null,
            "overflow_y": null,
            "padding": null,
            "right": null,
            "top": null,
            "visibility": null,
            "width": null
          }
        },
        "c596cf203c054b939ee5993931884973": {
          "model_module": "@jupyter-widgets/controls",
          "model_name": "DescriptionStyleModel",
          "model_module_version": "1.5.0",
          "state": {
            "_model_module": "@jupyter-widgets/controls",
            "_model_module_version": "1.5.0",
            "_model_name": "DescriptionStyleModel",
            "_view_count": null,
            "_view_module": "@jupyter-widgets/base",
            "_view_module_version": "1.2.0",
            "_view_name": "StyleView",
            "description_width": ""
          }
        },
        "66d1ea9442e7421ea8609158885b0148": {
          "model_module": "@jupyter-widgets/base",
          "model_name": "LayoutModel",
          "model_module_version": "1.2.0",
          "state": {
            "_model_module": "@jupyter-widgets/base",
            "_model_module_version": "1.2.0",
            "_model_name": "LayoutModel",
            "_view_count": null,
            "_view_module": "@jupyter-widgets/base",
            "_view_module_version": "1.2.0",
            "_view_name": "LayoutView",
            "align_content": null,
            "align_items": null,
            "align_self": null,
            "border": null,
            "bottom": null,
            "display": null,
            "flex": null,
            "flex_flow": null,
            "grid_area": null,
            "grid_auto_columns": null,
            "grid_auto_flow": null,
            "grid_auto_rows": null,
            "grid_column": null,
            "grid_gap": null,
            "grid_row": null,
            "grid_template_areas": null,
            "grid_template_columns": null,
            "grid_template_rows": null,
            "height": null,
            "justify_content": null,
            "justify_items": null,
            "left": null,
            "margin": null,
            "max_height": null,
            "max_width": null,
            "min_height": null,
            "min_width": null,
            "object_fit": null,
            "object_position": null,
            "order": null,
            "overflow": null,
            "overflow_x": null,
            "overflow_y": null,
            "padding": null,
            "right": null,
            "top": null,
            "visibility": null,
            "width": null
          }
        },
        "99a5d9ed03ec4d848192284f0c906cd1": {
          "model_module": "@jupyter-widgets/controls",
          "model_name": "ProgressStyleModel",
          "model_module_version": "1.5.0",
          "state": {
            "_model_module": "@jupyter-widgets/controls",
            "_model_module_version": "1.5.0",
            "_model_name": "ProgressStyleModel",
            "_view_count": null,
            "_view_module": "@jupyter-widgets/base",
            "_view_module_version": "1.2.0",
            "_view_name": "StyleView",
            "bar_color": null,
            "description_width": ""
          }
        },
        "7c26fab94c8749b2a3f76ee7fc875b3d": {
          "model_module": "@jupyter-widgets/base",
          "model_name": "LayoutModel",
          "model_module_version": "1.2.0",
          "state": {
            "_model_module": "@jupyter-widgets/base",
            "_model_module_version": "1.2.0",
            "_model_name": "LayoutModel",
            "_view_count": null,
            "_view_module": "@jupyter-widgets/base",
            "_view_module_version": "1.2.0",
            "_view_name": "LayoutView",
            "align_content": null,
            "align_items": null,
            "align_self": null,
            "border": null,
            "bottom": null,
            "display": null,
            "flex": null,
            "flex_flow": null,
            "grid_area": null,
            "grid_auto_columns": null,
            "grid_auto_flow": null,
            "grid_auto_rows": null,
            "grid_column": null,
            "grid_gap": null,
            "grid_row": null,
            "grid_template_areas": null,
            "grid_template_columns": null,
            "grid_template_rows": null,
            "height": null,
            "justify_content": null,
            "justify_items": null,
            "left": null,
            "margin": null,
            "max_height": null,
            "max_width": null,
            "min_height": null,
            "min_width": null,
            "object_fit": null,
            "object_position": null,
            "order": null,
            "overflow": null,
            "overflow_x": null,
            "overflow_y": null,
            "padding": null,
            "right": null,
            "top": null,
            "visibility": null,
            "width": null
          }
        },
        "bed5c5c756ee452cb64c9ef5ec9b32dd": {
          "model_module": "@jupyter-widgets/controls",
          "model_name": "DescriptionStyleModel",
          "model_module_version": "1.5.0",
          "state": {
            "_model_module": "@jupyter-widgets/controls",
            "_model_module_version": "1.5.0",
            "_model_name": "DescriptionStyleModel",
            "_view_count": null,
            "_view_module": "@jupyter-widgets/base",
            "_view_module_version": "1.2.0",
            "_view_name": "StyleView",
            "description_width": ""
          }
        }
      }
    }
  },
  "cells": [
    {
      "cell_type": "markdown",
      "source": [
        "# **The Tokenizers**\n",
        "**Train** a brand **new tokenizer on a corpus of texts**, so it can then be **used to pretrain a language model**. This will all be done with the help of the 🤗 `Tokenizers` library, which provides the **“fast”** tokenizers in the 🤗 Transformers library. We’ll take a close look at the features that this library provides, and explore how the fast tokenizers differ from the **“slow”** versions.\n",
        "\n",
        "**Topics:**\n",
        "- How to **train a new tokenizer** similar to the one used by a given checkpoint on a new corpus of texts\n",
        "- The special features of **fast tokenizers**\n",
        "- The differences between the **three main subword tokenization algorithms** used in NLP today\n",
        "- How to **build a tokenizer from scratch** with the 🤗 Tokenizers library and train it on some data."
      ],
      "metadata": {
        "id": "Xsx3lQF9_7fs"
      }
    },
    {
      "cell_type": "markdown",
      "source": [
        "## **Training a New Tokenizer from an old one**\n",
        "**If a language model is not available in the language you are interested in**, *or* **if your corpus is very different from the one your language model was trained on**, you will most likely want to **retrain the model from scratch using a tokenizer adapted to your data**. That will require training a new tokenizer on your dataset.\n",
        "\n",
        "\n",
        "Most Transformers models use a *`subword tokenization algorithm`*. To identify which subwords are of interest and occur most frequently in the corpus at hand, the **`tokenizer` needs to take a hard look at all the texts in the corpus** — a process we call *training*. The exact rules that govern this training depend on **the type of tokenizer used** (*go over 3 main algorithm*)."
      ],
      "metadata": {
        "id": "yI8jlkh2_-BP"
      }
    },
    {
      "cell_type": "markdown",
      "source": [
        "⚠️ **Training a tokenizer** is not the same as training a model! Model training uses *stochastic gradient descent* to make the loss a little bit smaller for each batch. It’s randomized by nature (meaning you have to set some seeds to get the same results when doing the same training twice).\n",
        "\n",
        "⚠️ **Training a tokenizer** is a statistical process that tries to **identify which subwords are the best to pick for a given corpus**, *and* **the exact rules used to pick them depend on the tokenization algorithm**. It’s deterministic, meaning you *always get the same results when training with the same algorithm on the same corpus*."
      ],
      "metadata": {
        "id": "bfDp-UZBJRUM"
      }
    },
    {
      "cell_type": "markdown",
      "source": [
        "### **Assembling a corpus**\n",
        "There’s a very simple API in 🤗 Transformers that you can use to **train a new tokenizer with the same characteristics as an existing one**: `AutoTokenizer.train_new_from_iterator()`.\n",
        "\n",
        "To see this in action, let’s say we want to **train `GPT-2` from scratch, but in a language other than *English*.** Our *first task* will be to **gather lots of data in that language in a training corpus**. To provide examples everyone will be able to understand, we won’t use a language like Russian or Chinese here, but rather a specialized English language: ***Python code.***"
      ],
      "metadata": {
        "id": "wRk9y8PwJR1H"
      }
    },
    {
      "cell_type": "markdown",
      "source": [
        "The 🤗 Datasets library can help us assemble a corpus of Python source code. We’ll use the usual `load_dataset()` function to download and cache the `CodeSearchNet` dataset. This dataset was created for the CodeSearchNet challenge and **contains millions of functions from open source libraries on GitHub in several programming languages**. Here, we will load the **Python** part of this dataset:"
      ],
      "metadata": {
        "id": "aOTMl7bgPXp_"
      }
    },
    {
      "cell_type": "code",
      "source": [
        "from datasets import load_dataset\n",
        "\n",
        "# This can take a few minutes to load, so grab a coffee or tea while you wait!\n",
        "raw_datasets = load_dataset(\"code_search_net\", \"python\")"
      ],
      "metadata": {
        "id": "_vSoN8-Seh-e"
      },
      "execution_count": null,
      "outputs": []
    },
    {
      "cell_type": "code",
      "source": [
        "raw_datasets[\"train\"]\n",
        "\n",
        "## Output\n",
        "# Dataset({\n",
        "#     features: ['repository_name', 'func_path_in_repository', 'func_name', 'whole_func_string', 'language',\n",
        "#       'func_code_string', 'func_code_tokens', 'func_documentation_string', 'func_documentation_tokens', 'split_name',\n",
        "#       'func_code_url'\n",
        "#     ],\n",
        "#     num_rows: 412178\n",
        "# })"
      ],
      "metadata": {
        "id": "ViXgyEzyekyO"
      },
      "execution_count": null,
      "outputs": []
    },
    {
      "cell_type": "code",
      "source": [
        "raw_datasets[\"train\"][0]"
      ],
      "metadata": {
        "id": "AK_-VwKseqCK"
      },
      "execution_count": null,
      "outputs": []
    },
    {
      "cell_type": "markdown",
      "source": [
        "Here. we’ll just use the `whole_func_string` column to train our tokenizer."
      ],
      "metadata": {
        "id": "mF5JJKdI_pt6"
      }
    },
    {
      "cell_type": "code",
      "source": [
        "print(raw_datasets[\"train\"][123456][\"whole_func_string\"])\n",
        "\n",
        "## Output\n",
        "# def handle_simple_responses(\n",
        "#       self, timeout_ms=None, info_cb=DEFAULT_MESSAGE_CALLBACK):\n",
        "#     \"\"\"Accepts normal responses from the device.\n",
        "\n",
        "#     Args:\n",
        "#       timeout_ms: Timeout in milliseconds to wait for each response.\n",
        "#       info_cb: Optional callback for text sent from the bootloader.\n",
        "\n",
        "#     Returns:\n",
        "#       OKAY packet's message.\n",
        "#     \"\"\"\n",
        "#     return self._accept_responses('OKAY', info_cb, timeout_ms=timeout_ms)"
      ],
      "metadata": {
        "id": "BgGkcNmq_q44"
      },
      "execution_count": null,
      "outputs": []
    },
    {
      "cell_type": "markdown",
      "source": [
        "The first thing we need to do is **transform the dataset into an *iterator* of lists of texts** — for instance, a list of list of texts.\n",
        "\n",
        "Using lists of texts will enable our tokenizer to go faster (training on batches of texts instead of processing individual texts one by one), and it should be an iterator if we want to avoid having everything in memory at once.\n",
        "\n",
        "If your corpus is huge, you will want to take advantage of the fact that *🤗 `Datasets` does not load everything into RAM but stores the elements of the dataset on disk*."
      ],
      "metadata": {
        "id": "w8E9TgGYAKv_"
      }
    },
    {
      "cell_type": "markdown",
      "source": [
        "Create **list of lists of 1000 texts each** by using a *Python generator*, we can avoid Python loading anything into memory until it’s actually necessary."
      ],
      "metadata": {
        "id": "fZif-GjDAdg6"
      }
    },
    {
      "cell_type": "code",
      "source": [
        "# Don't uncomment the following line unless your dataset is small!\n",
        "# training_corpus = [raw_datasets[\"train\"][i: i + 1000][\"whole_func_string\"] for i in range(0, len(raw_datasets[\"train\"]), 1000)]"
      ],
      "metadata": {
        "id": "aUkOhDOBA4Qh"
      },
      "execution_count": null,
      "outputs": []
    },
    {
      "cell_type": "code",
      "source": [
        "## Using Python Generator\n",
        "training_corpus = (\n",
        "    raw_datasets[\"train\"][i : i + 1000][\"whole_func_string\"]\n",
        "    for i in range(0, len(raw_datasets[\"train\"]), 1000)\n",
        ")\n",
        "# This code doesn’t fetch any elements of the dataset;\n",
        "# it just creates an object you can use in a Python for loop"
      ],
      "metadata": {
        "id": "Ruii7m5YAxBY"
      },
      "execution_count": null,
      "outputs": []
    },
    {
      "cell_type": "markdown",
      "source": [
        "The texts will only be loaded when you need them (that is, when you’re at the step of the `for` loop that requires them), and only 1,000 texts at a time will be loaded.\n",
        "\n",
        "The problem with a *generator object* is that it can only be *used once*. So, instead of this giving us the list of the first 10 digits twice, we get them **once and then an empty list**."
      ],
      "metadata": {
        "id": "wfTnHuQpBgu3"
      }
    },
    {
      "cell_type": "code",
      "source": [
        "## Define the function to returns a generator instead\n",
        "def get_training_corpus():\n",
        "    return (\n",
        "        raw_datasets[\"train\"][i : i + 1000][\"whole_func_string\"]\n",
        "        for i in range(0, len(raw_datasets[\"train\"]), 1000)\n",
        "    )\n",
        "\n",
        "\n",
        "training_corpus = get_training_corpus()"
      ],
      "metadata": {
        "id": "QkdYzITxB1v2"
      },
      "execution_count": null,
      "outputs": []
    },
    {
      "cell_type": "code",
      "source": [
        "# or define a generator inside a for loop by using the yield\n",
        "def get_training_corpus():\n",
        "    dataset = raw_datasets[\"train\"]\n",
        "    for start_idx in range(0, len(dataset), 1000):\n",
        "        samples = dataset[start_idx : start_idx + 1000]\n",
        "        yield samples[\"whole_func_string\"]\n",
        "\n",
        "# which will produce the exact same generator as before,\n",
        "# but allows you to use more complex logic than you can in a list comprehension."
      ],
      "metadata": {
        "id": "WPROqU0SCBIk"
      },
      "execution_count": null,
      "outputs": []
    },
    {
      "cell_type": "markdown",
      "source": [
        "### **Training a new Tokenizer**\n",
        "Now that we have our **corpus** in the form of an *iterator of batches of texts*, we are ready to train a new tokenizer."
      ],
      "metadata": {
        "id": "G-8IlLF8CAiK"
      }
    },
    {
      "cell_type": "markdown",
      "source": [
        "Load the tokenizer that want to pair with our model (etc., GPT-2)"
      ],
      "metadata": {
        "id": "DnKpDNphCsPL"
      }
    },
    {
      "cell_type": "code",
      "source": [
        "from transformers import AutoTokenizer\n",
        "\n",
        "old_tokenizer = AutoTokenizer.from_pretrained(\"gpt2\")"
      ],
      "metadata": {
        "id": "9J0DJ-CwCX8n"
      },
      "execution_count": null,
      "outputs": []
    },
    {
      "cell_type": "markdown",
      "source": [
        "Even though we are going to train a new tokenizer, it’s a good idea to do this to avoid starting entirely from scratch.\n",
        "\n",
        "This way, we won’t have to specify anything about the tokenization algorithm or the special tokens we want to use; **our new tokenizer will be exactly the same as GPT-2**, *and* **the only thing that will change is the vocabulary**, which will be **determined by the training on our corpus**."
      ],
      "metadata": {
        "id": "cqPzde4qB09U"
      }
    },
    {
      "cell_type": "code",
      "source": [
        "## Example\n",
        "example = '''def add_numbers(a, b):\n",
        "    \"\"\"Add the two numbers `a` and `b`.\"\"\"\n",
        "    return a + b'''\n",
        "\n",
        "tokens = old_tokenizer.tokenize(example)\n",
        "tokens\n",
        "\n",
        "# ['def', 'Ġadd', '_', 'n', 'umbers', '(', 'a', ',', 'Ġb', '):', 'Ċ', 'Ġ', 'Ġ', 'Ġ', 'Ġ\"\"\"', 'Add', 'Ġthe', 'Ġtwo',\n",
        "#  'Ġnumbers', 'Ġ`', 'a', '`', 'Ġand', 'Ġ`', 'b', '`', '.\"', '\"\"', 'Ċ', 'Ġ', 'Ġ', 'Ġ', 'Ġreturn', 'Ġa', 'Ġ+', 'Ġb']"
      ],
      "metadata": {
        "id": "UTOY8GU-DIhb"
      },
      "execution_count": null,
      "outputs": []
    },
    {
      "cell_type": "markdown",
      "source": [
        "This tokenizer has a few special symbols, like `Ġ` and `Ċ`, which denote *spaces* and *newlines*, respectively.\n",
        "\n",
        "As we can see, this is not too efficient: the tokenizer returns individual tokens for each space, when it could group together indentation levels (since having sets of four or eight spaces is going to be very common in code). It also split the function name a bit weirdly, not being used to seeing words with the `_` character."
      ],
      "metadata": {
        "id": "9Q9Qx7rlDHPT"
      }
    },
    {
      "cell_type": "markdown",
      "source": [
        "Let’s train a new tokenizer and see if it solves those issues. For this, we’ll use the method `train_new_from_iterator()`"
      ],
      "metadata": {
        "id": "Z5mdtFQRFnL9"
      }
    },
    {
      "cell_type": "code",
      "source": [
        "tokenizer = old_tokenizer.train_new_from_iterator(training_corpus, 52000)"
      ],
      "metadata": {
        "id": "Nn8iZh1PFsL2"
      },
      "execution_count": null,
      "outputs": []
    },
    {
      "cell_type": "code",
      "source": [
        "tokens = tokenizer.tokenize(example)\n",
        "tokens\n",
        "\n",
        "# ['def', 'Ġadd', '_', 'numbers', '(', 'a', ',', 'Ġb', '):', 'ĊĠĠĠ', 'Ġ\"\"\"', 'Add', 'Ġthe', 'Ġtwo', 'Ġnumbers', 'Ġ`',\n",
        "#  'a', '`', 'Ġand', 'Ġ`', 'b', '`.\"\"\"', 'ĊĠĠĠ', 'Ġreturn', 'Ġa', 'Ġ+', 'Ġb']"
      ],
      "metadata": {
        "id": "GWpj28rfGXgP"
      },
      "execution_count": null,
      "outputs": []
    },
    {
      "cell_type": "markdown",
      "source": [
        "Here we again see the special symbols `Ġ` and `Ċ` that denote *spaces* and *newlines*, but we can also see that our tokenizer learned some tokens that are highly specific to a corpus of Python functions: for example, there is a `ĊĠĠĠ` token that represents an *indentation*, and a `Ġ\"\"\"` token that represents the *three quotes that start a docstring*. The tokenizer also correctly split the function name on `_`."
      ],
      "metadata": {
        "id": "iArab9iTGngu"
      }
    },
    {
      "cell_type": "markdown",
      "source": [
        "This is quite a compact representation; comparatively, using the plain English tokenizer on the same example will give us a longer sentence:"
      ],
      "metadata": {
        "id": "-RQcr_VLG3Qe"
      }
    },
    {
      "cell_type": "code",
      "source": [
        "print(len(tokens))\n",
        "print(len(old_tokenizer.tokenize(example)))"
      ],
      "metadata": {
        "id": "qzeBaMU0G5jB"
      },
      "execution_count": null,
      "outputs": []
    },
    {
      "cell_type": "code",
      "source": [
        "# Another example\n",
        "example = \"\"\"class LinearLayer():\n",
        "    def __init__(self, input_size, output_size):\n",
        "        self.weight = torch.randn(input_size, output_size)\n",
        "        self.bias = torch.zeros(output_size)\n",
        "\n",
        "    def __call__(self, x):\n",
        "        return x @ self.weights + self.bias\n",
        "    \"\"\"\n",
        "tokenizer.tokenize(example)\n",
        "\n",
        "# ['class', 'ĠLinear', 'Layer', '():', 'ĊĠĠĠ', 'Ġdef', 'Ġ__', 'init', '__(', 'self', ',', 'Ġinput', '_', 'size', ',',\n",
        "#  'Ġoutput', '_', 'size', '):', 'ĊĠĠĠĠĠĠĠ', 'Ġself', '.', 'weight', 'Ġ=', 'Ġtorch', '.', 'randn', '(', 'input', '_',\n",
        "#  'size', ',', 'Ġoutput', '_', 'size', ')', 'ĊĠĠĠĠĠĠĠ', 'Ġself', '.', 'bias', 'Ġ=', 'Ġtorch', '.', 'zeros', '(',\n",
        "#  'output', '_', 'size', ')', 'ĊĊĠĠĠ', 'Ġdef', 'Ġ__', 'call', '__(', 'self', ',', 'Ġx', '):', 'ĊĠĠĠĠĠĠĠ',\n",
        "#  'Ġreturn', 'Ġx', 'Ġ@', 'Ġself', '.', 'weights', 'Ġ+', 'Ġself', '.', 'bias', 'ĊĠĠĠĠ']"
      ],
      "metadata": {
        "id": "pjDTxHy8G-ks"
      },
      "execution_count": null,
      "outputs": []
    },
    {
      "cell_type": "markdown",
      "source": [
        "In addition to the token corresponding to an indentation, here we can also see a token for a double indentation: `ĊĠĠĠĠĠĠĠ`. The special Python words like `class`, `init`, `call`, `self`, and `return` are each tokenized as one token, and we can see that as well as splitting on `_` and `.` the tokenizer correctly splits even camel-cased names: LinearLayer is tokenized as `[\"ĠLinear\", \"Layer\"].`"
      ],
      "metadata": {
        "id": "Lg96y4hJHKCn"
      }
    },
    {
      "cell_type": "markdown",
      "source": [
        "### **Saving the Tokenizer**\n",
        "To make sure we can use it later, we need to save our new tokenizer. Like for models, this is done with the `save_pretrained()` method"
      ],
      "metadata": {
        "id": "Xlk9IdKwHUTA"
      }
    },
    {
      "cell_type": "code",
      "source": [
        "tokenizer.save_pretrained(\"code-search-net-tokenizer\")"
      ],
      "metadata": {
        "id": "opiAanxhHk4P"
      },
      "execution_count": null,
      "outputs": []
    },
    {
      "cell_type": "markdown",
      "source": [
        "This will create a new folder named `code-search-net-tokenizer`, which will contain all the files the tokenizer needs to be reloaded.\n",
        "\n",
        "If you want to share this tokenizer with your colleagues and friends, you can upload it to the Hub by logging into your account"
      ],
      "metadata": {
        "id": "D-8kqkUuHpA1"
      }
    },
    {
      "cell_type": "code",
      "source": [
        "from huggingface_hub import notebook_login\n",
        "\n",
        "notebook_login()\n",
        "\n",
        "## Working with terminal\n",
        "# huggingface-cli login"
      ],
      "metadata": {
        "id": "37mbSSY6HrvP"
      },
      "execution_count": null,
      "outputs": []
    },
    {
      "cell_type": "markdown",
      "source": [
        "**Push tokenizer to the Hub**"
      ],
      "metadata": {
        "id": "ugzGO9uyHwV0"
      }
    },
    {
      "cell_type": "code",
      "source": [
        "tokenizer.push_to_hub(\"code-search-net-tokenizer\")"
      ],
      "metadata": {
        "id": "yhyjZwhmHzlX"
      },
      "execution_count": null,
      "outputs": []
    },
    {
      "cell_type": "markdown",
      "source": [
        "This will create a new repository in your namespace with the name `code-search-net-tokenizer`, containing the tokenizer file."
      ],
      "metadata": {
        "id": "VduVXhTeH3Tc"
      }
    },
    {
      "cell_type": "code",
      "source": [
        "## Load our new Tokenizer\n",
        "# Replace \"huggingface-course\" below with your actual namespace to use your own tokenizer\n",
        "tokenizer = AutoTokenizer.from_pretrained(\"huggingface-course/code-search-net-tokenizer\")"
      ],
      "metadata": {
        "id": "LEjCMv24H8Ft"
      },
      "execution_count": null,
      "outputs": []
    },
    {
      "cell_type": "markdown",
      "source": [
        "## **Fast Tokenizers' special powers**\n",
        "Take a closer look at the capabilities of the tokenizers in 🤗 Transformers. Up to now we have only used them to tokenize inputs or decode IDs back into text, but tokenizers — especially those backed by the 🤗 Tokenizers library — **can do a lot more**.\n",
        "\n",
        "Exploring how to **reproduce the results** of the `token-classification` (that we called `ner`) and `question-answering` pipelines"
      ],
      "metadata": {
        "id": "Cbkhg9k-AB1L"
      }
    },
    {
      "cell_type": "markdown",
      "source": [
        "**Slow** tokenizers are those *written in Python* inside the 🤗 Transformers library, while the **fast** versions are the ones provided by 🤗 Tokenizers, which are *written in Rust*."
      ],
      "metadata": {
        "id": "tTmNQ8-M_WJ_"
      }
    },
    {
      "cell_type": "markdown",
      "source": [
        "### **Batch Encoding**\n",
        "The output of a tokenizer isn’t a simple Python dictionary; what we get is actually a special `BatchEncoding` object. It’s a subclass of a dictionary (which is why we were able to index into that result without any problem before), but with additional methods that are mostly used by **fast tokenizers**."
      ],
      "metadata": {
        "id": "3_lw-y44ISFW"
      }
    },
    {
      "cell_type": "markdown",
      "source": [
        "Besides their *parallelization* capabilities, the key functionality of **fast tokenizers** is that they always **keep track of the original span of texts the final tokens come from** — a feature we call *offset mapping*. This in turn unlocks features like mapping each word to the tokens it generated or mapping each character of the original text to the token it’s inside, and vice versa."
      ],
      "metadata": {
        "id": "XVoGCeu-APUX"
      }
    },
    {
      "cell_type": "code",
      "source": [
        "from transformers import AutoTokenizer\n",
        "\n",
        "tokenizer = AutoTokenizer.from_pretrained(\"bert-base-cased\")\n",
        "example = \"My name is Sylvain and I work at Hugging Face in Brooklyn.\"\n",
        "encoding = tokenizer(example)\n",
        "print(type(encoding))\n",
        "\n",
        "## output\n",
        "# <class 'transformers.tokenization_utils_base.BatchEncoding'>"
      ],
      "metadata": {
        "colab": {
          "base_uri": "https://localhost:8080/",
          "height": 294,
          "referenced_widgets": [
            "3504c5b23990468b93b94d34997702e1",
            "41bd846e49594caf8597f5f93e9069f4",
            "df1b1247009f48b0a0cd2e7905ae9b73",
            "9b90a4f26efc47918d5e3592e2c1e2ab",
            "a1ce76fec346402b852b6712a7791815",
            "117e53851dca4226a7c87faf0724a6fa",
            "10c6a7ae522749d4bb982638f8d1b4e4",
            "6791b3f6b8004cce92d4db8c04977729",
            "1e6124116a3b44198fd573d028b9f92e",
            "1e8443331a2e4f8b8b5f18a8c40af307",
            "b14cb8830fa145ea926dc6ad0891d501",
            "5db85297e9194babbaeb8b7fcba32f91",
            "58bc684402bc459d8accbf6a4c77b11a",
            "1398bd212b984e7ca83b7bca53a17444",
            "0314e5d580fc4630bfa696a5d23eb1cd",
            "270c98fd2042429e8d7246f73906f2db",
            "76a937a0aa97438a96d9c604121fb97b",
            "8a4df1e4a18049819607e3e5310fbc86",
            "6fe91282a74142eaa25f65d89de3d473",
            "a9b35bb823f94a21adb913f294f6286d",
            "e8d3d7ad55f944df83804ca2421aa374",
            "c0d5d3f56b1740bebecdf0c9bc1ba956",
            "5f930ce99e024e908f9d0a8c87b66405",
            "984b1363433f44ac8978ffbf3e68ea77",
            "a9b22521df8641a9817c834b134a2622",
            "38c224ad1daa4c55ab3ebf83aea777dd",
            "f7ea3606b86649349f8a61c3d582b043",
            "af07a175ec6e481ba2500473a7fce017",
            "b231a8728e254796a844ab322b7bf96a",
            "a27676b18145430e9408989d44929bdd",
            "ea148ff36aeb4b608d4ac18ddea2a802",
            "492708e256184eca9bdb22cf362f1137",
            "935d8d26a5254c5f987ee007ccb04bc4",
            "bb22aec5926d4e0899fb8610a086a283",
            "4811b26ed2924c9c8c28e4b630ba329a",
            "57e0842350a349e7a37b3819952d4846",
            "f584e13df8914696931f90b1a638b366",
            "bf6945210dbc4dda8b7d99e535f916e5",
            "4e3b088f588e42ac89666c03528769b7",
            "540c6d6e230f489da2e44bc365db207c",
            "ed02caea29224949a0206c8a8caa007a",
            "6921b36c584e494a909242f769cefe50",
            "c24d668a893b4d7a9e8107d6eabb275b",
            "59c086f25c2d4380bcfc449b1a62489e"
          ]
        },
        "id": "LAWWV9TrAVqM",
        "outputId": "c9d3fb1e-7435-4945-c676-7ee0b62650b9"
      },
      "execution_count": null,
      "outputs": [
        {
          "output_type": "stream",
          "name": "stderr",
          "text": [
            "/usr/local/lib/python3.10/dist-packages/huggingface_hub/utils/_token.py:89: UserWarning: \n",
            "The secret `HF_TOKEN` does not exist in your Colab secrets.\n",
            "To authenticate with the Hugging Face Hub, create a token in your settings tab (https://huggingface.co/settings/tokens), set it as secret in your Google Colab and restart your session.\n",
            "You will be able to reuse this secret in all of your notebooks.\n",
            "Please note that authentication is recommended but still optional to access public models or datasets.\n",
            "  warnings.warn(\n"
          ]
        },
        {
          "output_type": "display_data",
          "data": {
            "text/plain": [
              "tokenizer_config.json:   0%|          | 0.00/49.0 [00:00<?, ?B/s]"
            ],
            "application/vnd.jupyter.widget-view+json": {
              "version_major": 2,
              "version_minor": 0,
              "model_id": "3504c5b23990468b93b94d34997702e1"
            }
          },
          "metadata": {}
        },
        {
          "output_type": "display_data",
          "data": {
            "text/plain": [
              "config.json:   0%|          | 0.00/570 [00:00<?, ?B/s]"
            ],
            "application/vnd.jupyter.widget-view+json": {
              "version_major": 2,
              "version_minor": 0,
              "model_id": "5db85297e9194babbaeb8b7fcba32f91"
            }
          },
          "metadata": {}
        },
        {
          "output_type": "display_data",
          "data": {
            "text/plain": [
              "vocab.txt:   0%|          | 0.00/213k [00:00<?, ?B/s]"
            ],
            "application/vnd.jupyter.widget-view+json": {
              "version_major": 2,
              "version_minor": 0,
              "model_id": "5f930ce99e024e908f9d0a8c87b66405"
            }
          },
          "metadata": {}
        },
        {
          "output_type": "display_data",
          "data": {
            "text/plain": [
              "tokenizer.json:   0%|          | 0.00/436k [00:00<?, ?B/s]"
            ],
            "application/vnd.jupyter.widget-view+json": {
              "version_major": 2,
              "version_minor": 0,
              "model_id": "bb22aec5926d4e0899fb8610a086a283"
            }
          },
          "metadata": {}
        },
        {
          "output_type": "stream",
          "name": "stdout",
          "text": [
            "<class 'transformers.tokenization_utils_base.BatchEncoding'>\n"
          ]
        }
      ]
    },
    {
      "cell_type": "markdown",
      "source": [
        "Since the `AutoTokenizer` class picks a **fast tokenizer** by default, we can use the additional methods this `BatchEncoding` object provides.\n",
        "\n",
        "We have two ways to check if our tokenizer is a fast or a slow one. We can either check the attribute `is_fast` of the `tokenizer`"
      ],
      "metadata": {
        "id": "mOKO60Q5AlTd"
      }
    },
    {
      "cell_type": "code",
      "source": [
        "# is_fast\n",
        "tokenizer.is_fast\n",
        "\n",
        "# check the same attribute of encoding\n",
        "encoding.is_fast"
      ],
      "metadata": {
        "colab": {
          "base_uri": "https://localhost:8080/"
        },
        "id": "nqDgz58ZAsTD",
        "outputId": "2490a502-228a-4b7e-b04e-5354eb05daf9"
      },
      "execution_count": null,
      "outputs": [
        {
          "output_type": "execute_result",
          "data": {
            "text/plain": [
              "True"
            ]
          },
          "metadata": {},
          "execution_count": 2
        }
      ]
    },
    {
      "cell_type": "markdown",
      "source": [
        "Let’s see what a **fast tokenizer** enables us to do.\n",
        "\n",
        "First, we can **access the tokens without having to convert the IDs back to tokens**:"
      ],
      "metadata": {
        "id": "7SO-F5vpA1vK"
      }
    },
    {
      "cell_type": "code",
      "source": [
        "encoding.tokens()\n",
        "# ['[CLS]', 'My', 'name', 'is', 'S', '##yl', '##va', '##in', 'and', 'I', 'work', 'at', 'Hu', '##gging', 'Face', 'in', 'Brooklyn', '.', '[SEP]']"
      ],
      "metadata": {
        "colab": {
          "base_uri": "https://localhost:8080/"
        },
        "id": "88-HQKMZA8HX",
        "outputId": "e867dabc-ba73-499a-f90a-3be6f37649d7"
      },
      "execution_count": null,
      "outputs": [
        {
          "output_type": "execute_result",
          "data": {
            "text/plain": [
              "['[CLS]',\n",
              " 'My',\n",
              " 'name',\n",
              " 'is',\n",
              " 'S',\n",
              " '##yl',\n",
              " '##va',\n",
              " '##in',\n",
              " 'and',\n",
              " 'I',\n",
              " 'work',\n",
              " 'at',\n",
              " 'Hu',\n",
              " '##gging',\n",
              " 'Face',\n",
              " 'in',\n",
              " 'Brooklyn',\n",
              " '.',\n",
              " '[SEP]']"
            ]
          },
          "metadata": {},
          "execution_count": 3
        }
      ]
    },
    {
      "cell_type": "markdown",
      "source": [
        "We can also use the `word_ids()` method to get the index of the word each token comes from"
      ],
      "metadata": {
        "id": "hOc1Tpb7BI3E"
      }
    },
    {
      "cell_type": "code",
      "source": [
        "encoding.word_ids()"
      ],
      "metadata": {
        "colab": {
          "base_uri": "https://localhost:8080/"
        },
        "id": "yQQzZj2SBNTb",
        "outputId": "bed3ca14-093a-43cd-a215-cd8d33e692f7"
      },
      "execution_count": null,
      "outputs": [
        {
          "output_type": "execute_result",
          "data": {
            "text/plain": [
              "[None, 0, 1, 2, 3, 3, 3, 3, 4, 5, 6, 7, 8, 8, 9, 10, 11, 12, None]"
            ]
          },
          "metadata": {},
          "execution_count": 4
        }
      ]
    },
    {
      "cell_type": "markdown",
      "source": [
        "We can see that the tokenizer’s special tokens **[CLS]** and **[SEP]** are mapped to None, and then each token is mapped to the word it originates from.\n",
        "\n",
        "This is especially useful to determine if a token is at the start of a word or if two tokens are in the same word. We could rely on the `##` prefix for that, but it only works for BERT-like tokenizers; this method works for any type of tokenizer as long as it’s a fast one. We can also use it to mask all the tokens coming from the same word in masked language modeling (a technique called *whole word masking*)."
      ],
      "metadata": {
        "id": "FVcOpY8DB6wu"
      }
    },
    {
      "cell_type": "markdown",
      "source": [
        "Lastly, we can **map any word or token to characters in the original text**, and *vice versa*, via the `word_to_chars()` or `token_to_chars()` and `char_to_word()` or `char_to_token()` methods. For instance, the `word_ids()` method told us that ##yl is part of the word at index 3, but which word is it in the sentence?"
      ],
      "metadata": {
        "id": "8wUdD-2lChNu"
      }
    },
    {
      "cell_type": "code",
      "source": [
        "start, end = encoding.word_to_chars(3)\n",
        "example[start:end]"
      ],
      "metadata": {
        "colab": {
          "base_uri": "https://localhost:8080/",
          "height": 36
        },
        "id": "2HlWkRBgCI8j",
        "outputId": "8a822a2d-8340-4ff1-8ef5-fd7de90b05ab"
      },
      "execution_count": null,
      "outputs": [
        {
          "output_type": "execute_result",
          "data": {
            "text/plain": [
              "'Sylvain'"
            ],
            "application/vnd.google.colaboratory.intrinsic+json": {
              "type": "string"
            }
          },
          "metadata": {},
          "execution_count": 5
        }
      ]
    },
    {
      "cell_type": "markdown",
      "source": [
        "As we mentioned previously, this is all **powered by the fact the *fast tokenizer* keeps track of the span of text each token comes from in a list of offsets**."
      ],
      "metadata": {
        "id": "-nmdnHqkCuxo"
      }
    },
    {
      "cell_type": "code",
      "source": [
        "## Example\n",
        "example2 = \"My name is Aditya, currently exploring NLP and Transformers in HuggingFace\"\n",
        "encoding2 = tokenizer(example2)\n",
        "print(type(encoding2))"
      ],
      "metadata": {
        "colab": {
          "base_uri": "https://localhost:8080/"
        },
        "id": "hatT3oicD_fB",
        "outputId": "44da340c-40c1-48c9-aad2-d3069787341c"
      },
      "execution_count": null,
      "outputs": [
        {
          "output_type": "stream",
          "name": "stdout",
          "text": [
            "<class 'transformers.tokenization_utils_base.BatchEncoding'>\n"
          ]
        }
      ]
    },
    {
      "cell_type": "code",
      "source": [
        "print(encoding2.tokens())\n",
        "print(encoding2.word_ids())"
      ],
      "metadata": {
        "colab": {
          "base_uri": "https://localhost:8080/"
        },
        "id": "UdoN7e53EP44",
        "outputId": "f41baf80-be51-4713-9497-507422b6d8f7"
      },
      "execution_count": null,
      "outputs": [
        {
          "output_type": "stream",
          "name": "stdout",
          "text": [
            "['[CLS]', 'My', 'name', 'is', 'Ad', '##ity', '##a', ',', 'currently', 'exploring', 'NL', '##P', 'and', 'Transformers', 'in', 'Hu', '##gging', '##F', '##ace', '[SEP]']\n",
            "[None, 0, 1, 2, 3, 3, 3, 4, 5, 6, 7, 7, 8, 9, 10, 11, 11, 11, 11, None]\n"
          ]
        }
      ]
    },
    {
      "cell_type": "code",
      "source": [
        "start, end = encoding2.word_to_chars(11)\n",
        "example2[start:end]"
      ],
      "metadata": {
        "colab": {
          "base_uri": "https://localhost:8080/",
          "height": 36
        },
        "id": "be2SSHs6ETs1",
        "outputId": "3d4d47e3-fb30-429c-9d7b-a7229f2ad62c"
      },
      "execution_count": null,
      "outputs": [
        {
          "output_type": "execute_result",
          "data": {
            "text/plain": [
              "'HuggingFace'"
            ],
            "application/vnd.google.colaboratory.intrinsic+json": {
              "type": "string"
            }
          },
          "metadata": {},
          "execution_count": 24
        }
      ]
    },
    {
      "cell_type": "markdown",
      "source": [
        "### **Inside the token-classification pipeline**\n",
        "- Chapter 1: got our first taste of applying NER — where the task is to identify which parts of the text correspond to entities like persons, locations, or organizations — with the 🤗 Transformers `pipeline()` function.\n",
        "- Chapter 2, we saw how a `pipeline` groups together the three stages necessary to get the predictions from a raw text: *tokenization, passing the inputs through the model, and post-processing*.\n",
        "\n",
        "The first two steps in the `token-classification` pipeline are the same as in any other pipeline, but the post-processing is a little more complex.\n"
      ],
      "metadata": {
        "id": "OUuIU34xIUVO"
      }
    },
    {
      "cell_type": "markdown",
      "source": [
        "#### **Getting the base results with the pipeline**\n",
        "Grab a *token classification* pipeline so we can get some results to compare manually. The model used by default is `dbmdz/bert-large-cased-finetuned-conll03-english`; it performs `NER` on sentences."
      ],
      "metadata": {
        "id": "e_7HtF9nKaZX"
      }
    },
    {
      "cell_type": "code",
      "source": [
        "from transformers import pipeline\n",
        "\n",
        "token_classifier = pipeline(\"token-classification\")\n",
        "token_classifier(\"My name is Sylvain and I work at Hugging Face in Brooklyn.\")"
      ],
      "metadata": {
        "colab": {
          "base_uri": "https://localhost:8080/",
          "height": 1000,
          "referenced_widgets": [
            "dedd31f782394904b90feaed2840cf4e",
            "5ebe517b5b664ba7a504c948a394857b",
            "f6771e61e18c4ac49c86340b9f86c02d",
            "2e6fa0d4484c44198e3b73c3e0dc10b8",
            "da21a63dbdc44147b609a957a8c2f683",
            "2147f19c94bc4d0898299e82f0cb22d0",
            "203ce2ee09304c16a62d866a7cb02af6",
            "5e3a51fb248546fb87f59e5ee6ddca35",
            "7e65051fa7c34f9b8791a9f76d15844b",
            "e0cd89cb7978452ca26107e3e079ee14",
            "2a4e5c41438d45c69e30d9bdfa63b52d",
            "15b8044bc391489a98522a5384d2bdcc",
            "208a95e0569042f18e9a153590b2710d",
            "74055812ffde41b2b6485fbb3bae5fc2",
            "faeaa8c12dbe4f3ab04e2ed3417b4888",
            "c624aeb8f14a4cba96d22a4a387f6931",
            "99bf3519ce7741a09d1b7b91fe8eb0f5",
            "20c05461e0854ce49370bc5bd9c6ccf1",
            "bb17a8a2f1334b8ca5c97e40bbc2ac48",
            "091a108ac7f142678222d7b61a608285",
            "fb504260e25b44e29cb006e45041a6a2",
            "17658ca166364729b9f79dfd5aca001e",
            "88039655d2f94dd5be51555d108c3fa7",
            "8a7786819cd047e6a77075f23e5bdd1f",
            "3208303e559b41b0891cd31e7acb97b8",
            "afa97531a6ad46388ff60c316ae87840",
            "64afb732392e4d3ca7a4ed12c3cd37e7",
            "98a3e423a5c446f2af87b12cf6823cf1",
            "3895ba908acf408cadb5f370bb275f9f",
            "c9d99973f67f48d48881e10bf9ddf860",
            "d99a52d982bf44dfa28eb54f8f23df34",
            "15d75f287b7848d2a885f7fd618ee63a",
            "666905c999a648e688453df9854ca916",
            "540164771c9144fcac4ad6186f23d43c",
            "3da703d5af2b46cf9eb2d9ca4570a817",
            "b7ad4245c55948cabcce20ddc7cfe9a0",
            "ba403f8bed9b439c92977fa94f358e66",
            "f192d6281f8a405ab7ed350dc3b46f09",
            "71c59b69f4d74b5aab2fb0d1c81523d4",
            "b033048ce98c402e86311e4aecceb368",
            "dd58c63f141e45ef98743f224f07a9ec",
            "5c3f6192c12441939376a37b5a3a9552",
            "0aae38059af7456e9c9f95752fe1d222",
            "40710ef6ca0547f3a5fe1ffe507a6e2d"
          ]
        },
        "id": "zxczxvXBKrEe",
        "outputId": "dc12cfea-bb41-4323-f087-4d9ad908ce94"
      },
      "execution_count": null,
      "outputs": [
        {
          "output_type": "stream",
          "name": "stderr",
          "text": [
            "No model was supplied, defaulted to dbmdz/bert-large-cased-finetuned-conll03-english and revision f2482bf (https://huggingface.co/dbmdz/bert-large-cased-finetuned-conll03-english).\n",
            "Using a pipeline without specifying a model name and revision in production is not recommended.\n"
          ]
        },
        {
          "output_type": "display_data",
          "data": {
            "text/plain": [
              "config.json:   0%|          | 0.00/998 [00:00<?, ?B/s]"
            ],
            "application/vnd.jupyter.widget-view+json": {
              "version_major": 2,
              "version_minor": 0,
              "model_id": "dedd31f782394904b90feaed2840cf4e"
            }
          },
          "metadata": {}
        },
        {
          "output_type": "display_data",
          "data": {
            "text/plain": [
              "model.safetensors:   0%|          | 0.00/1.33G [00:00<?, ?B/s]"
            ],
            "application/vnd.jupyter.widget-view+json": {
              "version_major": 2,
              "version_minor": 0,
              "model_id": "15b8044bc391489a98522a5384d2bdcc"
            }
          },
          "metadata": {}
        },
        {
          "output_type": "stream",
          "name": "stderr",
          "text": [
            "Some weights of the model checkpoint at dbmdz/bert-large-cased-finetuned-conll03-english were not used when initializing BertForTokenClassification: ['bert.pooler.dense.bias', 'bert.pooler.dense.weight']\n",
            "- This IS expected if you are initializing BertForTokenClassification from the checkpoint of a model trained on another task or with another architecture (e.g. initializing a BertForSequenceClassification model from a BertForPreTraining model).\n",
            "- This IS NOT expected if you are initializing BertForTokenClassification from the checkpoint of a model that you expect to be exactly identical (initializing a BertForSequenceClassification model from a BertForSequenceClassification model).\n"
          ]
        },
        {
          "output_type": "display_data",
          "data": {
            "text/plain": [
              "tokenizer_config.json:   0%|          | 0.00/60.0 [00:00<?, ?B/s]"
            ],
            "application/vnd.jupyter.widget-view+json": {
              "version_major": 2,
              "version_minor": 0,
              "model_id": "88039655d2f94dd5be51555d108c3fa7"
            }
          },
          "metadata": {}
        },
        {
          "output_type": "display_data",
          "data": {
            "text/plain": [
              "vocab.txt:   0%|          | 0.00/213k [00:00<?, ?B/s]"
            ],
            "application/vnd.jupyter.widget-view+json": {
              "version_major": 2,
              "version_minor": 0,
              "model_id": "540164771c9144fcac4ad6186f23d43c"
            }
          },
          "metadata": {}
        },
        {
          "output_type": "execute_result",
          "data": {
            "text/plain": [
              "[{'entity': 'I-PER',\n",
              "  'score': 0.99938285,\n",
              "  'index': 4,\n",
              "  'word': 'S',\n",
              "  'start': 11,\n",
              "  'end': 12},\n",
              " {'entity': 'I-PER',\n",
              "  'score': 0.99815494,\n",
              "  'index': 5,\n",
              "  'word': '##yl',\n",
              "  'start': 12,\n",
              "  'end': 14},\n",
              " {'entity': 'I-PER',\n",
              "  'score': 0.99590707,\n",
              "  'index': 6,\n",
              "  'word': '##va',\n",
              "  'start': 14,\n",
              "  'end': 16},\n",
              " {'entity': 'I-PER',\n",
              "  'score': 0.99923277,\n",
              "  'index': 7,\n",
              "  'word': '##in',\n",
              "  'start': 16,\n",
              "  'end': 18},\n",
              " {'entity': 'I-ORG',\n",
              "  'score': 0.9738931,\n",
              "  'index': 12,\n",
              "  'word': 'Hu',\n",
              "  'start': 33,\n",
              "  'end': 35},\n",
              " {'entity': 'I-ORG',\n",
              "  'score': 0.976115,\n",
              "  'index': 13,\n",
              "  'word': '##gging',\n",
              "  'start': 35,\n",
              "  'end': 40},\n",
              " {'entity': 'I-ORG',\n",
              "  'score': 0.9887976,\n",
              "  'index': 14,\n",
              "  'word': 'Face',\n",
              "  'start': 41,\n",
              "  'end': 45},\n",
              " {'entity': 'I-LOC',\n",
              "  'score': 0.9932106,\n",
              "  'index': 16,\n",
              "  'word': 'Brooklyn',\n",
              "  'start': 49,\n",
              "  'end': 57}]"
            ]
          },
          "metadata": {},
          "execution_count": 25
        }
      ]
    },
    {
      "cell_type": "markdown",
      "source": [
        "The model properly identified each token generated by “Sylvain” as a person, each token generated by “Hugging Face” as an organization, and the token “Brooklyn” as a location.\n",
        "\n",
        "We can also ask the pipeline to group together the tokens that correspond to the same entity:"
      ],
      "metadata": {
        "id": "VcY604T4LBW-"
      }
    },
    {
      "cell_type": "code",
      "source": [
        "token_classifier = pipeline(\"token-classification\", aggregation_strategy=\"simple\")\n",
        "token_classifier(\"My name is Sylvain and I work at Hugging Face in Brooklyn.\")"
      ],
      "metadata": {
        "colab": {
          "base_uri": "https://localhost:8080/"
        },
        "id": "M4H0dWchLF56",
        "outputId": "f148f801-f984-4e0a-d916-813af6972ae0"
      },
      "execution_count": null,
      "outputs": [
        {
          "output_type": "stream",
          "name": "stderr",
          "text": [
            "No model was supplied, defaulted to dbmdz/bert-large-cased-finetuned-conll03-english and revision f2482bf (https://huggingface.co/dbmdz/bert-large-cased-finetuned-conll03-english).\n",
            "Using a pipeline without specifying a model name and revision in production is not recommended.\n",
            "Some weights of the model checkpoint at dbmdz/bert-large-cased-finetuned-conll03-english were not used when initializing BertForTokenClassification: ['bert.pooler.dense.bias', 'bert.pooler.dense.weight']\n",
            "- This IS expected if you are initializing BertForTokenClassification from the checkpoint of a model trained on another task or with another architecture (e.g. initializing a BertForSequenceClassification model from a BertForPreTraining model).\n",
            "- This IS NOT expected if you are initializing BertForTokenClassification from the checkpoint of a model that you expect to be exactly identical (initializing a BertForSequenceClassification model from a BertForSequenceClassification model).\n"
          ]
        },
        {
          "output_type": "execute_result",
          "data": {
            "text/plain": [
              "[{'entity_group': 'PER',\n",
              "  'score': 0.9981694,\n",
              "  'word': 'Sylvain',\n",
              "  'start': 11,\n",
              "  'end': 18},\n",
              " {'entity_group': 'ORG',\n",
              "  'score': 0.9796019,\n",
              "  'word': 'Hugging Face',\n",
              "  'start': 33,\n",
              "  'end': 45},\n",
              " {'entity_group': 'LOC',\n",
              "  'score': 0.9932106,\n",
              "  'word': 'Brooklyn',\n",
              "  'start': 49,\n",
              "  'end': 57}]"
            ]
          },
          "metadata": {},
          "execution_count": 28
        }
      ]
    },
    {
      "cell_type": "markdown",
      "source": [
        "The `aggregation_strategy` picked will change the scores computed for each grouped entity. With `\"simple\"` the score is just the *mean of the scores of each token in the given entity*: for instance, the score of “Sylvain” is the mean of the scores we saw in the previous example for the tokens `S`, `##yl`, `##va`, and `##in`.\n",
        "\n",
        "The other strategies are: `\"first\"`, `\"max\"`, `\"average\"`"
      ],
      "metadata": {
        "id": "7_WRNjRPMR_5"
      }
    },
    {
      "cell_type": "markdown",
      "source": [
        "Now let’s see how to obtain these results without using the pipeline() function!"
      ],
      "metadata": {
        "id": "oMP3_f7XMhJM"
      }
    },
    {
      "cell_type": "markdown",
      "source": [
        "#### **From Inputs to Prediction**\n",
        "*First* we need to **tokenize our input and pass it through the model**. We instantiate the tokenizer and the model using the `AutoXxx` classes and then use them on our example."
      ],
      "metadata": {
        "id": "c50GPkhzMkx8"
      }
    },
    {
      "cell_type": "code",
      "source": [
        "from transformers import AutoTokenizer, AutoModelForTokenClassification\n",
        "\n",
        "model_checkpoint = \"dbmdz/bert-large-cased-finetuned-conll03-english\"\n",
        "tokenizer = AutoTokenizer.from_pretrained(model_checkpoint)\n",
        "model = AutoModelForTokenClassification.from_pretrained(model_checkpoint)\n",
        "\n",
        "example = \"My name is Sylvain and I work at Hugging Face in Brooklyn.\"\n",
        "inputs = tokenizer(example, return_tensors=\"pt\")\n",
        "outputs = model(**inputs)"
      ],
      "metadata": {
        "colab": {
          "base_uri": "https://localhost:8080/"
        },
        "id": "Zk6g2RKgMxZ4",
        "outputId": "7d744c57-c741-46bc-f578-53b067af1527"
      },
      "execution_count": null,
      "outputs": [
        {
          "output_type": "stream",
          "name": "stderr",
          "text": [
            "Some weights of the model checkpoint at dbmdz/bert-large-cased-finetuned-conll03-english were not used when initializing BertForTokenClassification: ['bert.pooler.dense.bias', 'bert.pooler.dense.weight']\n",
            "- This IS expected if you are initializing BertForTokenClassification from the checkpoint of a model trained on another task or with another architecture (e.g. initializing a BertForSequenceClassification model from a BertForPreTraining model).\n",
            "- This IS NOT expected if you are initializing BertForTokenClassification from the checkpoint of a model that you expect to be exactly identical (initializing a BertForSequenceClassification model from a BertForSequenceClassification model).\n"
          ]
        }
      ]
    },
    {
      "cell_type": "markdown",
      "source": [
        "Since we’re using `AutoModelForTokenClassification` here, we get one set of `logits` for each token in the input sequence"
      ],
      "metadata": {
        "id": "Dtk2UgDLM7n7"
      }
    },
    {
      "cell_type": "code",
      "source": [
        "inputs"
      ],
      "metadata": {
        "colab": {
          "base_uri": "https://localhost:8080/"
        },
        "id": "_dHb09aXNCYc",
        "outputId": "1c58430d-926c-4989-a493-541fad7cf5a8"
      },
      "execution_count": null,
      "outputs": [
        {
          "output_type": "execute_result",
          "data": {
            "text/plain": [
              "{'input_ids': tensor([[  101,  1422,  1271,  1110,   156,  7777,  2497,  1394,  1105,   146,\n",
              "          1250,  1120, 20164, 10932, 10289,  1107,  6010,   119,   102]]), 'token_type_ids': tensor([[0, 0, 0, 0, 0, 0, 0, 0, 0, 0, 0, 0, 0, 0, 0, 0, 0, 0, 0]]), 'attention_mask': tensor([[1, 1, 1, 1, 1, 1, 1, 1, 1, 1, 1, 1, 1, 1, 1, 1, 1, 1, 1]])}"
            ]
          },
          "metadata": {},
          "execution_count": 31
        }
      ]
    },
    {
      "cell_type": "code",
      "source": [
        "print(inputs[\"input_ids\"].shape)\n",
        "print(outputs.logits.shape)"
      ],
      "metadata": {
        "colab": {
          "base_uri": "https://localhost:8080/"
        },
        "id": "SWEXx43kM-xE",
        "outputId": "e4ff2547-69cc-41d8-8b0a-17b10e39d971"
      },
      "execution_count": null,
      "outputs": [
        {
          "output_type": "stream",
          "name": "stdout",
          "text": [
            "torch.Size([1, 19])\n",
            "torch.Size([1, 19, 9])\n"
          ]
        }
      ]
    },
    {
      "cell_type": "markdown",
      "source": [
        "We have a batch with *1 sequence* of *19 tokens* and the model has *9 different labels*, so the output of the model has a shape of `1 x 19 x 9`. Like for the text classification pipeline, we use a `softmax` function to *convert those logits to probabilities*, and we take the `argmax` *to get predictions* (note that we can take the argmax on the logits because the softmax does not change the order)"
      ],
      "metadata": {
        "id": "Rh270bZzNL0S"
      }
    },
    {
      "cell_type": "code",
      "source": [
        "import torch\n",
        "\n",
        "probabilities = torch.nn.functional.softmax(outputs.logits, dim=-1)[0].tolist() # logits to probabilities\n",
        "predictions = outputs.logits.argmax(dim=-1)[0].tolist() # get the prediction\n",
        "print(probabilities)\n",
        "print(predictions)"
      ],
      "metadata": {
        "colab": {
          "base_uri": "https://localhost:8080/"
        },
        "id": "2CoDj6dANZ6n",
        "outputId": "8ea61d0c-be41-43c6-cbc3-300b8be0b0ef"
      },
      "execution_count": null,
      "outputs": [
        {
          "output_type": "stream",
          "name": "stdout",
          "text": [
            "[[0.9994322657585144, 1.6470330592710525e-05, 3.4267097362317145e-05, 1.6042358765844256e-05, 8.25070746941492e-05, 2.1382355043897405e-05, 0.00015649135457351804, 1.965215415111743e-05, 0.00022089284902904183], [0.9989631175994873, 1.8515771444072016e-05, 5.240457539912313e-05, 1.253474511031527e-05, 0.0004347368376329541, 3.0874354706611484e-05, 0.0003146878443658352, 2.786072582239285e-05, 0.00014510878827422857], [0.999708354473114, 8.308103133458644e-06, 2.8745558665832505e-05, 5.650347247865284e-06, 8.694831922184676e-05, 9.783449058886617e-06, 6.786132144043222e-05, 1.1793958947237115e-05, 7.241879211505875e-05], [0.9998350143432617, 5.645520559482975e-06, 1.3955125723441597e-05, 4.3133691178809386e-06, 4.017683386337012e-05, 8.123054612951819e-06, 5.648485239362344e-05, 8.991617505671456e-06, 2.7239060727879405e-05], [0.00018333387561142445, 2.5156570700346492e-05, 4.846194133278914e-05, 1.4900567293807399e-05, 0.9993828535079956, 1.9997702111140825e-05, 0.00011153610103065148, 1.0790738997457083e-05, 0.00020288873929530382], [0.0006440273718908429, 7.437886961270124e-05, 0.00013196618237998337, 3.47196328220889e-05, 0.9981548190116882, 3.382965223863721e-05, 0.0005438175285235047, 1.9978177078883164e-05, 0.00036244577495381236], [0.0016408406663686037, 9.469484211876988e-05, 0.00027364352717995644, 4.440636985236779e-05, 0.995907187461853, 5.1262162742204964e-05, 0.0012787937885150313, 3.2835454476298764e-05, 0.0006763273268006742], [0.00022901823103893548, 2.5183298930642195e-05, 5.789941133116372e-05, 9.95701066131005e-06, 0.9992327690124512, 1.7655056581133977e-05, 0.00023448346473742276, 1.2356580555206165e-05, 0.00018065006588585675], [0.999804675579071, 5.4650263336952776e-06, 1.2949980373377912e-05, 4.972429451299831e-06, 2.3503185730078258e-05, 1.2930702723679133e-05, 9.509907249594107e-05, 8.891754077922087e-06, 3.1469306122744456e-05], [0.9995046854019165, 1.4611873666581232e-05, 2.9646907933056355e-05, 8.223412805818953e-06, 0.000160165160195902, 2.045680594164878e-05, 0.0001753710093908012, 1.934913598233834e-05, 6.74397379043512e-05], [0.9996776580810547, 7.596964678668883e-06, 1.7006927009788342e-05, 3.7776180761284195e-06, 6.396074604708701e-05, 1.2297879038669635e-05, 0.000182414471055381, 7.648403880011756e-06, 2.7664662411552854e-05], [0.999434769153595, 1.1278328202024568e-05, 2.886274342017714e-05, 6.246603334147949e-06, 8.598280692240223e-05, 2.2989384888205677e-05, 0.00034945228253491223, 1.3841326108376961e-05, 4.654664735426195e-05], [0.018156271427869797, 6.245904660318047e-05, 0.0002693218702916056, 4.766615529661067e-05, 0.006134603638201952, 0.00023967419110704213, 0.9738931059837341, 7.093788008205593e-05, 0.0011259109014645219], [0.014645962975919247, 0.0002047977759502828, 0.0022360258735716343, 9.357065573567525e-05, 0.003731628181412816, 0.0005988664925098419, 0.9761149883270264, 0.00017609841597732157, 0.00219808891415596], [0.0031715608201920986, 8.89215589268133e-05, 0.0015001422725617886, 7.652998465346172e-05, 0.003357559908181429, 0.0004643819120246917, 0.9887974858283997, 0.00010871316771954298, 0.0024345892015844584], [0.9995326995849609, 6.553966159117408e-06, 2.8316171665210277e-05, 6.235947694221977e-06, 3.7372072256403044e-05, 2.0357150788186118e-05, 0.00028727532480843365, 1.5032640476420056e-05, 6.614298763452098e-05], [0.000658922886941582, 6.67124695610255e-05, 0.0002244396455353126, 4.190392428427003e-05, 0.0004602030385285616, 9.038791904458776e-05, 0.005088841542601585, 0.00015803218411747366, 0.99321049451828], [0.9994322657585144, 1.64706762006972e-05, 3.426765397307463e-05, 1.6042466086219065e-05, 8.250903920270503e-05, 2.1382355043897405e-05, 0.0001564934354973957, 1.965230330824852e-05, 0.0002208941150456667], [0.9994322657585144, 1.6470299669890665e-05, 3.426703187869862e-05, 1.6042342394939624e-05, 8.250691462308168e-05, 2.1382315026130527e-05, 0.00015649090346414596, 1.965213414223399e-05, 0.0002208924270235002]]\n",
            "[0, 0, 0, 0, 4, 4, 4, 4, 0, 0, 0, 0, 6, 6, 6, 0, 8, 0, 0]\n"
          ]
        }
      ]
    },
    {
      "cell_type": "markdown",
      "source": [
        "The `model.config.id2label` attribute contains the **mapping of indexes to labels** that we can use to make sense of the predictions"
      ],
      "metadata": {
        "id": "eb42S7_qOFOx"
      }
    },
    {
      "cell_type": "code",
      "source": [
        "model.config.id2label"
      ],
      "metadata": {
        "colab": {
          "base_uri": "https://localhost:8080/"
        },
        "id": "JCVildSQOIRw",
        "outputId": "0b6e9ab7-6d4f-4f1b-eec5-a00c04fce58e"
      },
      "execution_count": null,
      "outputs": [
        {
          "output_type": "execute_result",
          "data": {
            "text/plain": [
              "{0: 'O',\n",
              " 1: 'B-MISC',\n",
              " 2: 'I-MISC',\n",
              " 3: 'B-PER',\n",
              " 4: 'I-PER',\n",
              " 5: 'B-ORG',\n",
              " 6: 'I-ORG',\n",
              " 7: 'B-LOC',\n",
              " 8: 'I-LOC'}"
            ]
          },
          "metadata": {},
          "execution_count": 33
        }
      ]
    },
    {
      "cell_type": "markdown",
      "source": [
        "As we saw earlier, there are 9 labels: `O` is the label for the tokens that are not in any named entity (it stands for “outside”), and we then have two labels for each type of entity (miscellaneous, person, organization, and location). The label `B-XXX` indicates the token is at the beginning of an entity `XXX` and the label `I-XXX` indicates the token is inside the entity `XXX`.\n",
        "\n",
        "📓 For instance, in the current example we would expect our model to classify the token `S` as `B-PER` (beginning of a person entity) and the tokens `##yl`, `##va` and `##in` as `I-PER` (inside a person entity)."
      ],
      "metadata": {
        "id": "sTGEstQiPG4o"
      }
    },
    {
      "cell_type": "markdown",
      "source": [
        "With this map, we are ready to reproduce (almost entirely) the results of the first `pipeline` — we can just grab the score and label of each token that was not classified as `O`:"
      ],
      "metadata": {
        "id": "-fljK--xPbQd"
      }
    },
    {
      "cell_type": "code",
      "source": [
        "results = []\n",
        "tokens = inputs.tokens()\n",
        "\n",
        "for idx, pred in enumerate(predictions):\n",
        "    label = model.config.id2label[pred]\n",
        "    if label != \"O\":\n",
        "        results.append(\n",
        "            {\"entity\": label, \"score\": probabilities[idx][pred], \"word\": tokens[idx]}\n",
        "        )\n",
        "\n",
        "print(results)"
      ],
      "metadata": {
        "colab": {
          "base_uri": "https://localhost:8080/"
        },
        "id": "QyGX5yGaPe-y",
        "outputId": "5f7c39fb-7285-48fb-cea7-5139ad992010"
      },
      "execution_count": null,
      "outputs": [
        {
          "output_type": "stream",
          "name": "stdout",
          "text": [
            "[{'entity': 'I-PER', 'score': 0.9993828535079956, 'word': 'S'}, {'entity': 'I-PER', 'score': 0.9981548190116882, 'word': '##yl'}, {'entity': 'I-PER', 'score': 0.995907187461853, 'word': '##va'}, {'entity': 'I-PER', 'score': 0.9992327690124512, 'word': '##in'}, {'entity': 'I-ORG', 'score': 0.9738931059837341, 'word': 'Hu'}, {'entity': 'I-ORG', 'score': 0.9761149883270264, 'word': '##gging'}, {'entity': 'I-ORG', 'score': 0.9887974858283997, 'word': 'Face'}, {'entity': 'I-LOC', 'score': 0.99321049451828, 'word': 'Brooklyn'}]\n"
          ]
        }
      ]
    },
    {
      "cell_type": "markdown",
      "source": [
        "This is very similar to what we had before, with one exception: the `pipeline` also gave us information about the `start` and `end` of each entity in the original sentence. This is where our *offset mapping* will come into play. To get the offsets, we just have to set `return_offsets_mapping=True` when we apply the tokenizer to our inputs"
      ],
      "metadata": {
        "id": "5QGheDSTRM4S"
      }
    },
    {
      "cell_type": "code",
      "source": [
        "inputs_with_offsets = tokenizer(example, return_offsets_mapping=True)\n",
        "inputs_with_offsets[\"offset_mapping\"]"
      ],
      "metadata": {
        "colab": {
          "base_uri": "https://localhost:8080/"
        },
        "id": "Av6JtjW8RSMr",
        "outputId": "6484c312-209e-45ff-e209-e16c1b1bcb78"
      },
      "execution_count": null,
      "outputs": [
        {
          "output_type": "execute_result",
          "data": {
            "text/plain": [
              "[(0, 0),\n",
              " (0, 2),\n",
              " (3, 7),\n",
              " (8, 10),\n",
              " (11, 12),\n",
              " (12, 14),\n",
              " (14, 16),\n",
              " (16, 18),\n",
              " (19, 22),\n",
              " (23, 24),\n",
              " (25, 29),\n",
              " (30, 32),\n",
              " (33, 35),\n",
              " (35, 40),\n",
              " (41, 45),\n",
              " (46, 48),\n",
              " (49, 57),\n",
              " (57, 58),\n",
              " (0, 0)]"
            ]
          },
          "metadata": {},
          "execution_count": 42
        }
      ]
    },
    {
      "cell_type": "markdown",
      "source": [
        "\"My name is Sylvain and I work at Hugging Face in Brooklyn.\""
      ],
      "metadata": {
        "id": "YAu8FQdwRWbV"
      }
    },
    {
      "cell_type": "markdown",
      "source": [
        "Each tuple is the span of text corresponding to each token, where `(0, 0)` is reserved for the special tokens. We saw before that the token at index 5 is `##yl`, which has `(12, 14)` as offsets here.\n",
        "\n",
        "If we grab the corresponding slice in our example"
      ],
      "metadata": {
        "id": "bykC0ziWRldB"
      }
    },
    {
      "cell_type": "code",
      "source": [
        "example[12:14]"
      ],
      "metadata": {
        "colab": {
          "base_uri": "https://localhost:8080/",
          "height": 36
        },
        "id": "ea0AkxloRk7p",
        "outputId": "52e38459-d15c-4580-80dc-581912251cb3"
      },
      "execution_count": null,
      "outputs": [
        {
          "output_type": "execute_result",
          "data": {
            "text/plain": [
              "'yl'"
            ],
            "application/vnd.google.colaboratory.intrinsic+json": {
              "type": "string"
            }
          },
          "metadata": {},
          "execution_count": 47
        }
      ]
    },
    {
      "cell_type": "markdown",
      "source": [
        "Using this we can complete the previous results"
      ],
      "metadata": {
        "id": "UHveeR8OS1iX"
      }
    },
    {
      "cell_type": "code",
      "source": [
        "results = []\n",
        "inputs_with_offsets = tokenizer(example, return_offsets_mapping=True)\n",
        "tokens = inputs_with_offsets.tokens()\n",
        "offsets = inputs_with_offsets[\"offset_mapping\"]\n",
        "\n",
        "for idx, pred in enumerate(predictions):\n",
        "    label = model.config.id2label[pred]\n",
        "    if label != \"O\":\n",
        "        start, end = offsets[idx]\n",
        "        results.append(\n",
        "            {\n",
        "                \"entity\": label,\n",
        "                \"score\": probabilities[idx][pred],\n",
        "                \"word\": tokens[idx],\n",
        "                \"start\": start,\n",
        "                \"end\": end,\n",
        "            }\n",
        "        )\n",
        "\n",
        "print(results)"
      ],
      "metadata": {
        "colab": {
          "base_uri": "https://localhost:8080/"
        },
        "id": "XK83UlEnS4v4",
        "outputId": "202643c8-4b90-424c-ca3f-ca5b800ce71a"
      },
      "execution_count": null,
      "outputs": [
        {
          "output_type": "stream",
          "name": "stdout",
          "text": [
            "[{'entity': 'I-PER', 'score': 0.9993828535079956, 'word': 'S', 'start': 11, 'end': 12}, {'entity': 'I-PER', 'score': 0.9981548190116882, 'word': '##yl', 'start': 12, 'end': 14}, {'entity': 'I-PER', 'score': 0.995907187461853, 'word': '##va', 'start': 14, 'end': 16}, {'entity': 'I-PER', 'score': 0.9992327690124512, 'word': '##in', 'start': 16, 'end': 18}, {'entity': 'I-ORG', 'score': 0.9738931059837341, 'word': 'Hu', 'start': 33, 'end': 35}, {'entity': 'I-ORG', 'score': 0.9761149883270264, 'word': '##gging', 'start': 35, 'end': 40}, {'entity': 'I-ORG', 'score': 0.9887974858283997, 'word': 'Face', 'start': 41, 'end': 45}, {'entity': 'I-LOC', 'score': 0.99321049451828, 'word': 'Brooklyn', 'start': 49, 'end': 57}]\n"
          ]
        }
      ]
    },
    {
      "cell_type": "markdown",
      "source": [
        "This is the same as what we got from the first pipeline!"
      ],
      "metadata": {
        "id": "tQhYxatUTJwq"
      }
    },
    {
      "cell_type": "markdown",
      "source": [
        "#### **Grouping Entities**\n",
        "Using the `offsets` to determine the start and end keys for each entity is handy, but that information isn’t strictly necessary.\n",
        "\n",
        "When we want to group the entities together, however, the offsets will save us a lot of messy code. For example, if we wanted to group together the tokens `Hu`, `##gging`, and `Face`, we could make special rules that say *the first two should be attached while removing the `##`*, and *the Face should be added with a space since it does not begin with `##`* — but that would only work for this particular type of tokenizer ➡➡➡ [*another set rules for a `SentecePiece` or a `Byte-Pair-Encoding Tokenizer`*]"
      ],
      "metadata": {
        "id": "XQFxZj8eIbIF"
      }
    },
    {
      "cell_type": "markdown",
      "source": [
        "With the offsets, all that custom code goes away: we just can **take the span in the original text that begins with the first token and ends with the last token**. So, in the case of the tokens `Hu`, `##gging`, and `Face`, we should start at character 33 (the beginning of `Hu`) and end before character 45 (the end of `Face`):"
      ],
      "metadata": {
        "id": "mdbvghhCT4ht"
      }
    },
    {
      "cell_type": "code",
      "source": [
        "example[33:45]"
      ],
      "metadata": {
        "colab": {
          "base_uri": "https://localhost:8080/",
          "height": 36
        },
        "id": "d1QsZSpPT_zG",
        "outputId": "625d37af-63d4-40e4-da73-9156082a19f1"
      },
      "execution_count": null,
      "outputs": [
        {
          "output_type": "execute_result",
          "data": {
            "text/plain": [
              "'Hugging Face'"
            ],
            "application/vnd.google.colaboratory.intrinsic+json": {
              "type": "string"
            }
          },
          "metadata": {},
          "execution_count": 49
        }
      ]
    },
    {
      "cell_type": "markdown",
      "source": [
        "To write the code that *post-processes the predictions while grouping entities*, we will **group together entities that are consecutive and labeled with `I-XXX`, except for the first one, which can be labeled as `B-XXX` or `I-XXX`** (so, we stop grouping an entity when we get a O, a new type of entity, or a `B-XXX` that tells us an entity of the same type is starting):"
      ],
      "metadata": {
        "id": "2UdCJQn4UIIt"
      }
    },
    {
      "cell_type": "code",
      "source": [
        "import numpy as np\n",
        "\n",
        "results = [] # save the results\n",
        "inputs_with_offsets = tokenizer(example, return_offsets_mapping=True) # tokenizer with offset\n",
        "tokens = inputs_with_offsets.tokens() # get the tokens of input\n",
        "offsets = inputs_with_offsets[\"offset_mapping\"] # slice for the offset value only\n",
        "\n",
        "idx = 0\n",
        "while idx < len(predictions):\n",
        "    pred = predictions[idx] # get the prediction value by index\n",
        "    label = model.config.id2label[pred] # get the label of the model from prediction values\n",
        "    if label != \"O\":\n",
        "        # Remove the B- or I-\n",
        "        label = label[2:]\n",
        "        start, _ = offsets[idx]\n",
        "\n",
        "        # Grab all the tokens labeled with I-label\n",
        "        all_scores = []\n",
        "        while (\n",
        "            idx < len(predictions)\n",
        "            and model.config.id2label[predictions[idx]] == f\"I-{label}\"\n",
        "        ):\n",
        "            all_scores.append(probabilities[idx][pred])\n",
        "            _, end = offsets[idx]\n",
        "            idx += 1\n",
        "\n",
        "        # The score is the mean of all the scores of the tokens in that grouped entity\n",
        "        score = np.mean(all_scores).item()\n",
        "        word = example[start:end]\n",
        "        results.append(\n",
        "            {\n",
        "                \"entity_group\": label,\n",
        "                \"score\": score,\n",
        "                \"word\": word,\n",
        "                \"start\": start,\n",
        "                \"end\": end,\n",
        "            }\n",
        "        )\n",
        "    idx += 1\n",
        "\n",
        "print(results)"
      ],
      "metadata": {
        "colab": {
          "base_uri": "https://localhost:8080/"
        },
        "id": "FrDW3WHZUXns",
        "outputId": "376d3d93-f494-4cf5-b510-4441871d7073"
      },
      "execution_count": null,
      "outputs": [
        {
          "output_type": "stream",
          "name": "stdout",
          "text": [
            "[{'entity_group': 'PER', 'score': 0.998169407248497, 'word': 'Sylvain', 'start': 11, 'end': 18}, {'entity_group': 'ORG', 'score': 0.9796018600463867, 'word': 'Hugging Face', 'start': 33, 'end': 45}, {'entity_group': 'LOC', 'score': 0.99321049451828, 'word': 'Brooklyn', 'start': 49, 'end': 57}]\n"
          ]
        }
      ]
    },
    {
      "cell_type": "markdown",
      "source": [
        "And we get the same results as with our second pipeline!"
      ],
      "metadata": {
        "id": "0FeAxnEvVvzy"
      }
    },
    {
      "cell_type": "markdown",
      "source": [
        "Another example of a task where these `offsets` are extremely useful is *question answering*."
      ],
      "metadata": {
        "id": "t9UEXBO1V2yh"
      }
    },
    {
      "cell_type": "markdown",
      "source": [
        "## **Fast Tokenizers in the `QA Pipeline`**\n",
        "We will now dive into the `question-answering` pipeline and see how to leverage the offsets to grab the answer to the question at hand from the context, a bit like we did for the grouped entities in the previous section. Then we will see how we can deal with very long contexts that end up being truncated."
      ],
      "metadata": {
        "id": "w1vItWISAGLn"
      }
    },
    {
      "cell_type": "markdown",
      "source": [
        "### **Using the Question-Answering pipeline**"
      ],
      "metadata": {
        "id": "wuEEWPOcM_OT"
      }
    },
    {
      "cell_type": "markdown",
      "source": [
        "Basic pipeline for `question-answering`"
      ],
      "metadata": {
        "id": "quVc-dYvU-YY"
      }
    },
    {
      "cell_type": "code",
      "source": [
        "from transformers import pipeline\n",
        "\n",
        "question_answerer = pipeline(\"question-answering\", top_k=5)\n",
        "context = \"\"\"\n",
        "🤗 Transformers is backed by the three most popular deep learning libraries — Jax, PyTorch, and TensorFlow — with a seamless integration\n",
        "between them. It's straightforward to train your models with one before loading them for inference with the other.\n",
        "\"\"\"\n",
        "\n",
        "question = \"Which deep learning libraries back 🤗 Transformers?\"\n",
        "question_answerer(question=question, context=context)"
      ],
      "metadata": {
        "colab": {
          "base_uri": "https://localhost:8080/"
        },
        "id": "yE_k84DwVB2r",
        "outputId": "537d4201-6dc3-49a8-c8ad-73d29495abc3"
      },
      "execution_count": null,
      "outputs": [
        {
          "output_type": "stream",
          "name": "stderr",
          "text": [
            "No model was supplied, defaulted to distilbert/distilbert-base-cased-distilled-squad and revision 626af31 (https://huggingface.co/distilbert/distilbert-base-cased-distilled-squad).\n",
            "Using a pipeline without specifying a model name and revision in production is not recommended.\n",
            "/usr/local/lib/python3.10/dist-packages/transformers/tokenization_utils_base.py:1601: FutureWarning: `clean_up_tokenization_spaces` was not set. It will be set to `True` by default. This behavior will be depracted in transformers v4.45, and will be then set to `False` by default. For more details check this issue: https://github.com/huggingface/transformers/issues/31884\n",
            "  warnings.warn(\n"
          ]
        },
        {
          "output_type": "execute_result",
          "data": {
            "text/plain": [
              "[{'score': 0.98026043176651,\n",
              "  'start': 78,\n",
              "  'end': 106,\n",
              "  'answer': 'Jax, PyTorch, and TensorFlow'},\n",
              " {'score': 0.008247774094343185,\n",
              "  'start': 78,\n",
              "  'end': 108,\n",
              "  'answer': 'Jax, PyTorch, and TensorFlow —'},\n",
              " {'score': 0.0013676995877176523,\n",
              "  'start': 78,\n",
              "  'end': 90,\n",
              "  'answer': 'Jax, PyTorch'},\n",
              " {'score': 0.00038108433363959193,\n",
              "  'start': 83,\n",
              "  'end': 106,\n",
              "  'answer': 'PyTorch, and TensorFlow'},\n",
              " {'score': 0.00021684507373720407,\n",
              "  'start': 96,\n",
              "  'end': 106,\n",
              "  'answer': 'TensorFlow'}]"
            ]
          },
          "metadata": {},
          "execution_count": 121
        }
      ]
    },
    {
      "cell_type": "markdown",
      "source": [
        "Unlike the other pipelines, which can’t truncate and split texts that are longer than the maximum length accepted by the model (and thus may miss information at the end of a document), this pipeline can *deal with very long contexts* and will *return the answer to the question even if it’s at the end*"
      ],
      "metadata": {
        "id": "9dOq--H6Vitv"
      }
    },
    {
      "cell_type": "code",
      "source": [
        "long_context = \"\"\"\n",
        "🤗 Transformers: State of the Art NLP\n",
        "\n",
        "🤗 Transformers provides thousands of pretrained models to perform tasks on texts such as classification, information extraction,\n",
        "question answering, summarization, translation, text generation and more in over 100 languages.\n",
        "Its aim is to make cutting-edge NLP easier to use for everyone.\n",
        "\n",
        "🤗 Transformers provides APIs to quickly download and use those pretrained models on a given text, fine-tune them on your own datasets and\n",
        "then share them with the community on our model hub. At the same time, each python module defining an architecture is fully standalone and\n",
        "can be modified to enable quick research experiments.\n",
        "\n",
        "Why should I use transformers?\n",
        "\n",
        "1. Easy-to-use state-of-the-art models:\n",
        "  - High performance on NLU and NLG tasks.\n",
        "  - Low barrier to entry for educators and practitioners.\n",
        "  - Few user-facing abstractions with just three classes to learn.\n",
        "  - A unified API for using all our pretrained models.\n",
        "  - Lower compute costs, smaller carbon footprint:\n",
        "\n",
        "2. Researchers can share trained models instead of always retraining.\n",
        "  - Practitioners can reduce compute time and production costs.\n",
        "  - Dozens of architectures with over 10,000 pretrained models, some in more than 100 languages.\n",
        "\n",
        "3. Choose the right framework for every part of a model's lifetime:\n",
        "  - Train state-of-the-art models in 3 lines of code.\n",
        "  - Move a single model between TF2.0/PyTorch frameworks at will.\n",
        "  - Seamlessly pick the right framework for training, evaluation and production.\n",
        "\n",
        "4. Easily customize a model or an example to your needs:\n",
        "  - We provide examples for each architecture to reproduce the results published by its original authors.\n",
        "  - Model internals are exposed as consistently as possible.\n",
        "  - Model files can be used independently of the library for quick experiments.\n",
        "\n",
        "🤗 Transformers is backed by the three most popular deep learning libraries — Jax, PyTorch and TensorFlow — with a seamless integration\n",
        "between them. It's straightforward to train your models with one before loading them for inference with the other.\n",
        "\"\"\"\n",
        "\n",
        "question_answerer(question=question, context=long_context)"
      ],
      "metadata": {
        "colab": {
          "base_uri": "https://localhost:8080/"
        },
        "id": "0gg212vTVpu5",
        "outputId": "de8a202d-eff4-4b39-dcf9-d7b741a698a9"
      },
      "execution_count": null,
      "outputs": [
        {
          "output_type": "execute_result",
          "data": {
            "text/plain": [
              "{'score': 0.9714871048927307,\n",
              " 'start': 1892,\n",
              " 'end': 1919,\n",
              " 'answer': 'Jax, PyTorch and TensorFlow'}"
            ]
          },
          "metadata": {},
          "execution_count": 2
        }
      ]
    },
    {
      "cell_type": "markdown",
      "source": [
        "### **Using a model for Question-Answering**\n",
        "Like with any other pipeline, we start by *tokenizing* our input and then *send it through the model*. The checkpoint used by default for the `question-answering` pipeline is `distilbert-base-cased-distilled-squad` (the “squad” in the name comes from the dataset on which the model was fine-tuned)"
      ],
      "metadata": {
        "id": "0TwBn7ajNCSI"
      }
    },
    {
      "cell_type": "code",
      "source": [
        "from transformers import AutoTokenizer, AutoModelForQuestionAnswering\n",
        "\n",
        "model_checkpoint = \"distilbert-base-cased-distilled-squad\"\n",
        "tokenizer = AutoTokenizer.from_pretrained(model_checkpoint)\n",
        "model = AutoModelForQuestionAnswering.from_pretrained(model_checkpoint)\n",
        "\n",
        "inputs = tokenizer(question, context, return_tensors=\"pt\")\n",
        "outputs = model(**inputs)"
      ],
      "metadata": {
        "colab": {
          "base_uri": "https://localhost:8080/",
          "height": 177,
          "referenced_widgets": [
            "3a0e12487c6346c19ab1fb57e551bc38",
            "789c78fe932247b4b7f0948a44edd1d7",
            "d230c210b491446b974de036171b7592",
            "2b87aad54a8d4fd48ea09c15737d7d84",
            "9e4da6a489ce4fc2a1b1d47f76b5cdd8",
            "177ed765be6b49f59f841c2908fa6fc7",
            "e63dd97a214b4fc7a12600bfc028716c",
            "34ab6463299e47dab1a00731aab22a6a",
            "2a8b2ea106f74adfa022c9130f63f699",
            "a4190e8cdb42410783a8e543feabf31b",
            "3bb068b7c8c349b88b22c45f1bf677fc",
            "3c6b7b0493c24d82b1b3d32d04b1f10e",
            "a344fc40e4b7449a8fbf41e027b5a803",
            "4565dbd5ad4c49c2b239febb34ac99b3",
            "882eff33fa78405d88b42a776274a391",
            "4228ed28304f45b9858fdb35c2284504",
            "8865329783a6410fbb562b11958f3c39",
            "4c169c9cf8b84fcab731ad9171e6ef7d",
            "9add7bad0fcd4ee887cee18fe66a95ff",
            "7cc12077c0c24828a7343056a906511c",
            "6b3ef3bdbc10428fbbe304cce6e8ab84",
            "7382b791f5a449839bed8194b978f54e",
            "ac089d4ac67740839701483a206167e2",
            "114ee7fd0cf94c419b57cd4307495831",
            "68e887bb959841249b1c781353b5b4e9",
            "4cbd0091c3e24f96baab3b7bfc27fd5a",
            "be8a114cb39f43679b32056a062bdf3a",
            "0550928533a449a8a47f44b7c2323062",
            "f029d7d0b7b34c01bd30f87f47c28074",
            "e0affd11397545c7b9a164092f9dc1ba",
            "3bb4a43d2b744cfcae84efc0a1d441b4",
            "f7559b9f0d3245fabe80b2b5410d0b42",
            "bd028d61c40145d282e306bc57592b45",
            "b21dfce3d77248aeabef044e9139dd6d",
            "76f1b70d0ca6465ab58cdeb9e2603092",
            "395fb4a140c84cbbbd9ddc7b12821b6b",
            "724e1c6da3194c1d981fda4a518f1c13",
            "b00e66f5376c4aa8a949379d7effebf9",
            "3d1ff9731eaf478e9bfee6687e10c83d",
            "d51055c38f9f4e66ae43270bace7964d",
            "ea1b332263694faea9a05eb61f6e0ad5",
            "77fc65af0be24b8f9296f269c6fd07e4",
            "8e0c5128eed24fa7bd005f50d3778e67",
            "e068ddd1eb5d4226bc46770fcd20282c",
            "54b988bad39b4a50865cb5933a5236c4",
            "674c0a9385fc40179207f621ac287e44",
            "1d98818fbe8343438dbfbfa9aa4f0758",
            "a705436c973843a3a7759227dc5e3d53",
            "ec40fb86c4fb44a4bc844f98ac9a60e1",
            "647b3575731847ac90c545d7daf6b3bf",
            "65912f0b7c16408eb44724e92e450988",
            "0eead121da0f4b67bd6ed4ca03d55a41",
            "2da2abde2cdf46c99cdc43f9f5af61eb",
            "4917b1cbdca04b9186b4b527536ae404",
            "4b60eaf02a1f4c6fb10146b58c6d87cc"
          ]
        },
        "id": "Cpc-sKqaWGIN",
        "outputId": "aeb16ac1-372f-4e43-d802-f7f888c656b0"
      },
      "execution_count": null,
      "outputs": [
        {
          "output_type": "display_data",
          "data": {
            "text/plain": [
              "tokenizer_config.json:   0%|          | 0.00/49.0 [00:00<?, ?B/s]"
            ],
            "application/vnd.jupyter.widget-view+json": {
              "version_major": 2,
              "version_minor": 0,
              "model_id": "3a0e12487c6346c19ab1fb57e551bc38"
            }
          },
          "metadata": {}
        },
        {
          "output_type": "display_data",
          "data": {
            "text/plain": [
              "config.json:   0%|          | 0.00/473 [00:00<?, ?B/s]"
            ],
            "application/vnd.jupyter.widget-view+json": {
              "version_major": 2,
              "version_minor": 0,
              "model_id": "3c6b7b0493c24d82b1b3d32d04b1f10e"
            }
          },
          "metadata": {}
        },
        {
          "output_type": "display_data",
          "data": {
            "text/plain": [
              "vocab.txt:   0%|          | 0.00/213k [00:00<?, ?B/s]"
            ],
            "application/vnd.jupyter.widget-view+json": {
              "version_major": 2,
              "version_minor": 0,
              "model_id": "ac089d4ac67740839701483a206167e2"
            }
          },
          "metadata": {}
        },
        {
          "output_type": "display_data",
          "data": {
            "text/plain": [
              "tokenizer.json:   0%|          | 0.00/436k [00:00<?, ?B/s]"
            ],
            "application/vnd.jupyter.widget-view+json": {
              "version_major": 2,
              "version_minor": 0,
              "model_id": "b21dfce3d77248aeabef044e9139dd6d"
            }
          },
          "metadata": {}
        },
        {
          "output_type": "display_data",
          "data": {
            "text/plain": [
              "model.safetensors:   0%|          | 0.00/261M [00:00<?, ?B/s]"
            ],
            "application/vnd.jupyter.widget-view+json": {
              "version_major": 2,
              "version_minor": 0,
              "model_id": "54b988bad39b4a50865cb5933a5236c4"
            }
          },
          "metadata": {}
        }
      ]
    },
    {
      "cell_type": "markdown",
      "source": [
        "Models for question answering work a little differently from the models we’ve seen up to now. Using the picture above as an example, the model has been **trained to predict the index of the token starting the answer** (here 21) *and* **the index of the token where the answer ends** (here 24).\n",
        "\n",
        "This is why those models don’t return one tensor of logits but two: **one for the logits corresponding to the start token of the answer**, *and* **one for the logits corresponding to the end token of the answer**. Since in this case we have only one input containing 66 tokens"
      ],
      "metadata": {
        "id": "dsUevE7JW8NZ"
      }
    },
    {
      "cell_type": "code",
      "source": [
        "start_logits = outputs.start_logits\n",
        "end_logits = outputs.end_logits\n",
        "\n",
        "print(start_logits.shape, end_logits.shape)\n",
        "# torch.Size([1, 67]) torch.Size([1, 67])"
      ],
      "metadata": {
        "colab": {
          "base_uri": "https://localhost:8080/"
        },
        "id": "OlQRGRHFXKCx",
        "outputId": "0ea4fc05-f064-48cb-e396-84857cd47d27"
      },
      "execution_count": null,
      "outputs": [
        {
          "output_type": "stream",
          "name": "stdout",
          "text": [
            "torch.Size([1, 67]) torch.Size([1, 67])\n"
          ]
        }
      ]
    },
    {
      "cell_type": "markdown",
      "source": [
        "To **convert those logits into probabilities**, we will apply a `softmax` function — but before that, we need to make sure we **mask the indices that are not part of the context**. Our input is `[CLS] question [SEP] context [SEP]`, so we **need to mask the tokens of the question as well as the `[SEP]` token**. We’ll **keep the `[CLS]` token**, however, as some models use it to indicate that the answer is not in the context."
      ],
      "metadata": {
        "id": "SddGP3i0Xm-i"
      }
    },
    {
      "cell_type": "markdown",
      "source": [
        "Since we will apply a `softmax` afterward, we just need to replace the `logits` we want to mask with a large negative number. Here, we use `-10000`"
      ],
      "metadata": {
        "id": "cS3oyJZPX5s7"
      }
    },
    {
      "cell_type": "code",
      "source": [
        "import torch\n",
        "\n",
        "sequence_ids = inputs.sequence_ids()\n",
        "\n",
        "# Mask everything apart from the tokens of the context\n",
        "mask = [i != 1 for i in sequence_ids]\n",
        "\n",
        "# Unmask the [CLS] token\n",
        "mask[0] = False\n",
        "mask = torch.tensor(mask)[None]\n",
        "\n",
        "start_logits[mask] = -10000\n",
        "end_logits[mask] = -10000"
      ],
      "metadata": {
        "id": "p-93XL4ZX2vS"
      },
      "execution_count": null,
      "outputs": []
    },
    {
      "cell_type": "markdown",
      "source": [
        "Now that we have properly **masked the logits corresponding to positions we don’t want to predict**, we can apply the softmax"
      ],
      "metadata": {
        "id": "Eu0TwQa0ZA7X"
      }
    },
    {
      "cell_type": "code",
      "source": [
        "start_probabilities = torch.nn.functional.softmax(start_logits, dim=-1)[0]\n",
        "end_probabilities = torch.nn.functional.softmax(end_logits, dim=-1)[0]"
      ],
      "metadata": {
        "id": "6h0xUotdZD3n"
      },
      "execution_count": null,
      "outputs": []
    },
    {
      "cell_type": "code",
      "source": [
        "start_probabilities"
      ],
      "metadata": {
        "colab": {
          "base_uri": "https://localhost:8080/"
        },
        "id": "jewARb3qavXx",
        "outputId": "dff13e6e-483b-4ec7-b743-e57586aa2bf4"
      },
      "execution_count": null,
      "outputs": [
        {
          "output_type": "execute_result",
          "data": {
            "text/plain": [
              "tensor([4.4531e-07, 0.0000e+00, 0.0000e+00, 0.0000e+00, 0.0000e+00, 0.0000e+00,\n",
              "        0.0000e+00, 0.0000e+00, 0.0000e+00, 0.0000e+00, 8.1185e-06, 1.3470e-05,\n",
              "        2.4368e-07, 2.1236e-06, 1.3220e-06, 3.7722e-04, 6.9219e-03, 1.0237e-05,\n",
              "        4.3289e-06, 1.5143e-05, 3.2463e-07, 4.1933e-06, 1.6808e-04, 9.9179e-01,\n",
              "        8.6288e-06, 3.8557e-04, 5.9956e-06, 4.3725e-06, 5.8977e-07, 3.0929e-06,\n",
              "        3.8998e-06, 2.9493e-06, 2.1940e-04, 5.4713e-06, 7.1354e-06, 2.3212e-05,\n",
              "        5.2711e-06, 4.7788e-07, 2.4291e-07, 4.4467e-07, 1.4879e-08, 4.8133e-08,\n",
              "        3.7169e-07, 7.1242e-08, 3.1735e-07, 2.2365e-07, 1.3685e-06, 2.4093e-08,\n",
              "        1.1470e-08, 4.4891e-07, 2.2828e-08, 5.2562e-07, 5.8092e-07, 1.6419e-06,\n",
              "        1.4114e-08, 2.0591e-07, 2.0161e-08, 2.5390e-07, 2.3251e-08, 1.4667e-08,\n",
              "        5.4532e-08, 2.4235e-08, 5.5390e-09, 1.8524e-08, 3.6818e-08, 3.4721e-08,\n",
              "        0.0000e+00], grad_fn=<SelectBackward0>)"
            ]
          },
          "metadata": {},
          "execution_count": 15
        }
      ]
    },
    {
      "cell_type": "markdown",
      "source": [
        "At this stage, we could take the `argmax` of the start and end probabilities — but we might end up with a start index that is greater than the end index, so we need to take a few more precautions.\n",
        "\n",
        "We will compute the **probabilities** of each possible `start_index` and `end_index` where `start_index <= end_index`, then take the tuple `(start_index, end_index)` with the ***highest probability***."
      ],
      "metadata": {
        "id": "CZTagHpEZkVc"
      }
    },
    {
      "cell_type": "markdown",
      "source": [
        "Assuming the events **“The answer starts at `start_index”`** and **“The answer ends at `end_index”`** to be independent, the probability that the answer starts at `start_index` and ends at `end_index` is:\n",
        "\n",
        "**`start_probabilities[start_index] × end_probabilities[end_index]`**\n",
        "\n"
      ],
      "metadata": {
        "id": "hXWGJkEmZ2NG"
      }
    },
    {
      "cell_type": "markdown",
      "source": [
        "So, to compute all the scores, we just need to compute all the products **`start_probabilities[start_index] × end_probabilities[end_index]`** where `start_index <= end_index`"
      ],
      "metadata": {
        "id": "E9wn-bNKadZ4"
      }
    },
    {
      "cell_type": "code",
      "source": [
        "# compute al the possible products -- flatten\n",
        "scores = start_probabilities[:, None] * end_probabilities[None, :]"
      ],
      "metadata": {
        "id": "6g6SuM8Earsr"
      },
      "execution_count": null,
      "outputs": []
    },
    {
      "cell_type": "markdown",
      "source": [
        "Then we’ll mask the values where `start_index > end_index` by setting them to `0` (the other probabilities are all positive numbers). The `torch.triu()` function returns the upper triangular part of the 2D tensor passed as an argument."
      ],
      "metadata": {
        "id": "VSL3wb7wbBA2"
      }
    },
    {
      "cell_type": "markdown",
      "source": [
        "Now we just have to **get the index of the maximum**. Since PyTorch will return the index in the flattened tensor, we need to use the floor division `//` and modulus `%` operations to get the `start_index and end_index`"
      ],
      "metadata": {
        "id": "_e9H2839bgOP"
      }
    },
    {
      "cell_type": "code",
      "source": [
        "max_index = scores.argmax().item()\n",
        "start_index = max_index // scores.shape[1] # 23\n",
        "end_index = max_index % scores.shape[1] # 35\n",
        "print(scores[start_index, end_index])"
      ],
      "metadata": {
        "colab": {
          "base_uri": "https://localhost:8080/"
        },
        "id": "VPXVRXtPbljA",
        "outputId": "e9f41b1a-d19b-4d50-d887-7898a8d31909"
      },
      "execution_count": null,
      "outputs": [
        {
          "output_type": "stream",
          "name": "stdout",
          "text": [
            "tensor(0.9803, grad_fn=<SelectBackward0>)\n"
          ]
        }
      ]
    },
    {
      "cell_type": "markdown",
      "source": [
        "We have the `start_index` and `end_index` of the answer in terms of tokens, so now we just need to **convert to the character indices in the context**. This is where the `offsets` will be super useful. We can grab them and use them like we did in the token classification task"
      ],
      "metadata": {
        "id": "NKed16CTeZkz"
      }
    },
    {
      "cell_type": "code",
      "source": [
        "inputs_with_offsets = tokenizer(question, context, return_offsets_mapping=True)\n",
        "offsets = inputs_with_offsets[\"offset_mapping\"]\n",
        "\n",
        "start_char, _ = offsets[start_index]\n",
        "_, end_char = offsets[end_index]\n",
        "answer = context[start_char:end_char]"
      ],
      "metadata": {
        "id": "JqU7Cd2FfH_n"
      },
      "execution_count": null,
      "outputs": []
    },
    {
      "cell_type": "code",
      "source": [
        "result = {\n",
        "    \"answer\": answer,\n",
        "    \"start\": start_char,\n",
        "    \"end\": end_char,\n",
        "    \"score\": scores[start_index, end_index],\n",
        "}\n",
        "\n",
        "print(result)"
      ],
      "metadata": {
        "colab": {
          "base_uri": "https://localhost:8080/"
        },
        "id": "7qUYa-RSfOXC",
        "outputId": "c3fab179-3b4c-4a97-d120-fc5c02a773fe"
      },
      "execution_count": null,
      "outputs": [
        {
          "output_type": "stream",
          "name": "stdout",
          "text": [
            "{'answer': 'Jax, PyTorch, and TensorFlow', 'start': 78, 'end': 106, 'score': tensor(0.9803, grad_fn=<SelectBackward0>)}\n"
          ]
        }
      ]
    },
    {
      "cell_type": "markdown",
      "source": [
        "### **Handling long contexts**\n",
        "If we try to tokenize the question and long context we used as an example previously, we’ll get a **number of tokens *higher* than the maximum length** used in the `question-answering` pipeline (which is `384`)"
      ],
      "metadata": {
        "id": "j1Ifz5gTNFZ7"
      }
    },
    {
      "cell_type": "code",
      "source": [
        "inputs = tokenizer(question, long_context)\n",
        "print(len(inputs[\"input_ids\"]))"
      ],
      "metadata": {
        "colab": {
          "base_uri": "https://localhost:8080/"
        },
        "id": "ASHj1OsaxnWU",
        "outputId": "9aaa8a84-2ebc-4329-c346-d0d346384b3e"
      },
      "execution_count": null,
      "outputs": [
        {
          "output_type": "stream",
          "name": "stdout",
          "text": [
            "461\n"
          ]
        }
      ]
    },
    {
      "cell_type": "markdown",
      "source": [
        "So, we’ll need to **truncate our inputs at that maximum length**. There are several ways we can do this, but we *don’t want to truncate the question, only the context*.\n",
        "\n",
        "Since the context is the second sentence, we’ll use the `\"only_second\"` truncation strategy. The problem that arises then is that the answer to the question may not be in the truncated context. Here, for instance, we picked a question where the answer is toward the end of the context, and when we truncate it that answer is not present"
      ],
      "metadata": {
        "id": "Au2hNEKCx0QT"
      }
    },
    {
      "cell_type": "code",
      "source": [
        "inputs = tokenizer(question, long_context, max_length=384, truncation=\"only_second\")\n",
        "print(tokenizer.decode(inputs[\"input_ids\"]))"
      ],
      "metadata": {
        "colab": {
          "base_uri": "https://localhost:8080/"
        },
        "id": "LY9Oz0QXyA-t",
        "outputId": "0b8ef325-9a10-4992-ecb3-4c320dcbaa86"
      },
      "execution_count": null,
      "outputs": [
        {
          "output_type": "stream",
          "name": "stdout",
          "text": [
            "[CLS] Which deep learning libraries back [UNK] Transformers? [SEP] [UNK] Transformers : State of the Art NLP [UNK] Transformers provides thousands of pretrained models to perform tasks on texts such as classification, information extraction, question answering, summarization, translation, text generation and more in over 100 languages. Its aim is to make cutting - edge NLP easier to use for everyone. [UNK] Transformers provides APIs to quickly download and use those pretrained models on a given text, fine - tune them on your own datasets and then share them with the community on our model hub. At the same time, each python module defining an architecture is fully standalone and can be modified to enable quick research experiments. Why should I use transformers? 1. Easy - to - use state - of - the - art models : - High performance on NLU and NLG tasks. - Low barrier to entry for educators and practitioners. - Few user - facing abstractions with just three classes to learn. - A unified API for using all our pretrained models. - Lower compute costs, smaller carbon footprint : 2. Researchers can share trained models instead of always retraining. - Practitioners can reduce compute time and production costs. - Dozens of architectures with over 10, 000 pretrained models, some in more than 100 languages. 3. Choose the right framework for every part of a model's lifetime : - Train state - of - the - art models in 3 lines of code. - Move a single model between TF2. 0 / PyTorch frameworks at will. - Seamlessly pick the right framework for training, evaluation and production. 4. Easily customize a model or an example to your needs : - We provide examples for each architecture to reproduce the results published by its original authors. - Model internal [SEP]\n"
          ]
        }
      ]
    },
    {
      "cell_type": "markdown",
      "source": [
        "This means the model will have a hard time picking the correct answer. To fix this, the `question-answering` pipeline allows us to **split the context into smaller chunks, specifying the maximum length**. To make sure we don’t split the context at exactly the wrong place to make it possible to find the answer, it also includes some overlap between the chunks."
      ],
      "metadata": {
        "id": "yt1cxEQXyRcq"
      }
    },
    {
      "cell_type": "markdown",
      "source": [
        "We can have the tokenizer (fast or slow) do this for us by adding `return_overflowing_tokens=True`, and we can specify the *overlap* we want with the `stride` argument"
      ],
      "metadata": {
        "id": "StmXQ-OB0MDB"
      }
    },
    {
      "cell_type": "code",
      "source": [
        "sentence = \"This sentence is not too long but we are going to split it anyway.\"\n",
        "inputs = tokenizer(\n",
        "    sentence, truncation=True, return_overflowing_tokens=True, max_length=6, stride=2\n",
        ")\n",
        "\n",
        "for ids in inputs[\"input_ids\"]:\n",
        "    print(tokenizer.decode(ids))"
      ],
      "metadata": {
        "colab": {
          "base_uri": "https://localhost:8080/"
        },
        "id": "KZmOk6Tn0QTY",
        "outputId": "ddd6f2a2-d564-4346-c958-49f637bc965f"
      },
      "execution_count": null,
      "outputs": [
        {
          "output_type": "stream",
          "name": "stdout",
          "text": [
            "[CLS] This sentence is not [SEP]\n",
            "[CLS] is not too long [SEP]\n",
            "[CLS] too long but we [SEP]\n",
            "[CLS] but we are going [SEP]\n",
            "[CLS] are going to split [SEP]\n",
            "[CLS] to split it anyway [SEP]\n",
            "[CLS] it anyway. [SEP]\n"
          ]
        }
      ]
    },
    {
      "cell_type": "markdown",
      "source": [
        "As we can see, the sentence has been split into chunks in such a way that each entry in `inputs[\"input_ids\"]` has at most 6 tokens (we would need to add padding to have the last entry be the same size as the others) and there is an overlap of 2 tokens between each of the entries."
      ],
      "metadata": {
        "id": "yrcSr3-_1Son"
      }
    },
    {
      "cell_type": "code",
      "source": [
        "print(inputs.keys())"
      ],
      "metadata": {
        "colab": {
          "base_uri": "https://localhost:8080/"
        },
        "id": "e4XvQMdY1W0N",
        "outputId": "f479f1e1-c47a-4769-f071-c35d1261b714"
      },
      "execution_count": null,
      "outputs": [
        {
          "output_type": "stream",
          "name": "stdout",
          "text": [
            "dict_keys(['input_ids', 'attention_mask', 'overflow_to_sample_mapping'])\n"
          ]
        }
      ]
    },
    {
      "cell_type": "code",
      "source": [
        "inputs"
      ],
      "metadata": {
        "colab": {
          "base_uri": "https://localhost:8080/"
        },
        "id": "E0j2Dmoh1w3O",
        "outputId": "a6aa8f6f-7936-40d7-a3eb-2b977dd280a4"
      },
      "execution_count": null,
      "outputs": [
        {
          "output_type": "execute_result",
          "data": {
            "text/plain": [
              "{'input_ids': [[101, 1188, 5650, 1110, 1136, 102], [101, 1110, 1136, 1315, 1263, 102], [101, 1315, 1263, 1133, 1195, 102], [101, 1133, 1195, 1132, 1280, 102], [101, 1132, 1280, 1106, 3325, 102], [101, 1106, 3325, 1122, 4050, 102], [101, 1122, 4050, 119, 102]], 'attention_mask': [[1, 1, 1, 1, 1, 1], [1, 1, 1, 1, 1, 1], [1, 1, 1, 1, 1, 1], [1, 1, 1, 1, 1, 1], [1, 1, 1, 1, 1, 1], [1, 1, 1, 1, 1, 1], [1, 1, 1, 1, 1]], 'overflow_to_sample_mapping': [0, 0, 0, 0, 0, 0, 0]}"
            ]
          },
          "metadata": {},
          "execution_count": 144
        }
      ]
    },
    {
      "cell_type": "markdown",
      "source": [
        "As expected, we get input `IDs` and an `attention mask`. The last key, `overflow_to_sample_mapping`, is a map that tells us **which sentence each of the results corresponds to** — here we have 7 results that all come from the (only) sentence we passed the tokenizer."
      ],
      "metadata": {
        "id": "2jXOLL1B1qxB"
      }
    },
    {
      "cell_type": "code",
      "source": [
        "print(inputs[\"overflow_to_sample_mapping\"])"
      ],
      "metadata": {
        "colab": {
          "base_uri": "https://localhost:8080/"
        },
        "id": "cteR53gM1qfc",
        "outputId": "39ebfd4f-89d3-4737-eb5e-9fdde086b14f"
      },
      "execution_count": null,
      "outputs": [
        {
          "output_type": "stream",
          "name": "stdout",
          "text": [
            "[0, 0, 0, 0, 0, 0, 0]\n"
          ]
        }
      ]
    },
    {
      "cell_type": "markdown",
      "source": [
        "Severla sentences to tokenize"
      ],
      "metadata": {
        "id": "snlcJN1l1zoG"
      }
    },
    {
      "cell_type": "code",
      "source": [
        "sentences = [\n",
        "    \"This sentence is not too long but we are going to split it anyway.\",\n",
        "    \"This sentence is shorter but will still get split.\",\n",
        "]\n",
        "\n",
        "inputs = tokenizer(\n",
        "    sentences, truncation=True, return_overflowing_tokens=True, max_length=6, stride=2\n",
        ")\n",
        "\n",
        "print(inputs[\"overflow_to_sample_mapping\"])"
      ],
      "metadata": {
        "colab": {
          "base_uri": "https://localhost:8080/"
        },
        "id": "9zbWHV7n13Wf",
        "outputId": "7315ba79-5520-49ee-a7b1-8e38eb603049"
      },
      "execution_count": null,
      "outputs": [
        {
          "output_type": "stream",
          "name": "stdout",
          "text": [
            "[0, 0, 0, 0, 0, 0, 0, 1, 1, 1, 1]\n"
          ]
        }
      ]
    },
    {
      "cell_type": "markdown",
      "source": [
        "which means the first sentence is split into 7 chunks as before, and the next 4 chunks come from the second sentence."
      ],
      "metadata": {
        "id": "ndpieHE72DhW"
      }
    },
    {
      "cell_type": "markdown",
      "source": [
        "Now let’s go back to our long context. By default the `question-answering` pipeline uses a **maximum length of 384**, as we mentioned earlier, and a **stride of 128**, which correspond to the way the model was fine-tuned (you can adjust those parameters by passing `max_seq_len` and `stride` arguments when calling the pipeline). We will thus use those parameters when tokenizing. We’ll also add padding (to have samples of the same length, so we can build tensors) as well as ask for the offsets:"
      ],
      "metadata": {
        "id": "mtfoVZkQ2NED"
      }
    },
    {
      "cell_type": "code",
      "source": [
        "inputs = tokenizer(\n",
        "    question,\n",
        "    long_context,\n",
        "    stride=128,\n",
        "    max_length=384,\n",
        "    padding=\"longest\",\n",
        "    truncation=\"only_second\",\n",
        "    return_overflowing_tokens=True,\n",
        "    return_offsets_mapping=True,\n",
        ")"
      ],
      "metadata": {
        "id": "vswoE6WZ2YDL"
      },
      "execution_count": null,
      "outputs": []
    },
    {
      "cell_type": "code",
      "source": [
        "inputs"
      ],
      "metadata": {
        "collapsed": true,
        "colab": {
          "base_uri": "https://localhost:8080/"
        },
        "id": "euZ-28c62dme",
        "outputId": "216ce22c-32e6-4b2e-b39d-17fd7612cb1b"
      },
      "execution_count": null,
      "outputs": [
        {
          "output_type": "execute_result",
          "data": {
            "text/plain": [
              "{'input_ids': [[101, 5979, 1996, 3776, 9818, 1171, 100, 25267, 136, 102, 100, 25267, 131, 1426, 1104, 1103, 2051, 21239, 2101, 100, 25267, 2790, 4674, 1104, 3073, 4487, 9044, 3584, 1106, 3870, 8249, 1113, 6685, 1216, 1112, 5393, 117, 1869, 16026, 117, 2304, 10937, 117, 7584, 7317, 2734, 117, 5179, 117, 3087, 3964, 1105, 1167, 1107, 1166, 1620, 3483, 119, 2098, 6457, 1110, 1106, 1294, 5910, 118, 2652, 21239, 2101, 5477, 1106, 1329, 1111, 2490, 119, 100, 25267, 2790, 20480, 1116, 1106, 1976, 9133, 1105, 1329, 1343, 3073, 4487, 9044, 3584, 1113, 170, 1549, 3087, 117, 2503, 118, 9253, 1172, 1113, 1240, 1319, 2233, 27948, 1105, 1173, 2934, 1172, 1114, 1103, 1661, 1113, 1412, 2235, 10960, 119, 1335, 1103, 1269, 1159, 117, 1296, 185, 25669, 8613, 13196, 13682, 1126, 4220, 1110, 3106, 2484, 20717, 1673, 1105, 1169, 1129, 5847, 1106, 9396, 3613, 1844, 7857, 119, 2009, 1431, 146, 1329, 11303, 1468, 136, 122, 119, 12167, 118, 1106, 118, 1329, 1352, 118, 1104, 118, 1103, 118, 1893, 3584, 131, 118, 1693, 2099, 1113, 21239, 2591, 1105, 21239, 2349, 8249, 119, 118, 8274, 9391, 1106, 3990, 1111, 24937, 1105, 16681, 119, 118, 17751, 4795, 118, 4749, 11108, 5266, 1114, 1198, 1210, 3553, 1106, 3858, 119, 118, 138, 13943, 20480, 1111, 1606, 1155, 1412, 3073, 4487, 9044, 3584, 119, 118, 5738, 3254, 22662, 4692, 117, 2964, 6302, 2555, 10988, 131, 123, 119, 26982, 1169, 2934, 3972, 3584, 1939, 1104, 1579, 1231, 4487, 16534, 119, 118, 153, 19366, 3121, 2116, 1468, 1169, 4851, 3254, 22662, 1159, 1105, 1707, 4692, 119, 118, 2091, 10947, 1116, 1104, 4220, 1116, 1114, 1166, 1275, 117, 1288, 3073, 4487, 9044, 3584, 117, 1199, 1107, 1167, 1190, 1620, 3483, 119, 124, 119, 22964, 6787, 1103, 1268, 8297, 1111, 1451, 1226, 1104, 170, 2235, 112, 188, 7218, 131, 118, 9791, 1352, 118, 1104, 118, 1103, 118, 1893, 3584, 1107, 124, 2442, 1104, 3463, 119, 118, 15729, 170, 1423, 2235, 1206, 157, 2271, 1477, 119, 121, 120, 153, 1183, 1942, 1766, 1732, 8297, 1116, 1120, 1209, 119, 118, 3017, 1306, 8709, 3368, 1103, 1268, 8297, 1111, 2013, 117, 10540, 1105, 1707, 119, 125, 119, 142, 20158, 8156, 3708, 170, 2235, 1137, 1126, 1859, 1106, 1240, 2993, 131, 118, 1284, 2194, 5136, 1111, 1296, 4220, 1106, 23577, 1103, 2686, 1502, 1118, 1157, 1560, 5752, 119, 118, 6747, 4422, 102], [101, 5979, 1996, 3776, 9818, 1171, 100, 25267, 136, 102, 2091, 10947, 1116, 1104, 4220, 1116, 1114, 1166, 1275, 117, 1288, 3073, 4487, 9044, 3584, 117, 1199, 1107, 1167, 1190, 1620, 3483, 119, 124, 119, 22964, 6787, 1103, 1268, 8297, 1111, 1451, 1226, 1104, 170, 2235, 112, 188, 7218, 131, 118, 9791, 1352, 118, 1104, 118, 1103, 118, 1893, 3584, 1107, 124, 2442, 1104, 3463, 119, 118, 15729, 170, 1423, 2235, 1206, 157, 2271, 1477, 119, 121, 120, 153, 1183, 1942, 1766, 1732, 8297, 1116, 1120, 1209, 119, 118, 3017, 1306, 8709, 3368, 1103, 1268, 8297, 1111, 2013, 117, 10540, 1105, 1707, 119, 125, 119, 142, 20158, 8156, 3708, 170, 2235, 1137, 1126, 1859, 1106, 1240, 2993, 131, 118, 1284, 2194, 5136, 1111, 1296, 4220, 1106, 23577, 1103, 2686, 1502, 1118, 1157, 1560, 5752, 119, 118, 6747, 4422, 1116, 1132, 5490, 1112, 10887, 1112, 1936, 119, 118, 6747, 7004, 1169, 1129, 1215, 8942, 1104, 1103, 3340, 1111, 3613, 7857, 119, 100, 25267, 1110, 5534, 1118, 1103, 1210, 1211, 1927, 1996, 3776, 9818, 783, 13612, 117, 153, 1183, 1942, 1766, 1732, 1105, 5157, 21484, 2271, 6737, 783, 1114, 170, 2343, 1306, 2008, 9111, 1206, 1172, 119, 1135, 112, 188, 21546, 1106, 2669, 1240, 3584, 1114, 1141, 1196, 10745, 1172, 1111, 1107, 16792, 1114, 1103, 1168, 119, 102, 0, 0, 0, 0, 0, 0, 0, 0, 0, 0, 0, 0, 0, 0, 0, 0, 0, 0, 0, 0, 0, 0, 0, 0, 0, 0, 0, 0, 0, 0, 0, 0, 0, 0, 0, 0, 0, 0, 0, 0, 0, 0, 0, 0, 0, 0, 0, 0, 0, 0, 0, 0, 0, 0, 0, 0, 0, 0, 0, 0, 0, 0, 0, 0, 0, 0, 0, 0, 0, 0, 0, 0, 0, 0, 0, 0, 0, 0, 0, 0, 0, 0, 0, 0, 0, 0, 0, 0, 0, 0, 0, 0, 0, 0, 0, 0, 0, 0, 0, 0, 0, 0, 0, 0, 0, 0, 0, 0, 0, 0, 0, 0, 0, 0, 0, 0, 0, 0, 0, 0, 0, 0, 0, 0, 0, 0, 0, 0, 0, 0, 0, 0, 0, 0, 0, 0, 0, 0, 0, 0, 0, 0, 0, 0, 0, 0, 0, 0, 0, 0, 0, 0, 0, 0, 0, 0, 0, 0, 0, 0, 0, 0, 0, 0, 0, 0, 0, 0]], 'attention_mask': [[1, 1, 1, 1, 1, 1, 1, 1, 1, 1, 1, 1, 1, 1, 1, 1, 1, 1, 1, 1, 1, 1, 1, 1, 1, 1, 1, 1, 1, 1, 1, 1, 1, 1, 1, 1, 1, 1, 1, 1, 1, 1, 1, 1, 1, 1, 1, 1, 1, 1, 1, 1, 1, 1, 1, 1, 1, 1, 1, 1, 1, 1, 1, 1, 1, 1, 1, 1, 1, 1, 1, 1, 1, 1, 1, 1, 1, 1, 1, 1, 1, 1, 1, 1, 1, 1, 1, 1, 1, 1, 1, 1, 1, 1, 1, 1, 1, 1, 1, 1, 1, 1, 1, 1, 1, 1, 1, 1, 1, 1, 1, 1, 1, 1, 1, 1, 1, 1, 1, 1, 1, 1, 1, 1, 1, 1, 1, 1, 1, 1, 1, 1, 1, 1, 1, 1, 1, 1, 1, 1, 1, 1, 1, 1, 1, 1, 1, 1, 1, 1, 1, 1, 1, 1, 1, 1, 1, 1, 1, 1, 1, 1, 1, 1, 1, 1, 1, 1, 1, 1, 1, 1, 1, 1, 1, 1, 1, 1, 1, 1, 1, 1, 1, 1, 1, 1, 1, 1, 1, 1, 1, 1, 1, 1, 1, 1, 1, 1, 1, 1, 1, 1, 1, 1, 1, 1, 1, 1, 1, 1, 1, 1, 1, 1, 1, 1, 1, 1, 1, 1, 1, 1, 1, 1, 1, 1, 1, 1, 1, 1, 1, 1, 1, 1, 1, 1, 1, 1, 1, 1, 1, 1, 1, 1, 1, 1, 1, 1, 1, 1, 1, 1, 1, 1, 1, 1, 1, 1, 1, 1, 1, 1, 1, 1, 1, 1, 1, 1, 1, 1, 1, 1, 1, 1, 1, 1, 1, 1, 1, 1, 1, 1, 1, 1, 1, 1, 1, 1, 1, 1, 1, 1, 1, 1, 1, 1, 1, 1, 1, 1, 1, 1, 1, 1, 1, 1, 1, 1, 1, 1, 1, 1, 1, 1, 1, 1, 1, 1, 1, 1, 1, 1, 1, 1, 1, 1, 1, 1, 1, 1, 1, 1, 1, 1, 1, 1, 1, 1, 1, 1, 1, 1, 1, 1, 1, 1, 1, 1, 1, 1, 1, 1, 1, 1, 1, 1, 1, 1, 1, 1, 1, 1, 1, 1, 1, 1, 1, 1, 1, 1, 1, 1, 1, 1, 1, 1, 1, 1, 1, 1, 1, 1, 1, 1], [1, 1, 1, 1, 1, 1, 1, 1, 1, 1, 1, 1, 1, 1, 1, 1, 1, 1, 1, 1, 1, 1, 1, 1, 1, 1, 1, 1, 1, 1, 1, 1, 1, 1, 1, 1, 1, 1, 1, 1, 1, 1, 1, 1, 1, 1, 1, 1, 1, 1, 1, 1, 1, 1, 1, 1, 1, 1, 1, 1, 1, 1, 1, 1, 1, 1, 1, 1, 1, 1, 1, 1, 1, 1, 1, 1, 1, 1, 1, 1, 1, 1, 1, 1, 1, 1, 1, 1, 1, 1, 1, 1, 1, 1, 1, 1, 1, 1, 1, 1, 1, 1, 1, 1, 1, 1, 1, 1, 1, 1, 1, 1, 1, 1, 1, 1, 1, 1, 1, 1, 1, 1, 1, 1, 1, 1, 1, 1, 1, 1, 1, 1, 1, 1, 1, 1, 1, 1, 1, 1, 1, 1, 1, 1, 1, 1, 1, 1, 1, 1, 1, 1, 1, 1, 1, 1, 1, 1, 1, 1, 1, 1, 1, 1, 1, 1, 1, 1, 1, 1, 1, 1, 1, 1, 1, 1, 1, 1, 1, 1, 1, 1, 1, 1, 1, 1, 1, 1, 1, 1, 1, 1, 1, 1, 1, 1, 1, 1, 1, 1, 1, 1, 1, 1, 1, 1, 1, 1, 1, 1, 1, 1, 1, 1, 1, 1, 0, 0, 0, 0, 0, 0, 0, 0, 0, 0, 0, 0, 0, 0, 0, 0, 0, 0, 0, 0, 0, 0, 0, 0, 0, 0, 0, 0, 0, 0, 0, 0, 0, 0, 0, 0, 0, 0, 0, 0, 0, 0, 0, 0, 0, 0, 0, 0, 0, 0, 0, 0, 0, 0, 0, 0, 0, 0, 0, 0, 0, 0, 0, 0, 0, 0, 0, 0, 0, 0, 0, 0, 0, 0, 0, 0, 0, 0, 0, 0, 0, 0, 0, 0, 0, 0, 0, 0, 0, 0, 0, 0, 0, 0, 0, 0, 0, 0, 0, 0, 0, 0, 0, 0, 0, 0, 0, 0, 0, 0, 0, 0, 0, 0, 0, 0, 0, 0, 0, 0, 0, 0, 0, 0, 0, 0, 0, 0, 0, 0, 0, 0, 0, 0, 0, 0, 0, 0, 0, 0, 0, 0, 0, 0, 0, 0, 0, 0, 0, 0, 0, 0, 0, 0, 0, 0, 0, 0, 0, 0, 0, 0, 0, 0, 0, 0, 0, 0]], 'offset_mapping': [[(0, 0), (0, 5), (6, 10), (11, 19), (20, 29), (30, 34), (35, 36), (37, 49), (49, 50), (0, 0), (1, 2), (3, 15), (15, 16), (17, 22), (23, 25), (26, 29), (30, 33), (34, 36), (36, 37), (39, 40), (41, 53), (54, 62), (63, 72), (73, 75), (76, 79), (79, 82), (82, 86), (87, 93), (94, 96), (97, 104), (105, 110), (111, 113), (114, 119), (120, 124), (125, 127), (128, 142), (142, 143), (144, 155), (156, 166), (166, 167), (168, 176), (177, 186), (186, 187), (188, 191), (191, 194), (194, 201), (201, 202), (203, 214), (214, 215), (216, 220), (221, 231), (232, 235), (236, 240), (241, 243), (244, 248), (249, 252), (253, 262), (262, 263), (264, 267), (268, 271), (272, 274), (275, 277), (278, 282), (283, 290), (290, 291), (291, 295), (296, 298), (298, 299), (300, 306), (307, 309), (310, 313), (314, 317), (318, 326), (326, 327), (329, 330), (331, 343), (344, 352), (353, 356), (356, 357), (358, 360), (361, 368), (369, 377), (378, 381), (382, 385), (386, 391), (392, 395), (395, 398), (398, 402), (403, 409), (410, 412), (413, 414), (415, 420), (421, 425), (425, 426), (427, 431), (431, 432), (432, 436), (437, 441), (442, 444), (445, 449), (450, 453), (454, 458), (458, 462), (463, 466), (467, 471), (472, 477), (478, 482), (483, 487), (488, 491), (492, 501), (502, 504), (505, 508), (509, 514), (515, 518), (518, 519), (520, 522), (523, 526), (527, 531), (532, 536), (536, 537), (538, 542), (543, 544), (544, 546), (546, 549), (550, 556), (557, 565), (566, 568), (569, 581), (582, 584), (585, 590), (591, 596), (596, 599), (599, 601), (602, 605), (606, 609), (610, 612), (613, 621), (622, 624), (625, 631), (632, 637), (638, 646), (647, 658), (658, 659), (661, 664), (665, 671), (672, 673), (674, 677), (678, 687), (687, 690), (690, 691), (693, 694), (694, 695), (696, 700), (700, 701), (701, 703), (703, 704), (704, 707), (708, 713), (713, 714), (714, 716), (716, 717), (717, 720), (720, 721), (721, 724), (725, 731), (731, 732), (735, 736), (737, 741), (742, 753), (754, 756), (757, 759), (759, 760), (761, 764), (765, 767), (767, 768), (769, 774), (774, 775), (778, 779), (780, 783), (784, 791), (792, 794), (795, 800), (801, 804), (805, 814), (815, 818), (819, 832), (832, 833), (836, 837), (838, 841), (842, 846), (846, 847), (847, 853), (854, 862), (862, 866), (867, 871), (872, 876), (877, 882), (883, 890), (891, 893), (894, 899), (899, 900), (903, 904), (905, 906), (907, 914), (915, 918), (919, 922), (923, 928), (929, 932), (933, 936), (937, 940), (940, 943), (943, 947), (948, 954), (954, 955), (958, 959), (960, 965), (966, 969), (969, 973), (974, 979), (979, 980), (981, 988), (989, 995), (996, 1000), (1000, 1005), (1005, 1006), (1008, 1009), (1009, 1010), (1011, 1022), (1023, 1026), (1027, 1032), (1033, 1040), (1041, 1047), (1048, 1055), (1056, 1058), (1059, 1065), (1066, 1068), (1068, 1071), (1071, 1076), (1076, 1077), (1080, 1081), (1082, 1083), (1083, 1086), (1086, 1088), (1088, 1092), (1092, 1095), (1096, 1099), (1100, 1106), (1107, 1110), (1110, 1114), (1115, 1119), (1120, 1123), (1124, 1134), (1135, 1140), (1140, 1141), (1144, 1145), (1146, 1148), (1148, 1151), (1151, 1152), (1153, 1155), (1156, 1168), (1168, 1169), (1170, 1174), (1175, 1179), (1180, 1182), (1182, 1183), (1183, 1186), (1187, 1190), (1190, 1193), (1193, 1197), (1198, 1204), (1204, 1205), (1206, 1210), (1211, 1213), (1214, 1218), (1219, 1223), (1224, 1227), (1228, 1237), (1237, 1238), (1240, 1241), (1241, 1242), (1243, 1246), (1246, 1249), (1250, 1253), (1254, 1259), (1260, 1269), (1270, 1273), (1274, 1279), (1280, 1284), (1285, 1287), (1288, 1289), (1290, 1295), (1295, 1296), (1296, 1297), (1298, 1306), (1306, 1307), (1310, 1311), (1312, 1317), (1318, 1323), (1323, 1324), (1324, 1326), (1326, 1327), (1327, 1330), (1330, 1331), (1331, 1334), (1335, 1341), (1342, 1344), (1345, 1346), (1347, 1352), (1353, 1355), (1356, 1360), (1360, 1361), (1364, 1365), (1366, 1370), (1371, 1372), (1373, 1379), (1380, 1385), (1386, 1393), (1394, 1395), (1395, 1396), (1396, 1397), (1397, 1398), (1398, 1399), (1399, 1400), (1400, 1401), (1401, 1402), (1402, 1403), (1403, 1405), (1405, 1407), (1408, 1417), (1417, 1418), (1419, 1421), (1422, 1426), (1426, 1427), (1430, 1431), (1432, 1435), (1435, 1436), (1436, 1442), (1443, 1447), (1448, 1451), (1452, 1457), (1458, 1467), (1468, 1471), (1472, 1480), (1480, 1481), (1482, 1492), (1493, 1496), (1497, 1507), (1507, 1508), (1510, 1511), (1511, 1512), (1513, 1514), (1514, 1519), (1520, 1526), (1526, 1529), (1530, 1531), (1532, 1537), (1538, 1540), (1541, 1543), (1544, 1551), (1552, 1554), (1555, 1559), (1560, 1565), (1565, 1566), (1569, 1570), (1571, 1573), (1574, 1581), (1582, 1590), (1591, 1594), (1595, 1599), (1600, 1612), (1613, 1615), (1616, 1625), (1626, 1629), (1630, 1637), (1638, 1647), (1648, 1650), (1651, 1654), (1655, 1663), (1664, 1671), (1671, 1672), (1675, 1676), (1677, 1682), (1683, 1691), (0, 0)], [(0, 0), (0, 5), (6, 10), (11, 19), (20, 29), (30, 34), (35, 36), (37, 49), (49, 50), (0, 0), (1146, 1148), (1148, 1151), (1151, 1152), (1153, 1155), (1156, 1168), (1168, 1169), (1170, 1174), (1175, 1179), (1180, 1182), (1182, 1183), (1183, 1186), (1187, 1190), (1190, 1193), (1193, 1197), (1198, 1204), (1204, 1205), (1206, 1210), (1211, 1213), (1214, 1218), (1219, 1223), (1224, 1227), (1228, 1237), (1237, 1238), (1240, 1241), (1241, 1242), (1243, 1246), (1246, 1249), (1250, 1253), (1254, 1259), (1260, 1269), (1270, 1273), (1274, 1279), (1280, 1284), (1285, 1287), (1288, 1289), (1290, 1295), (1295, 1296), (1296, 1297), (1298, 1306), (1306, 1307), (1310, 1311), (1312, 1317), (1318, 1323), (1323, 1324), (1324, 1326), (1326, 1327), (1327, 1330), (1330, 1331), (1331, 1334), (1335, 1341), (1342, 1344), (1345, 1346), (1347, 1352), (1353, 1355), (1356, 1360), (1360, 1361), (1364, 1365), (1366, 1370), (1371, 1372), (1373, 1379), (1380, 1385), (1386, 1393), (1394, 1395), (1395, 1396), (1396, 1397), (1397, 1398), (1398, 1399), (1399, 1400), (1400, 1401), (1401, 1402), (1402, 1403), (1403, 1405), (1405, 1407), (1408, 1417), (1417, 1418), (1419, 1421), (1422, 1426), (1426, 1427), (1430, 1431), (1432, 1435), (1435, 1436), (1436, 1442), (1443, 1447), (1448, 1451), (1452, 1457), (1458, 1467), (1468, 1471), (1472, 1480), (1480, 1481), (1482, 1492), (1493, 1496), (1497, 1507), (1507, 1508), (1510, 1511), (1511, 1512), (1513, 1514), (1514, 1519), (1520, 1526), (1526, 1529), (1530, 1531), (1532, 1537), (1538, 1540), (1541, 1543), (1544, 1551), (1552, 1554), (1555, 1559), (1560, 1565), (1565, 1566), (1569, 1570), (1571, 1573), (1574, 1581), (1582, 1590), (1591, 1594), (1595, 1599), (1600, 1612), (1613, 1615), (1616, 1625), (1626, 1629), (1630, 1637), (1638, 1647), (1648, 1650), (1651, 1654), (1655, 1663), (1664, 1671), (1671, 1672), (1675, 1676), (1677, 1682), (1683, 1691), (1691, 1692), (1693, 1696), (1697, 1704), (1705, 1707), (1708, 1720), (1721, 1723), (1724, 1732), (1732, 1733), (1736, 1737), (1738, 1743), (1744, 1749), (1750, 1753), (1754, 1756), (1757, 1761), (1762, 1775), (1776, 1778), (1779, 1782), (1783, 1790), (1791, 1794), (1795, 1800), (1801, 1812), (1812, 1813), (1815, 1816), (1817, 1829), (1830, 1832), (1833, 1839), (1840, 1842), (1843, 1846), (1847, 1852), (1853, 1857), (1858, 1865), (1866, 1870), (1871, 1879), (1880, 1889), (1890, 1891), (1892, 1895), (1895, 1896), (1897, 1898), (1898, 1899), (1899, 1900), (1900, 1902), (1902, 1904), (1905, 1908), (1909, 1912), (1912, 1915), (1915, 1916), (1916, 1919), (1920, 1921), (1922, 1926), (1927, 1928), (1929, 1932), (1932, 1933), (1933, 1937), (1938, 1949), (1950, 1957), (1958, 1962), (1962, 1963), (1964, 1966), (1966, 1967), (1967, 1968), (1969, 1984), (1985, 1987), (1988, 1993), (1994, 1998), (1999, 2005), (2006, 2010), (2011, 2014), (2015, 2021), (2022, 2029), (2030, 2034), (2035, 2038), (2039, 2041), (2041, 2048), (2049, 2053), (2054, 2057), (2058, 2063), (2063, 2064), (0, 0), (0, 0), (0, 0), (0, 0), (0, 0), (0, 0), (0, 0), (0, 0), (0, 0), (0, 0), (0, 0), (0, 0), (0, 0), (0, 0), (0, 0), (0, 0), (0, 0), (0, 0), (0, 0), (0, 0), (0, 0), (0, 0), (0, 0), (0, 0), (0, 0), (0, 0), (0, 0), (0, 0), (0, 0), (0, 0), (0, 0), (0, 0), (0, 0), (0, 0), (0, 0), (0, 0), (0, 0), (0, 0), (0, 0), (0, 0), (0, 0), (0, 0), (0, 0), (0, 0), (0, 0), (0, 0), (0, 0), (0, 0), (0, 0), (0, 0), (0, 0), (0, 0), (0, 0), (0, 0), (0, 0), (0, 0), (0, 0), (0, 0), (0, 0), (0, 0), (0, 0), (0, 0), (0, 0), (0, 0), (0, 0), (0, 0), (0, 0), (0, 0), (0, 0), (0, 0), (0, 0), (0, 0), (0, 0), (0, 0), (0, 0), (0, 0), (0, 0), (0, 0), (0, 0), (0, 0), (0, 0), (0, 0), (0, 0), (0, 0), (0, 0), (0, 0), (0, 0), (0, 0), (0, 0), (0, 0), (0, 0), (0, 0), (0, 0), (0, 0), (0, 0), (0, 0), (0, 0), (0, 0), (0, 0), (0, 0), (0, 0), (0, 0), (0, 0), (0, 0), (0, 0), (0, 0), (0, 0), (0, 0), (0, 0), (0, 0), (0, 0), (0, 0), (0, 0), (0, 0), (0, 0), (0, 0), (0, 0), (0, 0), (0, 0), (0, 0), (0, 0), (0, 0), (0, 0), (0, 0), (0, 0), (0, 0), (0, 0), (0, 0), (0, 0), (0, 0), (0, 0), (0, 0), (0, 0), (0, 0), (0, 0), (0, 0), (0, 0), (0, 0), (0, 0), (0, 0), (0, 0), (0, 0), (0, 0), (0, 0), (0, 0), (0, 0), (0, 0), (0, 0), (0, 0), (0, 0), (0, 0), (0, 0), (0, 0), (0, 0), (0, 0), (0, 0), (0, 0), (0, 0), (0, 0), (0, 0), (0, 0), (0, 0), (0, 0), (0, 0), (0, 0), (0, 0), (0, 0), (0, 0), (0, 0)]], 'overflow_to_sample_mapping': [0, 0]}"
            ]
          },
          "metadata": {},
          "execution_count": 147
        }
      ]
    },
    {
      "cell_type": "markdown",
      "source": [
        "Those inputs contain the input `IDs` and `attention masks` the model expects, as well as the `offsets` and the `overflow_to_sample_mappin`g we just talked about. Since those two are not parameters used by the model, we’ll pop them out of the inputs (and we won’t store the map, since it’s not useful here) before converting it to a tensor"
      ],
      "metadata": {
        "id": "tXFQaW2G2oHY"
      }
    },
    {
      "cell_type": "code",
      "source": [
        "_ = inputs.pop(\"overflow_to_sample_mapping\")\n",
        "offsets = inputs.pop(\"offset_mapping\")\n",
        "\n",
        "inputs = inputs.convert_to_tensors(\"pt\")\n",
        "print(inputs[\"input_ids\"].shape)"
      ],
      "metadata": {
        "colab": {
          "base_uri": "https://localhost:8080/"
        },
        "id": "kGfzrQlR2tqX",
        "outputId": "cd0e9ced-4291-4033-f4ef-96eb8b2e0277"
      },
      "execution_count": null,
      "outputs": [
        {
          "output_type": "stream",
          "name": "stdout",
          "text": [
            "torch.Size([2, 384])\n"
          ]
        }
      ]
    },
    {
      "cell_type": "markdown",
      "source": [
        "Our long context was split in two, which means that after it goes through our model, we will have two sets of `start` and `end` logits:"
      ],
      "metadata": {
        "id": "Yee2-muv28lv"
      }
    },
    {
      "cell_type": "code",
      "source": [
        "outputs = model(**inputs)\n",
        "\n",
        "start_logits = outputs.start_logits\n",
        "end_logits = outputs.end_logits\n",
        "print(start_logits.shape, end_logits.shape)"
      ],
      "metadata": {
        "colab": {
          "base_uri": "https://localhost:8080/"
        },
        "id": "QZcd7CIA3A3J",
        "outputId": "60817ba5-a7eb-4f69-87da-407e76dd0c10"
      },
      "execution_count": null,
      "outputs": [
        {
          "output_type": "stream",
          "name": "stdout",
          "text": [
            "torch.Size([2, 384]) torch.Size([2, 384])\n"
          ]
        }
      ]
    },
    {
      "cell_type": "markdown",
      "source": [
        "Like before, we first **mask the tokens that are not part of the context before taking the `softmax`**. We also **mask all the padding tokens** (as flagged by the *attention mask*)"
      ],
      "metadata": {
        "id": "cY81Ef6a3QTV"
      }
    },
    {
      "cell_type": "code",
      "source": [
        "inputs.tokens()"
      ],
      "metadata": {
        "colab": {
          "base_uri": "https://localhost:8080/"
        },
        "id": "jUYZexkv3_i9",
        "outputId": "87af6587-28a2-4cbc-88ad-003f378759b0",
        "collapsed": true
      },
      "execution_count": null,
      "outputs": [
        {
          "output_type": "execute_result",
          "data": {
            "text/plain": [
              "['[CLS]',\n",
              " 'Which',\n",
              " 'deep',\n",
              " 'learning',\n",
              " 'libraries',\n",
              " 'back',\n",
              " '[UNK]',\n",
              " 'Transformers',\n",
              " '?',\n",
              " '[SEP]',\n",
              " '[UNK]',\n",
              " 'Transformers',\n",
              " ':',\n",
              " 'State',\n",
              " 'of',\n",
              " 'the',\n",
              " 'Art',\n",
              " 'NL',\n",
              " '##P',\n",
              " '[UNK]',\n",
              " 'Transformers',\n",
              " 'provides',\n",
              " 'thousands',\n",
              " 'of',\n",
              " 'pre',\n",
              " '##tra',\n",
              " '##ined',\n",
              " 'models',\n",
              " 'to',\n",
              " 'perform',\n",
              " 'tasks',\n",
              " 'on',\n",
              " 'texts',\n",
              " 'such',\n",
              " 'as',\n",
              " 'classification',\n",
              " ',',\n",
              " 'information',\n",
              " 'extraction',\n",
              " ',',\n",
              " 'question',\n",
              " 'answering',\n",
              " ',',\n",
              " 'sum',\n",
              " '##mar',\n",
              " '##ization',\n",
              " ',',\n",
              " 'translation',\n",
              " ',',\n",
              " 'text',\n",
              " 'generation',\n",
              " 'and',\n",
              " 'more',\n",
              " 'in',\n",
              " 'over',\n",
              " '100',\n",
              " 'languages',\n",
              " '.',\n",
              " 'Its',\n",
              " 'aim',\n",
              " 'is',\n",
              " 'to',\n",
              " 'make',\n",
              " 'cutting',\n",
              " '-',\n",
              " 'edge',\n",
              " 'NL',\n",
              " '##P',\n",
              " 'easier',\n",
              " 'to',\n",
              " 'use',\n",
              " 'for',\n",
              " 'everyone',\n",
              " '.',\n",
              " '[UNK]',\n",
              " 'Transformers',\n",
              " 'provides',\n",
              " 'API',\n",
              " '##s',\n",
              " 'to',\n",
              " 'quickly',\n",
              " 'download',\n",
              " 'and',\n",
              " 'use',\n",
              " 'those',\n",
              " 'pre',\n",
              " '##tra',\n",
              " '##ined',\n",
              " 'models',\n",
              " 'on',\n",
              " 'a',\n",
              " 'given',\n",
              " 'text',\n",
              " ',',\n",
              " 'fine',\n",
              " '-',\n",
              " 'tune',\n",
              " 'them',\n",
              " 'on',\n",
              " 'your',\n",
              " 'own',\n",
              " 'data',\n",
              " '##sets',\n",
              " 'and',\n",
              " 'then',\n",
              " 'share',\n",
              " 'them',\n",
              " 'with',\n",
              " 'the',\n",
              " 'community',\n",
              " 'on',\n",
              " 'our',\n",
              " 'model',\n",
              " 'hub',\n",
              " '.',\n",
              " 'At',\n",
              " 'the',\n",
              " 'same',\n",
              " 'time',\n",
              " ',',\n",
              " 'each',\n",
              " 'p',\n",
              " '##yt',\n",
              " '##hon',\n",
              " 'module',\n",
              " 'defining',\n",
              " 'an',\n",
              " 'architecture',\n",
              " 'is',\n",
              " 'fully',\n",
              " 'stand',\n",
              " '##alo',\n",
              " '##ne',\n",
              " 'and',\n",
              " 'can',\n",
              " 'be',\n",
              " 'modified',\n",
              " 'to',\n",
              " 'enable',\n",
              " 'quick',\n",
              " 'research',\n",
              " 'experiments',\n",
              " '.',\n",
              " 'Why',\n",
              " 'should',\n",
              " 'I',\n",
              " 'use',\n",
              " 'transform',\n",
              " '##ers',\n",
              " '?',\n",
              " '1',\n",
              " '.',\n",
              " 'Easy',\n",
              " '-',\n",
              " 'to',\n",
              " '-',\n",
              " 'use',\n",
              " 'state',\n",
              " '-',\n",
              " 'of',\n",
              " '-',\n",
              " 'the',\n",
              " '-',\n",
              " 'art',\n",
              " 'models',\n",
              " ':',\n",
              " '-',\n",
              " 'High',\n",
              " 'performance',\n",
              " 'on',\n",
              " 'NL',\n",
              " '##U',\n",
              " 'and',\n",
              " 'NL',\n",
              " '##G',\n",
              " 'tasks',\n",
              " '.',\n",
              " '-',\n",
              " 'Low',\n",
              " 'barrier',\n",
              " 'to',\n",
              " 'entry',\n",
              " 'for',\n",
              " 'educators',\n",
              " 'and',\n",
              " 'practitioners',\n",
              " '.',\n",
              " '-',\n",
              " 'Few',\n",
              " 'user',\n",
              " '-',\n",
              " 'facing',\n",
              " 'abstract',\n",
              " '##ions',\n",
              " 'with',\n",
              " 'just',\n",
              " 'three',\n",
              " 'classes',\n",
              " 'to',\n",
              " 'learn',\n",
              " '.',\n",
              " '-',\n",
              " 'A',\n",
              " 'unified',\n",
              " 'API',\n",
              " 'for',\n",
              " 'using',\n",
              " 'all',\n",
              " 'our',\n",
              " 'pre',\n",
              " '##tra',\n",
              " '##ined',\n",
              " 'models',\n",
              " '.',\n",
              " '-',\n",
              " 'Lower',\n",
              " 'com',\n",
              " '##pute',\n",
              " 'costs',\n",
              " ',',\n",
              " 'smaller',\n",
              " 'carbon',\n",
              " 'foot',\n",
              " '##print',\n",
              " ':',\n",
              " '2',\n",
              " '.',\n",
              " 'Researchers',\n",
              " 'can',\n",
              " 'share',\n",
              " 'trained',\n",
              " 'models',\n",
              " 'instead',\n",
              " 'of',\n",
              " 'always',\n",
              " 're',\n",
              " '##tra',\n",
              " '##ining',\n",
              " '.',\n",
              " '-',\n",
              " 'P',\n",
              " '##rac',\n",
              " '##ti',\n",
              " '##tion',\n",
              " '##ers',\n",
              " 'can',\n",
              " 'reduce',\n",
              " 'com',\n",
              " '##pute',\n",
              " 'time',\n",
              " 'and',\n",
              " 'production',\n",
              " 'costs',\n",
              " '.',\n",
              " '-',\n",
              " 'Do',\n",
              " '##zen',\n",
              " '##s',\n",
              " 'of',\n",
              " 'architecture',\n",
              " '##s',\n",
              " 'with',\n",
              " 'over',\n",
              " '10',\n",
              " ',',\n",
              " '000',\n",
              " 'pre',\n",
              " '##tra',\n",
              " '##ined',\n",
              " 'models',\n",
              " ',',\n",
              " 'some',\n",
              " 'in',\n",
              " 'more',\n",
              " 'than',\n",
              " '100',\n",
              " 'languages',\n",
              " '.',\n",
              " '3',\n",
              " '.',\n",
              " 'Cho',\n",
              " '##ose',\n",
              " 'the',\n",
              " 'right',\n",
              " 'framework',\n",
              " 'for',\n",
              " 'every',\n",
              " 'part',\n",
              " 'of',\n",
              " 'a',\n",
              " 'model',\n",
              " \"'\",\n",
              " 's',\n",
              " 'lifetime',\n",
              " ':',\n",
              " '-',\n",
              " 'Train',\n",
              " 'state',\n",
              " '-',\n",
              " 'of',\n",
              " '-',\n",
              " 'the',\n",
              " '-',\n",
              " 'art',\n",
              " 'models',\n",
              " 'in',\n",
              " '3',\n",
              " 'lines',\n",
              " 'of',\n",
              " 'code',\n",
              " '.',\n",
              " '-',\n",
              " 'Move',\n",
              " 'a',\n",
              " 'single',\n",
              " 'model',\n",
              " 'between',\n",
              " 'T',\n",
              " '##F',\n",
              " '##2',\n",
              " '.',\n",
              " '0',\n",
              " '/',\n",
              " 'P',\n",
              " '##y',\n",
              " '##T',\n",
              " '##or',\n",
              " '##ch',\n",
              " 'framework',\n",
              " '##s',\n",
              " 'at',\n",
              " 'will',\n",
              " '.',\n",
              " '-',\n",
              " 'Sea',\n",
              " '##m',\n",
              " '##lessly',\n",
              " 'pick',\n",
              " 'the',\n",
              " 'right',\n",
              " 'framework',\n",
              " 'for',\n",
              " 'training',\n",
              " ',',\n",
              " 'evaluation',\n",
              " 'and',\n",
              " 'production',\n",
              " '.',\n",
              " '4',\n",
              " '.',\n",
              " 'E',\n",
              " '##asily',\n",
              " 'custom',\n",
              " '##ize',\n",
              " 'a',\n",
              " 'model',\n",
              " 'or',\n",
              " 'an',\n",
              " 'example',\n",
              " 'to',\n",
              " 'your',\n",
              " 'needs',\n",
              " ':',\n",
              " '-',\n",
              " 'We',\n",
              " 'provide',\n",
              " 'examples',\n",
              " 'for',\n",
              " 'each',\n",
              " 'architecture',\n",
              " 'to',\n",
              " 'reproduce',\n",
              " 'the',\n",
              " 'results',\n",
              " 'published',\n",
              " 'by',\n",
              " 'its',\n",
              " 'original',\n",
              " 'authors',\n",
              " '.',\n",
              " '-',\n",
              " 'Model',\n",
              " 'internal',\n",
              " '[SEP]']"
            ]
          },
          "metadata": {},
          "execution_count": 152
        }
      ]
    },
    {
      "cell_type": "code",
      "source": [
        "sequence_ids = inputs.sequence_ids()\n",
        "\n",
        "# Mask everything apart from the tokens of the context\n",
        "mask = [i != 1 for i in sequence_ids]\n",
        "\n",
        "# Unmask the [CLS] token\n",
        "mask[0] = False\n",
        "\n",
        "# Mask all the [PAD] tokens\n",
        "mask = torch.logical_or(torch.tensor(mask)[None], (inputs[\"attention_mask\"] == 0))\n",
        "\n",
        "start_logits[mask] = -10000\n",
        "end_logits[mask] = -10000"
      ],
      "metadata": {
        "id": "924o__A731FK"
      },
      "execution_count": null,
      "outputs": []
    },
    {
      "cell_type": "markdown",
      "source": [
        "Then we can use the `softmax` to convert our logits to probabilities:"
      ],
      "metadata": {
        "id": "DahSF69u4O8s"
      }
    },
    {
      "cell_type": "code",
      "source": [
        "start_probabilities = torch.nn.functional.softmax(start_logits, dim=-1)\n",
        "end_probabilities = torch.nn.functional.softmax(end_logits, dim=-1)"
      ],
      "metadata": {
        "id": "wK8sK5u84PzE"
      },
      "execution_count": null,
      "outputs": []
    },
    {
      "cell_type": "markdown",
      "source": [
        "The next step is similar to what we did for the small context, but we **repeat it for each of our two chunks**. We attribute a **score to all possible spans of answer**, then **take the span with the best score**"
      ],
      "metadata": {
        "id": "OFs-ScY74W03"
      }
    },
    {
      "cell_type": "code",
      "source": [
        "candidates = []\n",
        "for start_probs, end_probs in zip(start_probabilities, end_probabilities):\n",
        "    scores = start_probs[:, None] * end_probs[None, :]\n",
        "    idx = torch.triu(scores).argmax().item()\n",
        "\n",
        "    start_idx = idx // scores.shape[1]\n",
        "    end_idx = idx % scores.shape[1]\n",
        "    score = scores[start_idx, end_idx].item()\n",
        "    candidates.append((start_idx, end_idx, score))\n",
        "\n",
        "print(candidates)"
      ],
      "metadata": {
        "colab": {
          "base_uri": "https://localhost:8080/"
        },
        "id": "igMa5kv04ax4",
        "outputId": "ade577fb-a82c-494f-8234-50e5f8c8869a"
      },
      "execution_count": null,
      "outputs": [
        {
          "output_type": "stream",
          "name": "stdout",
          "text": [
            "[(0, 18, 0.33867061138153076), (173, 184, 0.9714869856834412)]\n"
          ]
        }
      ]
    },
    {
      "cell_type": "markdown",
      "source": [
        "Those two candidates correspond to **the best answers the model was able to find in each chunk**. The model is way more confident the right answer is in the second part (which is a good sign!). Now we just have to **map those two token spans to spans of characters in the context** (we only need to map the second one to have our answer, but it’s interesting to see what the model has picked in the first chunk)."
      ],
      "metadata": {
        "id": "XVmJYuNr4vTb"
      }
    },
    {
      "cell_type": "markdown",
      "source": [
        "The `offsets` we grabbed earlier is actually a list of `offsets`, with one list per chunk of text"
      ],
      "metadata": {
        "id": "KshO192643JH"
      }
    },
    {
      "cell_type": "code",
      "source": [
        "for candidate, offset in zip(candidates, offsets):\n",
        "    start_token, end_token, score = candidate\n",
        "    start_char, _ = offset[start_token]\n",
        "    _, end_char = offset[end_token]\n",
        "    answer = long_context[start_char:end_char]\n",
        "    result = {\"answer\": answer, \"start\": start_char, \"end\": end_char, \"score\": score}\n",
        "    print(result)"
      ],
      "metadata": {
        "colab": {
          "base_uri": "https://localhost:8080/"
        },
        "id": "q7M5koXK457T",
        "outputId": "af86048b-3f41-4263-e1a1-330ce88d3350"
      },
      "execution_count": null,
      "outputs": [
        {
          "output_type": "stream",
          "name": "stdout",
          "text": [
            "{'answer': '\\n🤗 Transformers: State of the Art NLP', 'start': 0, 'end': 37, 'score': 0.33867061138153076}\n",
            "{'answer': 'Jax, PyTorch and TensorFlow', 'start': 1892, 'end': 1919, 'score': 0.9714869856834412}\n"
          ]
        }
      ]
    },
    {
      "cell_type": "markdown",
      "source": [
        "If we ignore the first result, we get the same result as our pipeline for this long context — yay!"
      ],
      "metadata": {
        "id": "AJaQ5keF5CPD"
      }
    },
    {
      "cell_type": "markdown",
      "source": [
        "## **`Normalization` and Pre-Tokenization**\n",
        "The three most common subword tokenization algorithms used with Transformer models (**Byte-Pair Encoding [BPE]**, **WordPiece**, and **Unigram**).\n",
        "\n",
        "Before splitting a text into subtokens (according to its model), the tokenizer performs two steps: ***normalization*** and ***pre-tokenization***."
      ],
      "metadata": {
        "id": "BjtK2BJiAG03"
      }
    },
    {
      "cell_type": "markdown",
      "source": [
        "### **Normalization**\n",
        "The normalization step involves some *general cleanup*, such as *removing needless whitespace*, *lowercasing*, and/or r*emoving accents*. If you’re familiar with **Unicode normalization** (such as NFC or NFKC), this is also something the tokenizer may apply."
      ],
      "metadata": {
        "id": "h-gAuLZx85zP"
      }
    },
    {
      "cell_type": "markdown",
      "source": [
        "The 🤗 Transformers tokenizer has an attribute called `backend_tokenizer` that provides **access to the underlying tokenizer** from the 🤗 Tokenizers library:"
      ],
      "metadata": {
        "id": "PWgz4e_BB0cP"
      }
    },
    {
      "cell_type": "code",
      "source": [
        "from transformers import AutoTokenizer\n",
        "\n",
        "# tokenizer = AutoTokenizer.from_pretrained(\"bert-base-uncased\")\n",
        "tokenizer = AutoTokenizer.from_pretrained(\"bert-base-cased\")\n",
        "print(type(tokenizer.backend_tokenizer))"
      ],
      "metadata": {
        "id": "t9-nRQm7B4Gf"
      },
      "execution_count": null,
      "outputs": []
    },
    {
      "cell_type": "markdown",
      "source": [
        "The `normalizer` attribute of the tokenizer object has a `normalize_str()` method that we can use to see **how the normalization is performed**"
      ],
      "metadata": {
        "id": "9VkZTEfzB9xd"
      }
    },
    {
      "cell_type": "code",
      "source": [
        "print(tokenizer.backend_tokenizer.normalizer.normalize_str(\"Héllò hôw are ü?\"))"
      ],
      "metadata": {
        "id": "lXTpuTRXCBvr"
      },
      "execution_count": null,
      "outputs": []
    },
    {
      "cell_type": "markdown",
      "source": [
        "`bert-base-uncased` ➡ applied lowecasing and removed the accents"
      ],
      "metadata": {
        "id": "MuXz_bQoCLFa"
      }
    },
    {
      "cell_type": "markdown",
      "source": [
        "### **Pre-Tokenization**\n",
        "A tokenizer cannot be trained on raw text alone. Instead, we first need to **split the texts into small entities**, like *words* on whitespace and punctuation. That’s where the pre-tokenization step comes in. Those words will be the boundaries of the subtokens the tokenizer can learn during its training"
      ],
      "metadata": {
        "id": "RAoyhMpj88xk"
      }
    },
    {
      "cell_type": "markdown",
      "source": [
        "To see **how a fast tokenizer performs** `pre-tokenization`, we can use the `pre_tokenize_str()` method of the `pre_tokenizer` attribute of the `tokenizer` object"
      ],
      "metadata": {
        "id": "r2SN29zWC1ZT"
      }
    },
    {
      "cell_type": "code",
      "source": [
        "tokenizer.backend_tokenizer.pre_tokenizer.pre_tokenize_str(\"Hello, how are  you?\")"
      ],
      "metadata": {
        "id": "74PBtg_yC9Fw"
      },
      "execution_count": null,
      "outputs": []
    },
    {
      "cell_type": "markdown",
      "source": [
        "Notice how the `tokenizer` is already keeping track of the offsets, which is how it can give us the offset mapping we used in the previous section. Here the tokenizer ignores the two spaces and replaces them with just one, but the offset jumps between are and `you` to `account` for that."
      ],
      "metadata": {
        "id": "4jldRt_oDauY"
      }
    },
    {
      "cell_type": "markdown",
      "source": [
        "Since we’re using a `BERT` tokenizer, the pre-tokenization involves splitting on whitespace and punctuation. Other tokenizers can have different rules for this step. For example, if we use the **`GPT-2` tokenizer**:"
      ],
      "metadata": {
        "id": "6ImW4yjqDiwF"
      }
    },
    {
      "cell_type": "code",
      "source": [
        "tokenizer = AutoTokenizer.from_pretrained(\"gpt2\")\n",
        "tokenizer.backend_tokenizer.pre_tokenizer.pre_tokenize_str(\"Hello, how are  you?\")\n",
        "\n",
        "# [('Hello', (0, 5)), (',', (5, 6)), ('Ġhow', (6, 10)), ('Ġare', (10, 14)), ('Ġ', (14, 15)), ('Ġyou', (15, 19)), ('?', (19, 20))]"
      ],
      "metadata": {
        "id": "0a717nBIDqtw"
      },
      "execution_count": null,
      "outputs": []
    },
    {
      "cell_type": "markdown",
      "source": [
        "it will split on whitespace and punctuation as well, but it will keep the spaces and replace them with a `Ġ` symbol.\n",
        "\n",
        "📔 Also note that unlike the BERT tokenizer, this (GPT-2) tokenizer does not ignore the double space."
      ],
      "metadata": {
        "id": "nzgmpCizDzx2"
      }
    },
    {
      "cell_type": "markdown",
      "source": [
        "For a last example, let’s have a look at the **`T5` tokenizer**, which is based on the `SentencePiece` algorithm"
      ],
      "metadata": {
        "id": "K59COdi-ESQ4"
      }
    },
    {
      "cell_type": "code",
      "source": [
        "tokenizer = AutoTokenizer.from_pretrained(\"t5-small\")\n",
        "tokenizer.backend_tokenizer.pre_tokenizer.pre_tokenize_str(\"Hello, how are  you?\")\n",
        "\n",
        "# [('▁Hello,', (0, 6)), ('▁how', (7, 10)), ('▁are', (11, 14)), ('▁you?', (16, 20))]"
      ],
      "metadata": {
        "id": "xXCmtFeLEZV7"
      },
      "execution_count": null,
      "outputs": []
    },
    {
      "cell_type": "markdown",
      "source": [
        "Like the GPT-2 tokenizer, this one *keeps spaces and replaces them with a specific token (_)*, but the T5 tokenizer *only splits on whitespace*, not punctuation. Also note that it added a space by default at the beginning of the sentence (before `Hello`) and ignored the double space between `are` and `you`"
      ],
      "metadata": {
        "id": "iwclBUiTEkob"
      }
    },
    {
      "cell_type": "markdown",
      "source": [],
      "metadata": {
        "id": "WxJddJEZD8fI"
      }
    },
    {
      "cell_type": "markdown",
      "source": [
        "### **SentencePiece**\n",
        "SentencePiece is a tokenization algorithm for the preprocessing of text that you can use with any of the models. It considers the text as a sequence of Unicode characters, and replaces spaces with a special character, `▁`. Used in conjunction with the *Unigram algorithm* (see section 7), it *doesn’t even require a pre-tokenization step*, which is very useful for languages where the space character is not used (like Chinese or Japanese)"
      ],
      "metadata": {
        "id": "qMRqGE5g8-95"
      }
    },
    {
      "cell_type": "markdown",
      "source": [
        "The other main feature of `SentencePiece` is **reversible tokenization**: since there is no special treatment of spaces, **decoding the tokens** is done simply by **concatenating them and replacing the `_s` with spaces,** -- this results in the normalized text. As we saw earlier, the *`BERT tokenizer` removes repeating spaces, so its tokenization is not reversible.*"
      ],
      "metadata": {
        "id": "8Cjr0wznHMFq"
      }
    },
    {
      "cell_type": "markdown",
      "source": [
        "## **`Byte-Pair Encoding` Tokenization**\n",
        "**Byte-Pair Encoding** (BPE) was initially developed as an **algorithm to compress texts**, and then used by OpenAI for tokenization when pretraining the GPT model. It’s used by a lot of Transformer models, including GPT, GPT-2, RoBERTa, BART, and DeBERTa"
      ],
      "metadata": {
        "id": "6mIBXvT9AHDc"
      }
    },
    {
      "cell_type": "markdown",
      "source": [
        "### **Training Algorithm**\n",
        "Compute the **unique set of words** used in corpus ➡ **build base vocabulary** by taking all the symbols (`\"hugs\"` 👉 `[\"h\",\"u\",\"g\",\"s\"]`) ➡ **add new tokens** until the desired vocab size reaching by **learning merges** (merge two elements into a new one)\n",
        "\n",
        "At any step during the tokenizer training, the **BPE algorithm** will search for **the most frequent pair of existing tokens** (by “pair,” here we mean two consecutive tokens in a word). That **most frequent pair is the one that will be merged**, and we rinse and repeat for the next step."
      ],
      "metadata": {
        "id": "DMcLgHeFmkQ_"
      }
    },
    {
      "cell_type": "markdown",
      "source": [
        "**Initial**:\n",
        "```\n",
        "corpus -> \"hug\", \"pug\", \"pun\", \"bun\", \"hugs\"\n",
        "vocabs -> [\"b\", \"g\", \"h\", \"n\", \"p\", \"s\", \"u\"]\n",
        "```\n",
        "**Frequenies (*training*)**:\n",
        "```\n",
        "freq -> (\"hug\", 10), (\"pug\", 5), (\"pun\", 12), (\"bun\", 4), (\"hugs\", 5)\n",
        "train -> (\"h\" \"u\" \"g\", 10), (\"p\" \"u\" \"g\", 5), (\"p\" \"u\" \"n\", 12), (\"b\" \"u\" \"n\", 4), (\"h\" \"u\" \"g\" \"s\", 5)\n",
        "```\n",
        "**Pairing** (*most frequent pair*):\n",
        "```\n",
        "first-merge = (\"u\", \"g\") -> \"ug\"\n",
        "Vocabulary: [\"b\", \"g\", \"h\", \"n\", \"p\", \"s\", \"u\", \"ug\"]\n",
        "Corpus: (\"h\" \"ug\", 10), (\"p\" \"ug\", 5), (\"p\" \"u\" \"n\", 12), (\"b\" \"u\" \"n\", 4), (\"h\" \"ug\" \"s\", 5)\n",
        "```\n",
        "Second pairing:\n",
        "```\n",
        "s2 = (\"u\", \"n\") -> \"un\"\n",
        "Vocabulary: [\"b\", \"g\", \"h\", \"n\", \"p\", \"s\", \"u\", \"ug\", \"un\"]\n",
        "Corpus: (\"h\" \"ug\", 10), (\"p\" \"ug\", 5), (\"p\" \"un\", 12), (\"b\" \"un\", 4), (\"h\" \"ug\" \"s\", 5)\n",
        "```\n",
        "Third pairing:\n",
        "```\n",
        "Vocabulary: [\"b\", \"g\", \"h\", \"n\", \"p\", \"s\", \"u\", \"ug\", \"un\", \"hug\"]\n",
        "Corpus: (\"hug\", 10), (\"p\" \"ug\", 5), (\"p\" \"un\", 12), (\"b\" \"un\", 4), (\"hug\" \"s\", 5)\n",
        "```"
      ],
      "metadata": {
        "id": "zKwNakAQr9bK"
      }
    },
    {
      "cell_type": "markdown",
      "source": [
        "### **Tokenization Algorithm**\n",
        "Tokenization follows the training process closely:\n",
        "1. Normalization\n",
        "2. Pre-tokenization\n",
        "3. Splitting the words into individual characters\n",
        "4. Applying the merge rules learned in order on those spli"
      ],
      "metadata": {
        "id": "olXwvHkdml8M"
      }
    },
    {
      "cell_type": "markdown",
      "source": [
        "Three Merge rules:\n",
        "```\n",
        "v: [\"ug\", \"un\", \"hug\"]\n",
        "```\n",
        "The word `\"bug\"` will be tokenized as `[\"b\", \"ug\"]`. `\"mug\"`, however, will be tokenized as `[\"[UNK]\", \"ug\"]` since the letter `\"m\"` was not in the base vocabulary."
      ],
      "metadata": {
        "id": "TOW4COvYub6q"
      }
    },
    {
      "cell_type": "markdown",
      "source": [
        "### **Implementing BPE**"
      ],
      "metadata": {
        "id": "NmhR92JimoTM"
      }
    },
    {
      "cell_type": "code",
      "source": [
        "# Create a simple corpurs --> few sentences\n",
        "corpus = [\n",
        "    \"This is the Hugging Face Course.\",\n",
        "    \"This chapter is about tokenization.\",\n",
        "    \"This section shows several tokenizer algorithms.\",\n",
        "    \"Hopefully, you will be able to understand how they are trained and generate tokens.\",\n",
        "]"
      ],
      "metadata": {
        "id": "nbp4XvYomoAM"
      },
      "execution_count": 1,
      "outputs": []
    },
    {
      "cell_type": "markdown",
      "source": [
        "Next, we need to **`pre-tokenize` that corpus into words**. Since we are replicating a **BPE tokenizer** (like GPT-2), we will use the `gpt2` tokenizer for the pre-tokenization"
      ],
      "metadata": {
        "id": "u4L0yDWTvLCd"
      }
    },
    {
      "cell_type": "code",
      "source": [
        "from transformers import AutoTokenizer\n",
        "\n",
        "tokenizer = AutoTokenizer.from_pretrained(\"gpt2\")"
      ],
      "metadata": {
        "colab": {
          "base_uri": "https://localhost:8080/",
          "height": 345,
          "referenced_widgets": [
            "5d6400093bf041e8b31c66507f3ac7bb",
            "5a128a4214e34ae6af05c7896894087d",
            "3be34dcec7e34b38929e0da096d908be",
            "79a7ac0ea2de4419bd65879aacdda3b2",
            "0e3b46fefafb4c81b31a5def543acef5",
            "55c683aa0f3f454ebd12cba27078fbfe",
            "62886b4a0c3c4772869925fb737aae06",
            "0bc0341f6bd145b5898af12ef6beb187",
            "0901fd4713fc44b99d1f176dcac50586",
            "301ff7ef5d1c44cc91e8c7b3eb41cc43",
            "c8108959f0504585a385ac6a4d3f63e7",
            "46a8758da44941ba912ed374ca51d3e8",
            "1b9a3ade10ae4698bd77103a8c233003",
            "f34ce5cb30444013afa4019282d89a86",
            "f11066bb3e2d436097eb53c4c67c6261",
            "8db7320343d741989cd2193fa6c1d254",
            "6b98e087faa140e392e08ed9b00997ad",
            "8995fabc1ab947ca908ed478127ed3b6",
            "4a9cb0d08e2045639ee00173c80b1504",
            "cc6a5a4b6a9a47dc88caebd93f3c9284",
            "87feb8daddf344eca3c991229c0f53a8",
            "3dd4088aa930463e94aa392817cd67c8",
            "8ad9a9844e8f43739364a69acb704b67",
            "d883185271b142e6aea2fd801a5cb686",
            "3c67d087037b490a9dc7753af043588b",
            "a4cad9c33e534a0b8fad2efac657f68e",
            "ad3220f9cccd4152b7703bcf5c365f46",
            "ee37ae72bd6240d88001d56da312cfc9",
            "ea2d539ca875402ab3ad371e45180d46",
            "554f2e45a537446da984a0147cef9151",
            "31578d3c9df74fcdaee9c07661fb15fa",
            "e2b49044462e44ecb43432dc5fcbee63",
            "61ae2d506bf047dd8a0d02e88bfdc2d7",
            "f22c62cfe875421db0c2f90e10136420",
            "497218973e4c4c848edb0e99ad8334db",
            "9477b35811104138958addee6f8f771f",
            "346e133a395943afa130127b35e7283e",
            "809f583ef7bd47bc859e8d2502ad8b56",
            "f4f4fe7afd144732b12e6beaf9cc8da4",
            "109d0153a5214c8197409f1832d1a9bd",
            "bdaf09a7eab74c959dfd32ccad1c41de",
            "cf8f25a29bb348b0a55ada70f6628304",
            "0c8a608863924620853be9eb28cbb61e",
            "63f97125571d43ca977cef961c9a9d83",
            "aed0cd18173b47bf933f151b4db874d4",
            "ca010276ea8f4eeaa0ee1598c67678d1",
            "5bfa485e152241a19dff6c64a5e0d71a",
            "953f6fe7656c4a9fa6b0886ea017f9c8",
            "45c2555974154b028a052b67b24bb728",
            "158234032f0042b092b57acf1d402029",
            "c596cf203c054b939ee5993931884973",
            "66d1ea9442e7421ea8609158885b0148",
            "99a5d9ed03ec4d848192284f0c906cd1",
            "7c26fab94c8749b2a3f76ee7fc875b3d",
            "bed5c5c756ee452cb64c9ef5ec9b32dd"
          ]
        },
        "id": "2vXWSJsgvVLr",
        "outputId": "a2f51d9d-434f-49f5-839d-233e702c533f"
      },
      "execution_count": 2,
      "outputs": [
        {
          "output_type": "stream",
          "name": "stderr",
          "text": [
            "/usr/local/lib/python3.10/dist-packages/huggingface_hub/utils/_token.py:89: UserWarning: \n",
            "The secret `HF_TOKEN` does not exist in your Colab secrets.\n",
            "To authenticate with the Hugging Face Hub, create a token in your settings tab (https://huggingface.co/settings/tokens), set it as secret in your Google Colab and restart your session.\n",
            "You will be able to reuse this secret in all of your notebooks.\n",
            "Please note that authentication is recommended but still optional to access public models or datasets.\n",
            "  warnings.warn(\n"
          ]
        },
        {
          "output_type": "display_data",
          "data": {
            "text/plain": [
              "tokenizer_config.json:   0%|          | 0.00/26.0 [00:00<?, ?B/s]"
            ],
            "application/vnd.jupyter.widget-view+json": {
              "version_major": 2,
              "version_minor": 0,
              "model_id": "5d6400093bf041e8b31c66507f3ac7bb"
            }
          },
          "metadata": {}
        },
        {
          "output_type": "display_data",
          "data": {
            "text/plain": [
              "config.json:   0%|          | 0.00/665 [00:00<?, ?B/s]"
            ],
            "application/vnd.jupyter.widget-view+json": {
              "version_major": 2,
              "version_minor": 0,
              "model_id": "46a8758da44941ba912ed374ca51d3e8"
            }
          },
          "metadata": {}
        },
        {
          "output_type": "display_data",
          "data": {
            "text/plain": [
              "vocab.json:   0%|          | 0.00/1.04M [00:00<?, ?B/s]"
            ],
            "application/vnd.jupyter.widget-view+json": {
              "version_major": 2,
              "version_minor": 0,
              "model_id": "8ad9a9844e8f43739364a69acb704b67"
            }
          },
          "metadata": {}
        },
        {
          "output_type": "display_data",
          "data": {
            "text/plain": [
              "merges.txt:   0%|          | 0.00/456k [00:00<?, ?B/s]"
            ],
            "application/vnd.jupyter.widget-view+json": {
              "version_major": 2,
              "version_minor": 0,
              "model_id": "f22c62cfe875421db0c2f90e10136420"
            }
          },
          "metadata": {}
        },
        {
          "output_type": "display_data",
          "data": {
            "text/plain": [
              "tokenizer.json:   0%|          | 0.00/1.36M [00:00<?, ?B/s]"
            ],
            "application/vnd.jupyter.widget-view+json": {
              "version_major": 2,
              "version_minor": 0,
              "model_id": "aed0cd18173b47bf933f151b4db874d4"
            }
          },
          "metadata": {}
        },
        {
          "output_type": "stream",
          "name": "stderr",
          "text": [
            "/usr/local/lib/python3.10/dist-packages/transformers/tokenization_utils_base.py:1601: FutureWarning: `clean_up_tokenization_spaces` was not set. It will be set to `True` by default. This behavior will be depracted in transformers v4.45, and will be then set to `False` by default. For more details check this issue: https://github.com/huggingface/transformers/issues/31884\n",
            "  warnings.warn(\n"
          ]
        }
      ]
    },
    {
      "cell_type": "markdown",
      "source": [
        "**Compute the frequencies of each word in the corpus** as we do the pre-tokenization:"
      ],
      "metadata": {
        "id": "J-iFP0mYvamZ"
      }
    },
    {
      "cell_type": "code",
      "source": [
        "from collections import defaultdict\n",
        "\n",
        "word_freqs = defaultdict(int)\n",
        "\n",
        "for text in corpus:\n",
        "    words_with_offsets = tokenizer.backend_tokenizer.pre_tokenizer.pre_tokenize_str(text)\n",
        "    new_words = [word for word, offset in words_with_offsets]\n",
        "    for word in new_words:\n",
        "        word_freqs[word] += 1\n",
        "\n",
        "print(word_freqs)"
      ],
      "metadata": {
        "colab": {
          "base_uri": "https://localhost:8080/"
        },
        "id": "I1jZyT9zvh-C",
        "outputId": "bc3ac812-4bd2-403a-cb02-c4e7eab29a33"
      },
      "execution_count": 3,
      "outputs": [
        {
          "output_type": "stream",
          "name": "stdout",
          "text": [
            "defaultdict(<class 'int'>, {'This': 3, 'Ġis': 2, 'Ġthe': 1, 'ĠHugging': 1, 'ĠFace': 1, 'ĠCourse': 1, '.': 4, 'Ġchapter': 1, 'Ġabout': 1, 'Ġtokenization': 1, 'Ġsection': 1, 'Ġshows': 1, 'Ġseveral': 1, 'Ġtokenizer': 1, 'Ġalgorithms': 1, 'Hopefully': 1, ',': 1, 'Ġyou': 1, 'Ġwill': 1, 'Ġbe': 1, 'Ġable': 1, 'Ġto': 1, 'Ġunderstand': 1, 'Ġhow': 1, 'Ġthey': 1, 'Ġare': 1, 'Ġtrained': 1, 'Ġand': 1, 'Ġgenerate': 1, 'Ġtokens': 1})\n"
          ]
        }
      ]
    },
    {
      "cell_type": "markdown",
      "source": [
        "The next step is to **compute the base vocabulary**, formed by all the characters used in the corpus:"
      ],
      "metadata": {
        "id": "5wXln2Qnyelu"
      }
    },
    {
      "cell_type": "code",
      "source": [
        "alphabet = []\n",
        "\n",
        "for word in word_freqs.keys():\n",
        "    for letter in word:\n",
        "        if letter not in alphabet:\n",
        "            alphabet.append(letter)\n",
        "alphabet.sort()\n",
        "\n",
        "print(alphabet)"
      ],
      "metadata": {
        "colab": {
          "base_uri": "https://localhost:8080/"
        },
        "id": "lMjAgdzPyggG",
        "outputId": "c6b16f69-e75a-43cb-b30c-ddfccd1ec9a4"
      },
      "execution_count": 4,
      "outputs": [
        {
          "output_type": "stream",
          "name": "stdout",
          "text": [
            "[',', '.', 'C', 'F', 'H', 'T', 'a', 'b', 'c', 'd', 'e', 'f', 'g', 'h', 'i', 'k', 'l', 'm', 'n', 'o', 'p', 'r', 's', 't', 'u', 'v', 'w', 'y', 'z', 'Ġ']\n"
          ]
        }
      ]
    },
    {
      "cell_type": "markdown",
      "source": [
        "We also **add the special tokens used by the model at the beginning of that vocabulary**. In the case of `GPT-2`, the only special token is `\"<|endoftext|>\"`."
      ],
      "metadata": {
        "id": "N3Y-ZOA_yrHq"
      }
    },
    {
      "cell_type": "code",
      "source": [
        "vocab = [\"<|endoftext|>\"] + alphabet.copy()"
      ],
      "metadata": {
        "id": "pDIFJwlIyxkw"
      },
      "execution_count": 5,
      "outputs": []
    },
    {
      "cell_type": "markdown",
      "source": [
        "We now need to **split each word into individual characters**, to be able to start training"
      ],
      "metadata": {
        "id": "WHTfv7k-y2tR"
      }
    },
    {
      "cell_type": "code",
      "source": [
        "splits = {word: [c for c in word] for word in word_freqs.keys()}\n",
        "splits"
      ],
      "metadata": {
        "colab": {
          "base_uri": "https://localhost:8080/"
        },
        "id": "wQldci6yy59F",
        "outputId": "4993c20c-1d46-4d7d-b894-44f1eb9d4758"
      },
      "execution_count": 6,
      "outputs": [
        {
          "output_type": "execute_result",
          "data": {
            "text/plain": [
              "{'This': ['T', 'h', 'i', 's'],\n",
              " 'Ġis': ['Ġ', 'i', 's'],\n",
              " 'Ġthe': ['Ġ', 't', 'h', 'e'],\n",
              " 'ĠHugging': ['Ġ', 'H', 'u', 'g', 'g', 'i', 'n', 'g'],\n",
              " 'ĠFace': ['Ġ', 'F', 'a', 'c', 'e'],\n",
              " 'ĠCourse': ['Ġ', 'C', 'o', 'u', 'r', 's', 'e'],\n",
              " '.': ['.'],\n",
              " 'Ġchapter': ['Ġ', 'c', 'h', 'a', 'p', 't', 'e', 'r'],\n",
              " 'Ġabout': ['Ġ', 'a', 'b', 'o', 'u', 't'],\n",
              " 'Ġtokenization': ['Ġ',\n",
              "  't',\n",
              "  'o',\n",
              "  'k',\n",
              "  'e',\n",
              "  'n',\n",
              "  'i',\n",
              "  'z',\n",
              "  'a',\n",
              "  't',\n",
              "  'i',\n",
              "  'o',\n",
              "  'n'],\n",
              " 'Ġsection': ['Ġ', 's', 'e', 'c', 't', 'i', 'o', 'n'],\n",
              " 'Ġshows': ['Ġ', 's', 'h', 'o', 'w', 's'],\n",
              " 'Ġseveral': ['Ġ', 's', 'e', 'v', 'e', 'r', 'a', 'l'],\n",
              " 'Ġtokenizer': ['Ġ', 't', 'o', 'k', 'e', 'n', 'i', 'z', 'e', 'r'],\n",
              " 'Ġalgorithms': ['Ġ', 'a', 'l', 'g', 'o', 'r', 'i', 't', 'h', 'm', 's'],\n",
              " 'Hopefully': ['H', 'o', 'p', 'e', 'f', 'u', 'l', 'l', 'y'],\n",
              " ',': [','],\n",
              " 'Ġyou': ['Ġ', 'y', 'o', 'u'],\n",
              " 'Ġwill': ['Ġ', 'w', 'i', 'l', 'l'],\n",
              " 'Ġbe': ['Ġ', 'b', 'e'],\n",
              " 'Ġable': ['Ġ', 'a', 'b', 'l', 'e'],\n",
              " 'Ġto': ['Ġ', 't', 'o'],\n",
              " 'Ġunderstand': ['Ġ', 'u', 'n', 'd', 'e', 'r', 's', 't', 'a', 'n', 'd'],\n",
              " 'Ġhow': ['Ġ', 'h', 'o', 'w'],\n",
              " 'Ġthey': ['Ġ', 't', 'h', 'e', 'y'],\n",
              " 'Ġare': ['Ġ', 'a', 'r', 'e'],\n",
              " 'Ġtrained': ['Ġ', 't', 'r', 'a', 'i', 'n', 'e', 'd'],\n",
              " 'Ġand': ['Ġ', 'a', 'n', 'd'],\n",
              " 'Ġgenerate': ['Ġ', 'g', 'e', 'n', 'e', 'r', 'a', 't', 'e'],\n",
              " 'Ġtokens': ['Ġ', 't', 'o', 'k', 'e', 'n', 's']}"
            ]
          },
          "metadata": {},
          "execution_count": 6
        }
      ]
    },
    {
      "cell_type": "markdown",
      "source": [
        "Now that we are ready for **training**, let’s write a function that **computes the frequency of each pair**."
      ],
      "metadata": {
        "id": "riw4rIJizRkR"
      }
    },
    {
      "cell_type": "code",
      "source": [
        "def compute_pair_freqs(splits):\n",
        "    pair_freqs = defaultdict(int)\n",
        "    for word, freq in word_freqs.items():\n",
        "        # This, 3\n",
        "        split = splits[word] # splits[This] --> T, h, i, s\n",
        "        if len(split) == 1:\n",
        "            continue\n",
        "        for i in range(len(split) - 1): # i to 3\n",
        "            pair = (split[i], split[i + 1]) # (split[0] T, split[1] h)\n",
        "            pair_freqs[pair] += freq # pair_freqs [T, h] = 3\n",
        "\n",
        "    return pair_freqs"
      ],
      "metadata": {
        "id": "EdganmtazTyp"
      },
      "execution_count": 8,
      "outputs": []
    },
    {
      "cell_type": "code",
      "source": [
        "pair_freqs = compute_pair_freqs(splits)\n",
        "\n",
        "for i, key in enumerate(pair_freqs.keys()):\n",
        "    print(f\"{key}: {pair_freqs[key]}\")\n",
        "    if i >= 5:\n",
        "        break"
      ],
      "metadata": {
        "colab": {
          "base_uri": "https://localhost:8080/"
        },
        "id": "bSMRJo06zhhY",
        "outputId": "0f6414ee-2acd-4aa3-8c9a-e0b1d70d8451"
      },
      "execution_count": 9,
      "outputs": [
        {
          "output_type": "stream",
          "name": "stdout",
          "text": [
            "('T', 'h'): 3\n",
            "('h', 'i'): 3\n",
            "('i', 's'): 5\n",
            "('Ġ', 'i'): 2\n",
            "('Ġ', 't'): 7\n",
            "('t', 'h'): 3\n"
          ]
        }
      ]
    },
    {
      "cell_type": "markdown",
      "source": [
        "Now, finding **the most frequent pair only** takes a quick loop"
      ],
      "metadata": {
        "id": "e5IHKVsS0dZG"
      }
    },
    {
      "cell_type": "code",
      "source": [
        "best_pair = \"\"\n",
        "max_freq = None\n",
        "\n",
        "for pair, freq in pair_freqs.items():\n",
        "    if max_freq is None or max_freq < freq:\n",
        "        best_pair = pair\n",
        "        max_freq = freq\n",
        "\n",
        "print(best_pair, max_freq)"
      ],
      "metadata": {
        "colab": {
          "base_uri": "https://localhost:8080/"
        },
        "id": "aqkaAlRH0flP",
        "outputId": "7a9b99aa-58fa-4ebf-ccc6-1b3f16d0b10c"
      },
      "execution_count": 10,
      "outputs": [
        {
          "output_type": "stream",
          "name": "stdout",
          "text": [
            "('Ġ', 't') 7\n"
          ]
        }
      ]
    },
    {
      "cell_type": "markdown",
      "source": [
        "So the first merge to learn is `('Ġ', 't') -> 'Ġt'`, and we add `'Ġt`' to the vocabulary"
      ],
      "metadata": {
        "id": "xE-bfkHM0n53"
      }
    },
    {
      "cell_type": "code",
      "source": [
        "merges = {(\"Ġ\", \"t\"): \"Ġt\"}\n",
        "vocab.append(\"Ġt\")"
      ],
      "metadata": {
        "id": "erjJzhI10r3p"
      },
      "execution_count": 11,
      "outputs": []
    },
    {
      "cell_type": "markdown",
      "source": [
        "To continue, we need to **apply that merge in our splits dictionary**."
      ],
      "metadata": {
        "id": "xuSSVNuH00Dl"
      }
    },
    {
      "cell_type": "code",
      "source": [
        "def merge_pair(a, b, splits): #\"Ġ\", \"t\", splits\n",
        "    for word in word_freqs:\n",
        "        split = splits[word] #value --> 3\n",
        "        if len(split) == 1:\n",
        "            continue\n",
        "\n",
        "        i = 0\n",
        "        while i < len(split) - 1: # 2\n",
        "            if split[i] == a and split[i + 1] == b: #\"Ġ\" and \"t\"\n",
        "                split = split[:i] + [a + b] + split[i + 2 :] # split[:0] + [\"Ġ\"+\"t\"] + split[2:]\n",
        "            else:\n",
        "                i += 1\n",
        "        splits[word] = split\n",
        "    return splits"
      ],
      "metadata": {
        "id": "CEhVo_Tz06tL"
      },
      "execution_count": 12,
      "outputs": []
    },
    {
      "cell_type": "code",
      "source": [
        "splits = merge_pair(\"Ġ\", \"t\", splits)\n",
        "print(splits[\"Ġtrained\"])"
      ],
      "metadata": {
        "colab": {
          "base_uri": "https://localhost:8080/"
        },
        "id": "6RLwGSbk0_e0",
        "outputId": "b96474c2-da95-488e-fc78-46d6c3da02c3"
      },
      "execution_count": 13,
      "outputs": [
        {
          "output_type": "stream",
          "name": "stdout",
          "text": [
            "['Ġt', 'r', 'a', 'i', 'n', 'e', 'd']\n"
          ]
        }
      ]
    },
    {
      "cell_type": "markdown",
      "source": [
        "Now we have everything we need to loop until we have learned all the merges we want. Let’s aim for a vocab size of 50:"
      ],
      "metadata": {
        "id": "ejl1BDaN1nrm"
      }
    },
    {
      "cell_type": "code",
      "source": [
        "vocab_size = 50\n",
        "\n",
        "while len(vocab) < vocab_size:\n",
        "    pair_freqs = compute_pair_freqs(splits)\n",
        "    best_pair = \"\"\n",
        "    max_freq = None\n",
        "    for pair, freq in pair_freqs.items():\n",
        "        if max_freq is None or max_freq < freq:\n",
        "            best_pair = pair\n",
        "            max_freq = freq\n",
        "    splits = merge_pair(*best_pair, splits)\n",
        "    merges[best_pair] = best_pair[0] + best_pair[1]\n",
        "    vocab.append(best_pair[0] + best_pair[1])"
      ],
      "metadata": {
        "id": "QshkCTiv1pNY"
      },
      "execution_count": 14,
      "outputs": []
    },
    {
      "cell_type": "markdown",
      "source": [
        "As a result, we’ve learned 19 merge rules (the initial vocabulary had a size of 31 — 30 characters in the alphabet, plus the special token):"
      ],
      "metadata": {
        "id": "L7fiGZde1zSj"
      }
    },
    {
      "cell_type": "code",
      "source": [
        "print(merges)"
      ],
      "metadata": {
        "colab": {
          "base_uri": "https://localhost:8080/"
        },
        "id": "vH7_H9EF103i",
        "outputId": "51e6aaca-325d-4296-ef2d-4f3c644524c1"
      },
      "execution_count": 15,
      "outputs": [
        {
          "output_type": "stream",
          "name": "stdout",
          "text": [
            "{('Ġ', 't'): 'Ġt', ('i', 's'): 'is', ('e', 'r'): 'er', ('Ġ', 'a'): 'Ġa', ('Ġt', 'o'): 'Ġto', ('e', 'n'): 'en', ('T', 'h'): 'Th', ('Th', 'is'): 'This', ('o', 'u'): 'ou', ('s', 'e'): 'se', ('Ġto', 'k'): 'Ġtok', ('Ġtok', 'en'): 'Ġtoken', ('n', 'd'): 'nd', ('Ġ', 'is'): 'Ġis', ('Ġt', 'h'): 'Ġth', ('Ġth', 'e'): 'Ġthe', ('i', 'n'): 'in', ('Ġa', 'b'): 'Ġab', ('Ġtoken', 'i'): 'Ġtokeni'}\n"
          ]
        }
      ]
    },
    {
      "cell_type": "code",
      "source": [
        "print(vocab)"
      ],
      "metadata": {
        "colab": {
          "base_uri": "https://localhost:8080/"
        },
        "id": "7bW9y4sQ16L3",
        "outputId": "702f1a5c-9afb-4540-fa49-e723ec80cb3a"
      },
      "execution_count": 16,
      "outputs": [
        {
          "output_type": "stream",
          "name": "stdout",
          "text": [
            "['<|endoftext|>', ',', '.', 'C', 'F', 'H', 'T', 'a', 'b', 'c', 'd', 'e', 'f', 'g', 'h', 'i', 'k', 'l', 'm', 'n', 'o', 'p', 'r', 's', 't', 'u', 'v', 'w', 'y', 'z', 'Ġ', 'Ġt', 'is', 'er', 'Ġa', 'Ġto', 'en', 'Th', 'This', 'ou', 'se', 'Ġtok', 'Ġtoken', 'nd', 'Ġis', 'Ġth', 'Ġthe', 'in', 'Ġab', 'Ġtokeni']\n"
          ]
        }
      ]
    },
    {
      "cell_type": "markdown",
      "source": [
        "💡 Using `train_new_from_iterator()` on the same corpus won’t result in the exact same vocabulary. This is because when there is a choice of the most frequent pair, we selected the first one encountered, while the 🤗 Tokenizers library selects the first one based on its inner IDs."
      ],
      "metadata": {
        "id": "rJelUtQI2S3S"
      }
    },
    {
      "cell_type": "markdown",
      "source": [
        "To **tokenize a new text**, we `pre-tokenize it`, `split it`, then `apply all the merge rules learned`."
      ],
      "metadata": {
        "id": "NOpnvzsl2T0Q"
      }
    },
    {
      "cell_type": "code",
      "source": [
        "def tokenize(text):\n",
        "    pre_tokenize_result = tokenizer._tokenizer.pre_tokenizer.pre_tokenize_str(text) # word and it offsite\n",
        "    pre_tokenized_text = [word for word, offset in pre_tokenize_result] # get the word only\n",
        "    splits = [[l for l in word] for word in pre_tokenized_text] # [split the words into single character]\n",
        "    for pair, merge in merges.items(): # ex -> ('Ġ', 't'): 'Ġt'\n",
        "        for idx, split in enumerate(splits): # [..., ... , ...]\n",
        "            i = 0\n",
        "            while i < len(split) - 1:\n",
        "                if split[i] == pair[0] and split[i + 1] == pair[1]:\n",
        "                    split = split[:i] + [merge] + split[i + 2 :]\n",
        "                else:\n",
        "                    i += 1\n",
        "            splits[idx] = split\n",
        "\n",
        "    return sum(splits, [])"
      ],
      "metadata": {
        "id": "FWVYPRUZ2bpq"
      },
      "execution_count": 17,
      "outputs": []
    },
    {
      "cell_type": "code",
      "source": [
        "tokenize(\"This is not a token.\")"
      ],
      "metadata": {
        "colab": {
          "base_uri": "https://localhost:8080/"
        },
        "id": "1S98fPUs3j_l",
        "outputId": "074c2e08-b667-48b2-c87d-e308c61ae4f2"
      },
      "execution_count": 18,
      "outputs": [
        {
          "output_type": "execute_result",
          "data": {
            "text/plain": [
              "['This', 'Ġis', 'Ġ', 'n', 'o', 't', 'Ġa', 'Ġtoken', '.']"
            ]
          },
          "metadata": {},
          "execution_count": 18
        }
      ]
    },
    {
      "cell_type": "code",
      "source": [
        "# Example with emojis\n",
        "print(tokenize(\"😀This is smiley😀\"))"
      ],
      "metadata": {
        "colab": {
          "base_uri": "https://localhost:8080/"
        },
        "id": "aImcVIAn3xd1",
        "outputId": "b6982670-d5c8-4232-9a92-210298cedcff"
      },
      "execution_count": 28,
      "outputs": [
        {
          "output_type": "stream",
          "name": "stdout",
          "text": [
            "['ð', 'Ł', 'ĺ', 'Ģ', 'This', 'Ġis', 'Ġ', 's', 'm', 'i', 'l', 'e', 'y', 'ð', 'Ł', 'ĺ', 'Ģ']\n"
          ]
        }
      ]
    },
    {
      "cell_type": "markdown",
      "source": [
        "⚠️ Our implementation will throw an error if there is an unknown character since we didn’t do anything to handle them. **`GPT-2` doesn’t actually have an unknown token** (*it’s impossible to get an unknown character when using byte-level BPE*), but this could happen here because we did not include all the possible bytes in the initial vocabulary. This aspect of BPE is beyond the scope of this section, so we’ve left the details out."
      ],
      "metadata": {
        "id": "V7J7eSBO3w7i"
      }
    },
    {
      "cell_type": "markdown",
      "source": [
        "## **`WordPiece` Tokenization**"
      ],
      "metadata": {
        "id": "KSJKnjY-AHUu"
      }
    },
    {
      "cell_type": "markdown",
      "source": [
        "## **`Unigram` Tokenization**"
      ],
      "metadata": {
        "id": "WRIvkgefAHkK"
      }
    },
    {
      "cell_type": "markdown",
      "source": [
        "## **Building a Tokenizer, block-by-block**"
      ],
      "metadata": {
        "id": "vrPxg2ALAH0G"
      }
    }
  ]
}